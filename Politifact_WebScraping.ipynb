{
  "nbformat": 4,
  "nbformat_minor": 0,
  "metadata": {
    "colab": {
      "name": "Politifact_WebScraping.ipynb",
      "provenance": [],
      "collapsed_sections": [],
      "include_colab_link": true
    },
    "kernelspec": {
      "display_name": "Python 3",
      "name": "python3"
    },
    "accelerator": "GPU"
  },
  "cells": [
    {
      "cell_type": "markdown",
      "metadata": {
        "id": "view-in-github",
        "colab_type": "text"
      },
      "source": [
        "<a href=\"https://colab.research.google.com/github/anvithakp/ML-Google-Colab/blob/master/Politifact_WebScraping.ipynb\" target=\"_parent\"><img src=\"https://colab.research.google.com/assets/colab-badge.svg\" alt=\"Open In Colab\"/></a>"
      ]
    },
    {
      "cell_type": "markdown",
      "metadata": {
        "id": "hY7oxGEzaF3t"
      },
      "source": [
        "## **Used Beautiful Soup to perform webscraping on politifact.com**\r\n",
        "\r\n"
      ]
    },
    {
      "cell_type": "code",
      "metadata": {
        "colab": {
          "base_uri": "https://localhost:8080/"
        },
        "id": "lfir87Bnf3Rd",
        "outputId": "114a4702-e0b8-4a0c-c316-5ad46b2f0e68"
      },
      "source": [
        "!pip install selenium"
      ],
      "execution_count": null,
      "outputs": [
        {
          "output_type": "stream",
          "text": [
            "Collecting selenium\n",
            "\u001b[?25l  Downloading https://files.pythonhosted.org/packages/80/d6/4294f0b4bce4de0abf13e17190289f9d0613b0a44e5dd6a7f5ca98459853/selenium-3.141.0-py2.py3-none-any.whl (904kB)\n",
            "\r\u001b[K     |▍                               | 10kB 21.9MB/s eta 0:00:01\r\u001b[K     |▊                               | 20kB 17.6MB/s eta 0:00:01\r\u001b[K     |█                               | 30kB 10.9MB/s eta 0:00:01\r\u001b[K     |█▌                              | 40kB 9.1MB/s eta 0:00:01\r\u001b[K     |█▉                              | 51kB 7.4MB/s eta 0:00:01\r\u001b[K     |██▏                             | 61kB 7.8MB/s eta 0:00:01\r\u001b[K     |██▌                             | 71kB 8.2MB/s eta 0:00:01\r\u001b[K     |███                             | 81kB 8.2MB/s eta 0:00:01\r\u001b[K     |███▎                            | 92kB 8.3MB/s eta 0:00:01\r\u001b[K     |███▋                            | 102kB 8.5MB/s eta 0:00:01\r\u001b[K     |████                            | 112kB 8.5MB/s eta 0:00:01\r\u001b[K     |████▍                           | 122kB 8.5MB/s eta 0:00:01\r\u001b[K     |████▊                           | 133kB 8.5MB/s eta 0:00:01\r\u001b[K     |█████                           | 143kB 8.5MB/s eta 0:00:01\r\u001b[K     |█████▍                          | 153kB 8.5MB/s eta 0:00:01\r\u001b[K     |█████▉                          | 163kB 8.5MB/s eta 0:00:01\r\u001b[K     |██████▏                         | 174kB 8.5MB/s eta 0:00:01\r\u001b[K     |██████▌                         | 184kB 8.5MB/s eta 0:00:01\r\u001b[K     |██████▉                         | 194kB 8.5MB/s eta 0:00:01\r\u001b[K     |███████▎                        | 204kB 8.5MB/s eta 0:00:01\r\u001b[K     |███████▋                        | 215kB 8.5MB/s eta 0:00:01\r\u001b[K     |████████                        | 225kB 8.5MB/s eta 0:00:01\r\u001b[K     |████████▎                       | 235kB 8.5MB/s eta 0:00:01\r\u001b[K     |████████▊                       | 245kB 8.5MB/s eta 0:00:01\r\u001b[K     |█████████                       | 256kB 8.5MB/s eta 0:00:01\r\u001b[K     |█████████▍                      | 266kB 8.5MB/s eta 0:00:01\r\u001b[K     |█████████▉                      | 276kB 8.5MB/s eta 0:00:01\r\u001b[K     |██████████▏                     | 286kB 8.5MB/s eta 0:00:01\r\u001b[K     |██████████▌                     | 296kB 8.5MB/s eta 0:00:01\r\u001b[K     |██████████▉                     | 307kB 8.5MB/s eta 0:00:01\r\u001b[K     |███████████▎                    | 317kB 8.5MB/s eta 0:00:01\r\u001b[K     |███████████▋                    | 327kB 8.5MB/s eta 0:00:01\r\u001b[K     |████████████                    | 337kB 8.5MB/s eta 0:00:01\r\u001b[K     |████████████▎                   | 348kB 8.5MB/s eta 0:00:01\r\u001b[K     |████████████▊                   | 358kB 8.5MB/s eta 0:00:01\r\u001b[K     |█████████████                   | 368kB 8.5MB/s eta 0:00:01\r\u001b[K     |█████████████▍                  | 378kB 8.5MB/s eta 0:00:01\r\u001b[K     |█████████████▊                  | 389kB 8.5MB/s eta 0:00:01\r\u001b[K     |██████████████▏                 | 399kB 8.5MB/s eta 0:00:01\r\u001b[K     |██████████████▌                 | 409kB 8.5MB/s eta 0:00:01\r\u001b[K     |██████████████▉                 | 419kB 8.5MB/s eta 0:00:01\r\u001b[K     |███████████████▏                | 430kB 8.5MB/s eta 0:00:01\r\u001b[K     |███████████████▋                | 440kB 8.5MB/s eta 0:00:01\r\u001b[K     |████████████████                | 450kB 8.5MB/s eta 0:00:01\r\u001b[K     |████████████████▎               | 460kB 8.5MB/s eta 0:00:01\r\u001b[K     |████████████████▋               | 471kB 8.5MB/s eta 0:00:01\r\u001b[K     |█████████████████               | 481kB 8.5MB/s eta 0:00:01\r\u001b[K     |█████████████████▍              | 491kB 8.5MB/s eta 0:00:01\r\u001b[K     |█████████████████▊              | 501kB 8.5MB/s eta 0:00:01\r\u001b[K     |██████████████████▏             | 512kB 8.5MB/s eta 0:00:01\r\u001b[K     |██████████████████▌             | 522kB 8.5MB/s eta 0:00:01\r\u001b[K     |██████████████████▉             | 532kB 8.5MB/s eta 0:00:01\r\u001b[K     |███████████████████▏            | 542kB 8.5MB/s eta 0:00:01\r\u001b[K     |███████████████████▋            | 552kB 8.5MB/s eta 0:00:01\r\u001b[K     |████████████████████            | 563kB 8.5MB/s eta 0:00:01\r\u001b[K     |████████████████████▎           | 573kB 8.5MB/s eta 0:00:01\r\u001b[K     |████████████████████▋           | 583kB 8.5MB/s eta 0:00:01\r\u001b[K     |█████████████████████           | 593kB 8.5MB/s eta 0:00:01\r\u001b[K     |█████████████████████▍          | 604kB 8.5MB/s eta 0:00:01\r\u001b[K     |█████████████████████▊          | 614kB 8.5MB/s eta 0:00:01\r\u001b[K     |██████████████████████          | 624kB 8.5MB/s eta 0:00:01\r\u001b[K     |██████████████████████▌         | 634kB 8.5MB/s eta 0:00:01\r\u001b[K     |██████████████████████▉         | 645kB 8.5MB/s eta 0:00:01\r\u001b[K     |███████████████████████▏        | 655kB 8.5MB/s eta 0:00:01\r\u001b[K     |███████████████████████▌        | 665kB 8.5MB/s eta 0:00:01\r\u001b[K     |████████████████████████        | 675kB 8.5MB/s eta 0:00:01\r\u001b[K     |████████████████████████▎       | 686kB 8.5MB/s eta 0:00:01\r\u001b[K     |████████████████████████▋       | 696kB 8.5MB/s eta 0:00:01\r\u001b[K     |█████████████████████████       | 706kB 8.5MB/s eta 0:00:01\r\u001b[K     |█████████████████████████▍      | 716kB 8.5MB/s eta 0:00:01\r\u001b[K     |█████████████████████████▊      | 727kB 8.5MB/s eta 0:00:01\r\u001b[K     |██████████████████████████      | 737kB 8.5MB/s eta 0:00:01\r\u001b[K     |██████████████████████████▍     | 747kB 8.5MB/s eta 0:00:01\r\u001b[K     |██████████████████████████▉     | 757kB 8.5MB/s eta 0:00:01\r\u001b[K     |███████████████████████████▏    | 768kB 8.5MB/s eta 0:00:01\r\u001b[K     |███████████████████████████▌    | 778kB 8.5MB/s eta 0:00:01\r\u001b[K     |████████████████████████████    | 788kB 8.5MB/s eta 0:00:01\r\u001b[K     |████████████████████████████▎   | 798kB 8.5MB/s eta 0:00:01\r\u001b[K     |████████████████████████████▋   | 808kB 8.5MB/s eta 0:00:01\r\u001b[K     |█████████████████████████████   | 819kB 8.5MB/s eta 0:00:01\r\u001b[K     |█████████████████████████████▍  | 829kB 8.5MB/s eta 0:00:01\r\u001b[K     |█████████████████████████████▊  | 839kB 8.5MB/s eta 0:00:01\r\u001b[K     |██████████████████████████████  | 849kB 8.5MB/s eta 0:00:01\r\u001b[K     |██████████████████████████████▍ | 860kB 8.5MB/s eta 0:00:01\r\u001b[K     |██████████████████████████████▉ | 870kB 8.5MB/s eta 0:00:01\r\u001b[K     |███████████████████████████████▏| 880kB 8.5MB/s eta 0:00:01\r\u001b[K     |███████████████████████████████▌| 890kB 8.5MB/s eta 0:00:01\r\u001b[K     |███████████████████████████████▉| 901kB 8.5MB/s eta 0:00:01\r\u001b[K     |████████████████████████████████| 911kB 8.5MB/s \n",
            "\u001b[?25hRequirement already satisfied: urllib3 in /usr/local/lib/python3.6/dist-packages (from selenium) (1.24.3)\n",
            "Installing collected packages: selenium\n",
            "Successfully installed selenium-3.141.0\n"
          ],
          "name": "stdout"
        }
      ]
    },
    {
      "cell_type": "code",
      "metadata": {
        "colab": {
          "base_uri": "https://localhost:8080/"
        },
        "id": "kCgRA8Maf7Wn",
        "outputId": "7cec548d-e35d-460d-e63d-10f6e273057c"
      },
      "source": [
        "!pip install prettify"
      ],
      "execution_count": null,
      "outputs": [
        {
          "output_type": "stream",
          "text": [
            "Collecting prettify\n",
            "  Downloading https://files.pythonhosted.org/packages/bf/41/4b8104d757fa78949eb38eaa74a6e4046fcb8d67ea85e762361c175423a8/prettify-0.1.1.tar.gz\n",
            "Building wheels for collected packages: prettify\n",
            "  Building wheel for prettify (setup.py) ... \u001b[?25l\u001b[?25hdone\n",
            "  Created wheel for prettify: filename=prettify-0.1.1-cp36-none-any.whl size=8424 sha256=484351bbc8ae9c742c6b08ad029ef120ac537888e6d5f9a6d188df6ba23731be\n",
            "  Stored in directory: /root/.cache/pip/wheels/49/44/c3/f997cb138383a4a0399a6b2f75012746c533a24ff6b02fafe0\n",
            "Successfully built prettify\n",
            "Installing collected packages: prettify\n",
            "Successfully installed prettify-0.1.1\n"
          ],
          "name": "stdout"
        }
      ]
    },
    {
      "cell_type": "code",
      "metadata": {
        "colab": {
          "base_uri": "https://localhost:8080/"
        },
        "id": "fzG3rabWgAAd",
        "outputId": "99b23947-8497-423c-8ca5-2ece3fdbdb95"
      },
      "source": [
        "!pip install htmltext"
      ],
      "execution_count": null,
      "outputs": [
        {
          "output_type": "stream",
          "text": [
            "Collecting htmltext\n",
            "  Downloading https://files.pythonhosted.org/packages/d7/1c/f6d5062c3667c8ab398ab8d016424bc2d88fe2a48fee2cd61e52d3bad61b/htmltext-0.0.7-py3-none-any.whl\n",
            "Requirement already satisfied: lxml in /usr/local/lib/python3.6/dist-packages (from htmltext) (4.2.6)\n",
            "Requirement already satisfied: beautifulsoup4 in /usr/local/lib/python3.6/dist-packages (from htmltext) (4.6.3)\n",
            "Installing collected packages: htmltext\n",
            "Successfully installed htmltext-0.0.7\n"
          ],
          "name": "stdout"
        }
      ]
    },
    {
      "cell_type": "code",
      "metadata": {
        "id": "S0dyJSBLgNuK"
      },
      "source": [
        "import os\n",
        "from bs4 import BeautifulSoup\n",
        "from selenium import webdriver\n",
        "from selenium.webdriver.common.keys import Keys\n",
        "from selenium.webdriver.common.by import By\n",
        "import time\n",
        "import sys\n",
        "import numpy as np\n",
        "import pandas as pd\n",
        "import regex as re\n",
        "import requests\n",
        "import lxml\n",
        "from lxml.html.soupparser import fromstring\n",
        "import prettify\n",
        "import numbers\n",
        "import htmltext\n",
        "import json"
      ],
      "execution_count": null,
      "outputs": []
    },
    {
      "cell_type": "code",
      "metadata": {
        "id": "oAimuSxDhFie"
      },
      "source": [
        "pd.set_option('display.max_rows', 500)\n",
        "pd.set_option('display.max_columns', 500)\n",
        "pd.set_option('display.width', 1000)"
      ],
      "execution_count": null,
      "outputs": []
    },
    {
      "cell_type": "code",
      "metadata": {
        "id": "2tB-9WuThKBr"
      },
      "source": [
        "#add headers in case you use chromedriver (captchas are no fun); namely used for chromedriver\n",
        "req_headers = {\n",
        "    'accept': 'text/html,application/xhtml+xml,application/xml;q=0.9,image/webp,image/apng,*/*;q=0.8',\n",
        "    'accept-encoding': 'gzip, deflate, br',\n",
        "    'accept-language': 'en-US,en;q=0.8',\n",
        "    'upgrade-insecure-requests': '1',\n",
        "    'user-agent': 'Mozilla/5.0 (Windows NT 10.0; Win64; x64) AppleWebKit/537.36 (KHTML, like Gecko) Chrome/61.9.3163.100 Safari/537.36'\n",
        "}\n",
        "\n",
        "my_headers = {\n",
        "    'Access-Control-Allow-Origin': '*',\n",
        "    'Access-Control-Allow-Methods': 'GET',\n",
        "    'Access-Control-Allow-Headers': 'Content-Type',\n",
        "    'Access-Control-Max-Age': '3600',\n",
        "    'User-Agent': 'Mozilla/5.0 (X11; Ubuntu; Linux x86_64; rv:52.0) Gecko/20100101 Firefox/52.0'\n",
        "    }"
      ],
      "execution_count": null,
      "outputs": []
    },
    {
      "cell_type": "code",
      "metadata": {
        "colab": {
          "base_uri": "https://localhost:8080/"
        },
        "id": "yZox4pqKgKOG",
        "outputId": "021da7e9-b11e-427e-d5c7-235fcb0900b6"
      },
      "source": [
        "from urllib.parse import urlparse, parse_qs\n",
        "import pandas as pd\n",
        "import re\n",
        "with requests.Session() as s:\n",
        "  page_start = 1\n",
        "  #n_pages = 600\n",
        "  n_pages = 1\n",
        "  seconds_pause = 2\n",
        "  articles = []\n",
        "  \n",
        "class Article:\n",
        "  def __init__(self, meter,source,content,name,ref, context, content_href):\n",
        "    self.meter = meter\n",
        "    self.source = source\n",
        "    self.content = content\n",
        "    self.name = name\n",
        "    self.ref = ref\n",
        "    self.context = context\n",
        "    self.content_href = content_href\n",
        "\n",
        "pm = re.compile(r\"in (.*):$\")\n",
        "col_name = [\"meter\",\"source\",\"statement\",\"context\",\"tags\"]\n",
        "column_names = [\"true\",\"mostly-true\",\"half-true\",\"barely-true\",\"false\",\"pants-fire\"]\n",
        "data_frame = pd.DataFrame(columns = col_name+column_names)\n",
        "\n",
        "for page_number in range(page_start, n_pages + 1):\n",
        "        # Get html from that page\n",
        "        page_url = 'https://www.politifact.com/factchecks/list/?page={}'.format(page_number)\n",
        "        print(page_url)\n",
        "        r = s.get(page_url, headers=my_headers)\n",
        "        soup = BeautifulSoup(r.content, 'html.parser')\n",
        "        statements = soup.find_all(\"article\", class_= 'm-statement')\n",
        "        for statement in statements:\n",
        "          meter = statement.attrs['class'][2].split(\"m-statement--\",1)[1]\n",
        "          source_details = statement.find(\"a\", class_= 'm-statement__name')\n",
        "          source = source_details.string.strip()\n",
        "          ref = source_details['href']\n",
        "          content = statement.find(\"div\", class_ = 'm-statement__quote').find(\"a\")\n",
        "          content_href = content['href']\n",
        "          content_value = content.string.strip()\n",
        "          author = statement.find(\"footer\", class_ = 'm-statement__footer').string\n",
        "          author_part = author.split()\n",
        "          name = author_part[1]+' ' + author_part[2]\n",
        "          context_st = statement.find(\"div\", class_ = 'm-statement__desc').string\n",
        "          if pm.search(context_st) is None:\n",
        "            context=\"\"\n",
        "          else:\n",
        "            context = pm.search(context_st).group(1)     \n",
        "          article = Article(meter,source,content_value,name, ref, context, content_href)\n",
        "          articles.append(article)\n",
        "          # new_row = {'meter': meter, 'source': source, 'statement':content, 'context':context}\n",
        "          # data_frame = data_frame.append(new_row, ignore_index=True)\n",
        "          # print(data_frame)\n",
        "\n",
        "\n",
        "        # print(source,name)\n",
        "        #name = speaker, content = text, meter = target, \n",
        "\n",
        "# print(data_frame)\n",
        "\n",
        "column_names = [\"true\",\"mostly-true\",\"half-true\",\"barely-true\",\"false\",\"pants-fire\"]\n",
        "df = pd.DataFrame(columns = column_names)\n",
        "data={}\n",
        "for article in articles:\n",
        "    page_url = \"https://www.politifact.com\"+ article.ref\n",
        "    factcheck_url = \"https://www.politifact.com\"+ article.content_href\n",
        "\n",
        "    source = urlparse(page_url).path.split('/')[2].replace('-', ' ')\n",
        "    if not article.source in data:\n",
        "      # Get Fact Check\n",
        "      print(factcheck_url)\n",
        "      r =  s.get(factcheck_url, headers=my_headers)\n",
        "      soup = BeautifulSoup(r.content, 'html.parser')\n",
        "      tags = soup.find_all(\"a\", class_='c-tag')\n",
        "      tag_list = []\n",
        "      for tag in tags:\n",
        "        tag_list.append(tag['title'])\n",
        "      # \n",
        "      r = s.get(page_url, headers=my_headers)\n",
        "      soup = BeautifulSoup(r.content, 'html.parser')\n",
        "      scorecards = soup.find_all(\"p\", class_='m-scorecard__checks')\n",
        "      fact_scores={}\n",
        "      for scorecard in scorecards:\n",
        "        statement = scorecard.find(\"a\",href=True)\n",
        "        check_name=str(parse_qs(urlparse(statement['href']).query)['ruling']).replace(\"\\'\",'').replace(\"[\",\"\").replace(\"]\",\"\")\n",
        "        check_value=statement.string.split()[0]\n",
        "        fact_scores[str(check_name)]=check_value\n",
        "      data[article.source]=fact_scores\n",
        "    fact_score_list = data.get(article.source)\n",
        "    new_row = {'meter': article.meter, 'source': article.source, 'statement':article.content, 'context':article.context, 'tags': tag_list,\n",
        "               'true': fact_scores.get('true'), 'mostly-true': fact_scores.get('mostly-true'), 'half-true': fact_scores.get('half-true'),\n",
        "               'barely-true': fact_scores.get('barely-true'), 'false': fact_scores.get('false'), 'pants-fire': fact_scores.get('pants-fire')}\n",
        "    data_frame = data_frame.append(new_row, ignore_index=True)\n",
        "\n",
        "for item in data.items():\n",
        "  values = item[1]\n",
        "  df.loc[item[0]]=[values['true'],values['mostly-true'],values['half-true'],values['barely-true'],values['false'],values['pants-fire']]\n",
        "\n",
        "\n",
        "print(data_frame)\n",
        "\n"
      ],
      "execution_count": null,
      "outputs": [
        {
          "output_type": "stream",
          "text": [
            "https://www.politifact.com/factchecks/list/?page=1\n",
            "https://www.politifact.com/factchecks/2020/nov/25/instagram-posts/kyle-rittenhouse-use-covid-19-stimulus-kenosha/\n",
            "https://www.politifact.com/factchecks/2020/nov/25/robin-vos/wisconsin-assembly-speaker-says-state-passed-one-f/\n",
            "https://www.politifact.com/factchecks/2020/nov/24/facebook-posts/dominion-and-smartmatic-offices-havent-shuttered-a/\n",
            "https://www.politifact.com/factchecks/2020/nov/24/viral-image/pennsylvania-has-banned-some-alcohol-sales-thanksg/\n",
            "https://www.politifact.com/factchecks/2020/nov/24/jody-hice/did-democrats-refuse-acknowledge-trumps-2016-victo/\n",
            "https://www.politifact.com/factchecks/2020/nov/23/donald-trump/no-there-have-not-been-more-votes-people-who-voted/\n",
            "https://www.politifact.com/factchecks/2020/nov/23/david-perdue/ga-sen-david-perdues-claim-jon-ossoff-socialist-pa/\n",
            "https://www.politifact.com/factchecks/2020/nov/23/blog-posting/no-george-soros-wasnt-arrested-philadelphia-electi/\n",
            "https://www.politifact.com/factchecks/2020/nov/23/tim-murtaugh/tim-murtaugh-wrongly-says-key-pennsylvania-mail-ba/\n",
            "https://www.politifact.com/factchecks/2020/nov/21/joe-sanfelippo/voters-not-clerks-decided-who-was-indefinitely-con/\n",
            "https://www.politifact.com/factchecks/2020/nov/20/sidney-powell/sidney-powell-claim-450000-votes-were-only-biden-k/\n",
            "https://www.politifact.com/factchecks/2020/nov/20/rudy-giuliani/giuliani-cites-affidavit-crucial-errors-press-conf/\n",
            "https://www.politifact.com/factchecks/2020/nov/20/joe-biden/biden-mischaracterizes-teacher-layoffs-pandemic/\n",
            "https://www.politifact.com/factchecks/2020/nov/20/tweets/yes-donald-trump-claimed-fraud-after-2016-iowa-cau/\n",
            "https://www.politifact.com/factchecks/2020/nov/20/ron-paul/biden-not-advocating-nationwide-lockdown/\n",
            "https://www.politifact.com/factchecks/2020/nov/20/lyle-larson/studies-show-cannabis-can-lower-opioid-dosage-stud/\n",
            "https://www.politifact.com/factchecks/2020/nov/20/ron-johnson/ron-johnson-silent-presidential-transition-reversa/\n",
            "https://www.politifact.com/factchecks/2020/nov/20/raphael-warnock/claim-ga-sen-kelly-loeffler-backs-getting-rid-heal/\n",
            "https://www.politifact.com/factchecks/2020/nov/20/jon-ossoff/david-perdue-opposes-biden-didnt-say-hed-do-everyt/\n",
            "           meter           source                                          statement                               context                                               tags true mostly-true half-true barely-true false pants-fire\n",
            "0      half-true  Instagram posts  \"Kyle Rittenhouse used his COVID-19 stimulus c...                     an Instagram post  [Criminal Justice, Guns, Wisconsin, Instagram ...    1           0         4           9    31         12\n",
            "1          false        Robin Vos  “We passed one of the first (COVID-19) bills i...                             Interview  [Legal Issues, Wisconsin, Coronavirus, Robin Vos]    1           7         4           3     5          1\n",
            "2          false  Instagram posts  Video shows movers carrying boxes out of the W...                     an Instagram post  [Legal Issues, Wisconsin, Coronavirus, Robin Vos]    1           7         4           3     5          1\n",
            "3          false   Facebook posts  Dominion and Smartmatic “have closed up shop” ...                                a post  [National, Elections, Facebook Fact-checks, Fa...   18          39        72         109   530        260\n",
            "4   mostly-false      Viral image          “Pennsylvania just banned alcohol sales.”                       a Facebook post   [Facebook Fact-checks, Coronavirus, Viral image]    3           8        22          39   292        188\n",
            "5          false      Viral image  Photo shows “Biden’s inaugural stage being bui...                       a Facebook post   [Facebook Fact-checks, Coronavirus, Viral image]    3           8        22          39   292        188\n",
            "6          false      Viral image  Says Donald Trump’s sister tweeted, “My brothe...                       a Facebook post   [Facebook Fact-checks, Coronavirus, Viral image]    3           8        22          39   292        188\n",
            "7          false        Jody Hice  Democrats “spent 4 years refusing to acknowled...                               a tweet      [National, Elections, Impeachment, Jody Hice]    0           0         0           0     2          0\n",
            "8          false   Facebook posts  North Carolina Gov. Roy Cooper’s “daughter is ...                       a Facebook post      [National, Elections, Impeachment, Jody Hice]    0           0         0           0     2          0\n",
            "9           fire     Donald Trump  “In certain swing states, there were more vote...                               a tweet  [Arizona, Georgia, National, Nevada, Elections...   35          84       119         186   333        154\n",
            "10          fire     David Perdue                  Says Jon Ossoff is “a socialist.”                          an interview       [Georgia, Candidate Biography, David Perdue]    0           8         5           5     2          2\n",
            "11          fire         Bloggers  Says George Soros was arrested in Philadelphia...                           a blog post        [Elections, Facebook Fact-checks, Bloggers]    8          18        22          41   154        358\n",
            "12         false   Facebook posts  Photo shows Time magazine cover with Barack Ob...                       a Facebook post        [Elections, Facebook Fact-checks, Bloggers]    8          18        22          41   154        358\n",
            "13          fire     Tim Murtaugh  “In Philadelphia and Pittsburgh...682,000 ball...                    a radio interview.                                                 []    0           0         0           0     1          1\n",
            "14         false   Joe Sanfelippo  “Clerks in Milwaukee and Dane Counties collude...                        a news release     [Elections, States, Wisconsin, Joe Sanfelippo]    0           2         0           0     1          1\n",
            "15         false    Sidney Powell  “At least 450,000 ballots in the key states .....            an interview with Fox News  [Arizona, Georgia, Elections, Facebook Fact-ch...    0           0         0           0     1          1\n",
            "16          fire    Rudy Giuliani  In Michigan “we have over-votes in numerous pr...         remarks in a press conference               [Elections, Michigan, Rudy Giuliani]    8           7        10           9    12          7\n",
            "17  mostly-false        Joe Biden  “666,000 teachers have been laid off already s...                  a virtual roundtable                [Education, Coronavirus, Joe Biden]   23          41        41          33    31          6\n",
            "18          true           Tweets  When Donald Trump lost the Iowa caucus to Ted ...                                tweets                          [Elections, Iowa, Tweets]    2           3         4           4    19         15\n",
            "19          fire      Viral image  Says Donald Trump’s book “The Art of the Deal”...                       a Facebook post                          [Elections, Iowa, Tweets]    2           3         4           4    19         15\n",
            "20         false         Ron Paul  Says “Biden wants a nationwide lockdown to com...                        a Twitter post                            [Coronavirus, Ron Paul]    8           8         8           5    10          3\n",
            "21          fire     Donald Trump  \"A day AFTER the election, Biden receives a du...                               a tweet                            [Coronavirus, Ron Paul]    8           8         8           5    10          3\n",
            "22   mostly-true      Lyle Larson  Says there’s “up to 75% reduction in opioid do...                               a tweet     [Public Health, Texas, Marijuana, Lyle Larson]    0           1         0           0     0          0\n",
            "23     full-flop      Ron Johnson  On the need for a smooth transition for the pr...                            interviews                [Elections, Wisconsin, Ron Johnson]    8          16        13          19     8          1\n",
            "24     half-true  Raphael Warnock  Says Kelly Loeffler is \"for getting rid of hea...                                 an ad  [Georgia, Public Health, Coronavirus, Raphael ...    1           0         2           0     0          0\n",
            "25  mostly-false       Jon Ossoff  “David Perdue says he'll do everything in his ...                                 an ad       [Georgia, Negative Campaigning, Jon  Ossoff]    0           2         2           1     0          0\n",
            "26          fire   Facebook posts  “AARP endorsed Biden” and “says if you are pas...                       a Facebook post       [Georgia, Negative Campaigning, Jon  Ossoff]    0           2         2           1     0          0\n",
            "27          fire    Sidney Powell  “Smartmatic and Dominion systems ... were buil...          an interview with Mark Levin       [Georgia, Negative Campaigning, Jon  Ossoff]    0           2         2           1     0          0\n",
            "28   mostly-true        Joe Biden  The law governing the transition of presidenti...  a roundtable with healthcare workers       [Georgia, Negative Campaigning, Jon  Ossoff]    0           2         2           1     0          0\n",
            "29          fire     Donald Trump  A 1993 example of voter fraud in Philadelphia ...                               a tweet       [Georgia, Negative Campaigning, Jon  Ossoff]    0           2         2           1     0          0\n"
          ],
          "name": "stdout"
        }
      ]
    },
    {
      "cell_type": "code",
      "metadata": {
        "colab": {
          "base_uri": "https://localhost:8080/"
        },
        "id": "yao2_4UP-Yem",
        "outputId": "0b9a97bc-a7ce-4ba9-8a8d-a49e4e3b268e"
      },
      "source": [
        "from google.colab import drive\n",
        "drive.mount('/content/drive')"
      ],
      "execution_count": null,
      "outputs": [
        {
          "output_type": "stream",
          "text": [
            "Mounted at /content/drive\n"
          ],
          "name": "stdout"
        }
      ]
    },
    {
      "cell_type": "code",
      "metadata": {
        "id": "u6jaZH_i3GHE"
      },
      "source": [
        "import pandas as pd\n",
        "data_frame.to_csv('/content/drive/My Drive/politifact_new.tsv', sep = '\\t')"
      ],
      "execution_count": null,
      "outputs": []
    }
  ]
}
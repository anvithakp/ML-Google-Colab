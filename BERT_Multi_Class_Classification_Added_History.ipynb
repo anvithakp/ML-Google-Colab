{
  "nbformat": 4,
  "nbformat_minor": 0,
  "metadata": {
    "colab": {
      "name": "BERT_Multi_Class_Classification_Added_History.ipynb",
      "provenance": [],
      "collapsed_sections": [],
      "toc_visible": true,
      "machine_shape": "hm",
      "include_colab_link": true
    },
    "kernelspec": {
      "name": "python3",
      "display_name": "Python 3"
    },
    "accelerator": "GPU",
    "widgets": {
      "application/vnd.jupyter.widget-state+json": {
        "03464f2c5cf64ed99e18b1d7b9a049fe": {
          "model_module": "@jupyter-widgets/controls",
          "model_name": "HBoxModel",
          "state": {
            "_view_name": "HBoxView",
            "_dom_classes": [],
            "_model_name": "HBoxModel",
            "_view_module": "@jupyter-widgets/controls",
            "_model_module_version": "1.5.0",
            "_view_count": null,
            "_view_module_version": "1.5.0",
            "box_style": "",
            "layout": "IPY_MODEL_e13e04b23d20455eb3e079fc238ef3eb",
            "_model_module": "@jupyter-widgets/controls",
            "children": [
              "IPY_MODEL_86ca2e2baeca4d0ca7053c29f70cd626",
              "IPY_MODEL_96d0e4578d7b4f8b872659964459156d"
            ]
          }
        },
        "e13e04b23d20455eb3e079fc238ef3eb": {
          "model_module": "@jupyter-widgets/base",
          "model_name": "LayoutModel",
          "state": {
            "_view_name": "LayoutView",
            "grid_template_rows": null,
            "right": null,
            "justify_content": null,
            "_view_module": "@jupyter-widgets/base",
            "overflow": null,
            "_model_module_version": "1.2.0",
            "_view_count": null,
            "flex_flow": null,
            "width": null,
            "min_width": null,
            "border": null,
            "align_items": null,
            "bottom": null,
            "_model_module": "@jupyter-widgets/base",
            "top": null,
            "grid_column": null,
            "overflow_y": null,
            "overflow_x": null,
            "grid_auto_flow": null,
            "grid_area": null,
            "grid_template_columns": null,
            "flex": null,
            "_model_name": "LayoutModel",
            "justify_items": null,
            "grid_row": null,
            "max_height": null,
            "align_content": null,
            "visibility": null,
            "align_self": null,
            "height": null,
            "min_height": null,
            "padding": null,
            "grid_auto_rows": null,
            "grid_gap": null,
            "max_width": null,
            "order": null,
            "_view_module_version": "1.2.0",
            "grid_template_areas": null,
            "object_position": null,
            "object_fit": null,
            "grid_auto_columns": null,
            "margin": null,
            "display": null,
            "left": null
          }
        },
        "86ca2e2baeca4d0ca7053c29f70cd626": {
          "model_module": "@jupyter-widgets/controls",
          "model_name": "FloatProgressModel",
          "state": {
            "_view_name": "ProgressView",
            "style": "IPY_MODEL_21d4ec5517784b6f83c255b6d53a4e2c",
            "_dom_classes": [],
            "description": "Downloading: 100%",
            "_model_name": "FloatProgressModel",
            "bar_style": "success",
            "max": 231508,
            "_view_module": "@jupyter-widgets/controls",
            "_model_module_version": "1.5.0",
            "value": 231508,
            "_view_count": null,
            "_view_module_version": "1.5.0",
            "orientation": "horizontal",
            "min": 0,
            "description_tooltip": null,
            "_model_module": "@jupyter-widgets/controls",
            "layout": "IPY_MODEL_555a06b07a434614a44963808bd9b625"
          }
        },
        "96d0e4578d7b4f8b872659964459156d": {
          "model_module": "@jupyter-widgets/controls",
          "model_name": "HTMLModel",
          "state": {
            "_view_name": "HTMLView",
            "style": "IPY_MODEL_ca3cf2ef7ff24467af3f6697a2185d87",
            "_dom_classes": [],
            "description": "",
            "_model_name": "HTMLModel",
            "placeholder": "​",
            "_view_module": "@jupyter-widgets/controls",
            "_model_module_version": "1.5.0",
            "value": " 232k/232k [00:00&lt;00:00, 310kB/s]",
            "_view_count": null,
            "_view_module_version": "1.5.0",
            "description_tooltip": null,
            "_model_module": "@jupyter-widgets/controls",
            "layout": "IPY_MODEL_053285a0308245569bf167b87211e63e"
          }
        },
        "21d4ec5517784b6f83c255b6d53a4e2c": {
          "model_module": "@jupyter-widgets/controls",
          "model_name": "ProgressStyleModel",
          "state": {
            "_view_name": "StyleView",
            "_model_name": "ProgressStyleModel",
            "description_width": "initial",
            "_view_module": "@jupyter-widgets/base",
            "_model_module_version": "1.5.0",
            "_view_count": null,
            "_view_module_version": "1.2.0",
            "bar_color": null,
            "_model_module": "@jupyter-widgets/controls"
          }
        },
        "555a06b07a434614a44963808bd9b625": {
          "model_module": "@jupyter-widgets/base",
          "model_name": "LayoutModel",
          "state": {
            "_view_name": "LayoutView",
            "grid_template_rows": null,
            "right": null,
            "justify_content": null,
            "_view_module": "@jupyter-widgets/base",
            "overflow": null,
            "_model_module_version": "1.2.0",
            "_view_count": null,
            "flex_flow": null,
            "width": null,
            "min_width": null,
            "border": null,
            "align_items": null,
            "bottom": null,
            "_model_module": "@jupyter-widgets/base",
            "top": null,
            "grid_column": null,
            "overflow_y": null,
            "overflow_x": null,
            "grid_auto_flow": null,
            "grid_area": null,
            "grid_template_columns": null,
            "flex": null,
            "_model_name": "LayoutModel",
            "justify_items": null,
            "grid_row": null,
            "max_height": null,
            "align_content": null,
            "visibility": null,
            "align_self": null,
            "height": null,
            "min_height": null,
            "padding": null,
            "grid_auto_rows": null,
            "grid_gap": null,
            "max_width": null,
            "order": null,
            "_view_module_version": "1.2.0",
            "grid_template_areas": null,
            "object_position": null,
            "object_fit": null,
            "grid_auto_columns": null,
            "margin": null,
            "display": null,
            "left": null
          }
        },
        "ca3cf2ef7ff24467af3f6697a2185d87": {
          "model_module": "@jupyter-widgets/controls",
          "model_name": "DescriptionStyleModel",
          "state": {
            "_view_name": "StyleView",
            "_model_name": "DescriptionStyleModel",
            "description_width": "",
            "_view_module": "@jupyter-widgets/base",
            "_model_module_version": "1.5.0",
            "_view_count": null,
            "_view_module_version": "1.2.0",
            "_model_module": "@jupyter-widgets/controls"
          }
        },
        "053285a0308245569bf167b87211e63e": {
          "model_module": "@jupyter-widgets/base",
          "model_name": "LayoutModel",
          "state": {
            "_view_name": "LayoutView",
            "grid_template_rows": null,
            "right": null,
            "justify_content": null,
            "_view_module": "@jupyter-widgets/base",
            "overflow": null,
            "_model_module_version": "1.2.0",
            "_view_count": null,
            "flex_flow": null,
            "width": null,
            "min_width": null,
            "border": null,
            "align_items": null,
            "bottom": null,
            "_model_module": "@jupyter-widgets/base",
            "top": null,
            "grid_column": null,
            "overflow_y": null,
            "overflow_x": null,
            "grid_auto_flow": null,
            "grid_area": null,
            "grid_template_columns": null,
            "flex": null,
            "_model_name": "LayoutModel",
            "justify_items": null,
            "grid_row": null,
            "max_height": null,
            "align_content": null,
            "visibility": null,
            "align_self": null,
            "height": null,
            "min_height": null,
            "padding": null,
            "grid_auto_rows": null,
            "grid_gap": null,
            "max_width": null,
            "order": null,
            "_view_module_version": "1.2.0",
            "grid_template_areas": null,
            "object_position": null,
            "object_fit": null,
            "grid_auto_columns": null,
            "margin": null,
            "display": null,
            "left": null
          }
        },
        "ce1757832a64462ba2b8c7bdd6b119a4": {
          "model_module": "@jupyter-widgets/controls",
          "model_name": "HBoxModel",
          "state": {
            "_view_name": "HBoxView",
            "_dom_classes": [],
            "_model_name": "HBoxModel",
            "_view_module": "@jupyter-widgets/controls",
            "_model_module_version": "1.5.0",
            "_view_count": null,
            "_view_module_version": "1.5.0",
            "box_style": "",
            "layout": "IPY_MODEL_370a19d6ab9a40e39ad83d57aa5b114c",
            "_model_module": "@jupyter-widgets/controls",
            "children": [
              "IPY_MODEL_8bebcae6d484447facf04724598ecf6d",
              "IPY_MODEL_269999459c0e4d36a87a27d9cc93adb1"
            ]
          }
        },
        "370a19d6ab9a40e39ad83d57aa5b114c": {
          "model_module": "@jupyter-widgets/base",
          "model_name": "LayoutModel",
          "state": {
            "_view_name": "LayoutView",
            "grid_template_rows": null,
            "right": null,
            "justify_content": null,
            "_view_module": "@jupyter-widgets/base",
            "overflow": null,
            "_model_module_version": "1.2.0",
            "_view_count": null,
            "flex_flow": null,
            "width": null,
            "min_width": null,
            "border": null,
            "align_items": null,
            "bottom": null,
            "_model_module": "@jupyter-widgets/base",
            "top": null,
            "grid_column": null,
            "overflow_y": null,
            "overflow_x": null,
            "grid_auto_flow": null,
            "grid_area": null,
            "grid_template_columns": null,
            "flex": null,
            "_model_name": "LayoutModel",
            "justify_items": null,
            "grid_row": null,
            "max_height": null,
            "align_content": null,
            "visibility": null,
            "align_self": null,
            "height": null,
            "min_height": null,
            "padding": null,
            "grid_auto_rows": null,
            "grid_gap": null,
            "max_width": null,
            "order": null,
            "_view_module_version": "1.2.0",
            "grid_template_areas": null,
            "object_position": null,
            "object_fit": null,
            "grid_auto_columns": null,
            "margin": null,
            "display": null,
            "left": null
          }
        },
        "8bebcae6d484447facf04724598ecf6d": {
          "model_module": "@jupyter-widgets/controls",
          "model_name": "FloatProgressModel",
          "state": {
            "_view_name": "ProgressView",
            "style": "IPY_MODEL_5277e33b81b4440a91ffad10ccca12db",
            "_dom_classes": [],
            "description": "Downloading: 100%",
            "_model_name": "FloatProgressModel",
            "bar_style": "success",
            "max": 433,
            "_view_module": "@jupyter-widgets/controls",
            "_model_module_version": "1.5.0",
            "value": 433,
            "_view_count": null,
            "_view_module_version": "1.5.0",
            "orientation": "horizontal",
            "min": 0,
            "description_tooltip": null,
            "_model_module": "@jupyter-widgets/controls",
            "layout": "IPY_MODEL_2bf1c70ba0db4b34a79d43b0c8711865"
          }
        },
        "269999459c0e4d36a87a27d9cc93adb1": {
          "model_module": "@jupyter-widgets/controls",
          "model_name": "HTMLModel",
          "state": {
            "_view_name": "HTMLView",
            "style": "IPY_MODEL_0e01703f758c492cabc66f7c16f05b8c",
            "_dom_classes": [],
            "description": "",
            "_model_name": "HTMLModel",
            "placeholder": "​",
            "_view_module": "@jupyter-widgets/controls",
            "_model_module_version": "1.5.0",
            "value": " 433/433 [00:00&lt;00:00, 17.0kB/s]",
            "_view_count": null,
            "_view_module_version": "1.5.0",
            "description_tooltip": null,
            "_model_module": "@jupyter-widgets/controls",
            "layout": "IPY_MODEL_3c8f9a637b224c1dbfeae7c1902ce209"
          }
        },
        "5277e33b81b4440a91ffad10ccca12db": {
          "model_module": "@jupyter-widgets/controls",
          "model_name": "ProgressStyleModel",
          "state": {
            "_view_name": "StyleView",
            "_model_name": "ProgressStyleModel",
            "description_width": "initial",
            "_view_module": "@jupyter-widgets/base",
            "_model_module_version": "1.5.0",
            "_view_count": null,
            "_view_module_version": "1.2.0",
            "bar_color": null,
            "_model_module": "@jupyter-widgets/controls"
          }
        },
        "2bf1c70ba0db4b34a79d43b0c8711865": {
          "model_module": "@jupyter-widgets/base",
          "model_name": "LayoutModel",
          "state": {
            "_view_name": "LayoutView",
            "grid_template_rows": null,
            "right": null,
            "justify_content": null,
            "_view_module": "@jupyter-widgets/base",
            "overflow": null,
            "_model_module_version": "1.2.0",
            "_view_count": null,
            "flex_flow": null,
            "width": null,
            "min_width": null,
            "border": null,
            "align_items": null,
            "bottom": null,
            "_model_module": "@jupyter-widgets/base",
            "top": null,
            "grid_column": null,
            "overflow_y": null,
            "overflow_x": null,
            "grid_auto_flow": null,
            "grid_area": null,
            "grid_template_columns": null,
            "flex": null,
            "_model_name": "LayoutModel",
            "justify_items": null,
            "grid_row": null,
            "max_height": null,
            "align_content": null,
            "visibility": null,
            "align_self": null,
            "height": null,
            "min_height": null,
            "padding": null,
            "grid_auto_rows": null,
            "grid_gap": null,
            "max_width": null,
            "order": null,
            "_view_module_version": "1.2.0",
            "grid_template_areas": null,
            "object_position": null,
            "object_fit": null,
            "grid_auto_columns": null,
            "margin": null,
            "display": null,
            "left": null
          }
        },
        "0e01703f758c492cabc66f7c16f05b8c": {
          "model_module": "@jupyter-widgets/controls",
          "model_name": "DescriptionStyleModel",
          "state": {
            "_view_name": "StyleView",
            "_model_name": "DescriptionStyleModel",
            "description_width": "",
            "_view_module": "@jupyter-widgets/base",
            "_model_module_version": "1.5.0",
            "_view_count": null,
            "_view_module_version": "1.2.0",
            "_model_module": "@jupyter-widgets/controls"
          }
        },
        "3c8f9a637b224c1dbfeae7c1902ce209": {
          "model_module": "@jupyter-widgets/base",
          "model_name": "LayoutModel",
          "state": {
            "_view_name": "LayoutView",
            "grid_template_rows": null,
            "right": null,
            "justify_content": null,
            "_view_module": "@jupyter-widgets/base",
            "overflow": null,
            "_model_module_version": "1.2.0",
            "_view_count": null,
            "flex_flow": null,
            "width": null,
            "min_width": null,
            "border": null,
            "align_items": null,
            "bottom": null,
            "_model_module": "@jupyter-widgets/base",
            "top": null,
            "grid_column": null,
            "overflow_y": null,
            "overflow_x": null,
            "grid_auto_flow": null,
            "grid_area": null,
            "grid_template_columns": null,
            "flex": null,
            "_model_name": "LayoutModel",
            "justify_items": null,
            "grid_row": null,
            "max_height": null,
            "align_content": null,
            "visibility": null,
            "align_self": null,
            "height": null,
            "min_height": null,
            "padding": null,
            "grid_auto_rows": null,
            "grid_gap": null,
            "max_width": null,
            "order": null,
            "_view_module_version": "1.2.0",
            "grid_template_areas": null,
            "object_position": null,
            "object_fit": null,
            "grid_auto_columns": null,
            "margin": null,
            "display": null,
            "left": null
          }
        },
        "144f4050ed7742189b838324a3a71e1c": {
          "model_module": "@jupyter-widgets/controls",
          "model_name": "HBoxModel",
          "state": {
            "_view_name": "HBoxView",
            "_dom_classes": [],
            "_model_name": "HBoxModel",
            "_view_module": "@jupyter-widgets/controls",
            "_model_module_version": "1.5.0",
            "_view_count": null,
            "_view_module_version": "1.5.0",
            "box_style": "",
            "layout": "IPY_MODEL_1cfa63a682064ce4af46d13c434b7017",
            "_model_module": "@jupyter-widgets/controls",
            "children": [
              "IPY_MODEL_17a8976a5e774853baf0cc40cd7bc275",
              "IPY_MODEL_1767d3986cf846a28772bbf32f02f8e3"
            ]
          }
        },
        "1cfa63a682064ce4af46d13c434b7017": {
          "model_module": "@jupyter-widgets/base",
          "model_name": "LayoutModel",
          "state": {
            "_view_name": "LayoutView",
            "grid_template_rows": null,
            "right": null,
            "justify_content": null,
            "_view_module": "@jupyter-widgets/base",
            "overflow": null,
            "_model_module_version": "1.2.0",
            "_view_count": null,
            "flex_flow": null,
            "width": null,
            "min_width": null,
            "border": null,
            "align_items": null,
            "bottom": null,
            "_model_module": "@jupyter-widgets/base",
            "top": null,
            "grid_column": null,
            "overflow_y": null,
            "overflow_x": null,
            "grid_auto_flow": null,
            "grid_area": null,
            "grid_template_columns": null,
            "flex": null,
            "_model_name": "LayoutModel",
            "justify_items": null,
            "grid_row": null,
            "max_height": null,
            "align_content": null,
            "visibility": null,
            "align_self": null,
            "height": null,
            "min_height": null,
            "padding": null,
            "grid_auto_rows": null,
            "grid_gap": null,
            "max_width": null,
            "order": null,
            "_view_module_version": "1.2.0",
            "grid_template_areas": null,
            "object_position": null,
            "object_fit": null,
            "grid_auto_columns": null,
            "margin": null,
            "display": null,
            "left": null
          }
        },
        "17a8976a5e774853baf0cc40cd7bc275": {
          "model_module": "@jupyter-widgets/controls",
          "model_name": "FloatProgressModel",
          "state": {
            "_view_name": "ProgressView",
            "style": "IPY_MODEL_5c17e70cf05346c89c49cc6eb60b5aa5",
            "_dom_classes": [],
            "description": "Downloading: 100%",
            "_model_name": "FloatProgressModel",
            "bar_style": "success",
            "max": 440473133,
            "_view_module": "@jupyter-widgets/controls",
            "_model_module_version": "1.5.0",
            "value": 440473133,
            "_view_count": null,
            "_view_module_version": "1.5.0",
            "orientation": "horizontal",
            "min": 0,
            "description_tooltip": null,
            "_model_module": "@jupyter-widgets/controls",
            "layout": "IPY_MODEL_ba477ff292024d1dac8c27c7b154b311"
          }
        },
        "1767d3986cf846a28772bbf32f02f8e3": {
          "model_module": "@jupyter-widgets/controls",
          "model_name": "HTMLModel",
          "state": {
            "_view_name": "HTMLView",
            "style": "IPY_MODEL_748713000d4742638773b4549eb4bb8a",
            "_dom_classes": [],
            "description": "",
            "_model_name": "HTMLModel",
            "placeholder": "​",
            "_view_module": "@jupyter-widgets/controls",
            "_model_module_version": "1.5.0",
            "value": " 440M/440M [00:08&lt;00:00, 50.2MB/s]",
            "_view_count": null,
            "_view_module_version": "1.5.0",
            "description_tooltip": null,
            "_model_module": "@jupyter-widgets/controls",
            "layout": "IPY_MODEL_920314892872469a87d3539c31228b49"
          }
        },
        "5c17e70cf05346c89c49cc6eb60b5aa5": {
          "model_module": "@jupyter-widgets/controls",
          "model_name": "ProgressStyleModel",
          "state": {
            "_view_name": "StyleView",
            "_model_name": "ProgressStyleModel",
            "description_width": "initial",
            "_view_module": "@jupyter-widgets/base",
            "_model_module_version": "1.5.0",
            "_view_count": null,
            "_view_module_version": "1.2.0",
            "bar_color": null,
            "_model_module": "@jupyter-widgets/controls"
          }
        },
        "ba477ff292024d1dac8c27c7b154b311": {
          "model_module": "@jupyter-widgets/base",
          "model_name": "LayoutModel",
          "state": {
            "_view_name": "LayoutView",
            "grid_template_rows": null,
            "right": null,
            "justify_content": null,
            "_view_module": "@jupyter-widgets/base",
            "overflow": null,
            "_model_module_version": "1.2.0",
            "_view_count": null,
            "flex_flow": null,
            "width": null,
            "min_width": null,
            "border": null,
            "align_items": null,
            "bottom": null,
            "_model_module": "@jupyter-widgets/base",
            "top": null,
            "grid_column": null,
            "overflow_y": null,
            "overflow_x": null,
            "grid_auto_flow": null,
            "grid_area": null,
            "grid_template_columns": null,
            "flex": null,
            "_model_name": "LayoutModel",
            "justify_items": null,
            "grid_row": null,
            "max_height": null,
            "align_content": null,
            "visibility": null,
            "align_self": null,
            "height": null,
            "min_height": null,
            "padding": null,
            "grid_auto_rows": null,
            "grid_gap": null,
            "max_width": null,
            "order": null,
            "_view_module_version": "1.2.0",
            "grid_template_areas": null,
            "object_position": null,
            "object_fit": null,
            "grid_auto_columns": null,
            "margin": null,
            "display": null,
            "left": null
          }
        },
        "748713000d4742638773b4549eb4bb8a": {
          "model_module": "@jupyter-widgets/controls",
          "model_name": "DescriptionStyleModel",
          "state": {
            "_view_name": "StyleView",
            "_model_name": "DescriptionStyleModel",
            "description_width": "",
            "_view_module": "@jupyter-widgets/base",
            "_model_module_version": "1.5.0",
            "_view_count": null,
            "_view_module_version": "1.2.0",
            "_model_module": "@jupyter-widgets/controls"
          }
        },
        "920314892872469a87d3539c31228b49": {
          "model_module": "@jupyter-widgets/base",
          "model_name": "LayoutModel",
          "state": {
            "_view_name": "LayoutView",
            "grid_template_rows": null,
            "right": null,
            "justify_content": null,
            "_view_module": "@jupyter-widgets/base",
            "overflow": null,
            "_model_module_version": "1.2.0",
            "_view_count": null,
            "flex_flow": null,
            "width": null,
            "min_width": null,
            "border": null,
            "align_items": null,
            "bottom": null,
            "_model_module": "@jupyter-widgets/base",
            "top": null,
            "grid_column": null,
            "overflow_y": null,
            "overflow_x": null,
            "grid_auto_flow": null,
            "grid_area": null,
            "grid_template_columns": null,
            "flex": null,
            "_model_name": "LayoutModel",
            "justify_items": null,
            "grid_row": null,
            "max_height": null,
            "align_content": null,
            "visibility": null,
            "align_self": null,
            "height": null,
            "min_height": null,
            "padding": null,
            "grid_auto_rows": null,
            "grid_gap": null,
            "max_width": null,
            "order": null,
            "_view_module_version": "1.2.0",
            "grid_template_areas": null,
            "object_position": null,
            "object_fit": null,
            "grid_auto_columns": null,
            "margin": null,
            "display": null,
            "left": null
          }
        }
      }
    }
  },
  "cells": [
    {
      "cell_type": "markdown",
      "metadata": {
        "id": "view-in-github",
        "colab_type": "text"
      },
      "source": [
        "<a href=\"https://colab.research.google.com/github/anvithakp/ML-Google-Colab/blob/master/BERT_Multi_Class_Classification_Added_History.ipynb\" target=\"_parent\"><img src=\"https://colab.research.google.com/assets/colab-badge.svg\" alt=\"Open In Colab\"/></a>"
      ]
    },
    {
      "cell_type": "markdown",
      "metadata": {
        "id": "EKOTlwcmxmej"
      },
      "source": [
        "# BERT Multi-Class Classification with Liar-Liar dataset\n",
        "\n"
      ]
    },
    {
      "cell_type": "markdown",
      "metadata": {
        "id": "zoFPKiUrbbRP"
      },
      "source": [
        "####Brief summary before we go into the details"
      ]
    },
    {
      "cell_type": "markdown",
      "metadata": {
        "id": "DAdh5-JbbnB_"
      },
      "source": [
        "|Factor  |  Member |\n",
        "|-----|-----|\n",
        "| BERT Multi Class Classification |  Anvitha Karanam |  "
      ]
    },
    {
      "cell_type": "markdown",
      "metadata": {
        "id": "WPDvgY-DaR6N"
      },
      "source": [
        "####Comparision of F1 scores\n",
        "\n",
        "Model  | F1 Score | \n",
        "-- | -- | \n",
        "Naive Bayes + Liar Liar| 0.22 | \n",
        "BERT + Liar Liar | 0.27 | \n",
        "BERT + Liar Liar + Truth History | 0.31\n",
        "Naive Bayes + Liar Liar + Truth History + Web Scraping+ Amalgamation + Distillation | 0.46\n",
        "BERT + Liar Liar + Truth History + Web Scraping + Amalgamation + Distillation | 0.59"
      ]
    },
    {
      "cell_type": "markdown",
      "metadata": {
        "id": "Lj_eBt3G3bo6"
      },
      "source": [
        "# Part I - Dataset & Tokenization\n",
        "---------------------------------"
      ]
    },
    {
      "cell_type": "markdown",
      "metadata": {
        "id": "PhyDNiCPcJzM"
      },
      "source": [
        "# Data Narrative\n",
        "\n",
        "### Liar Liar Pants on Fire Dataset Description \n",
        "\n",
        "- Each file has 13 columns\n",
        "    \n",
        "    Column 1: the ID of the statement ([ID].json).\n",
        "    \n",
        "    Column 2: the statement.\n",
        "    \n",
        "    Column 3: the subject(s).\n",
        "    \n",
        "    Column 4: the speaker.\n",
        "    \n",
        "    Column 5: the speaker's job title.\n",
        "    \n",
        "    Column 6: the state info.\n",
        "    \n",
        "    Column 7: the party affiliation.\n",
        "    \n",
        "    Column 8-12: the total credit history count, including the current statement.\n",
        "    \n",
        "    Column 13: the context (venue / location of the speech or statement).\n"
      ]
    },
    {
      "cell_type": "markdown",
      "metadata": {
        "id": "RX_ZDhicpHkV"
      },
      "source": [
        "## S1. Setup\n"
      ]
    },
    {
      "cell_type": "markdown",
      "metadata": {
        "id": "nSU7yERLP_66"
      },
      "source": [
        "### 1.1. Connecting GPU\n"
      ]
    },
    {
      "cell_type": "markdown",
      "metadata": {
        "id": "cqG7FzRVFEIv"
      },
      "source": [
        "In order for torch to use the GPU, we need to identify and specify the GPU as the device. Later, in our training loop, we will load data onto the device. "
      ]
    },
    {
      "cell_type": "code",
      "metadata": {
        "id": "oYsV4H8fCpZ-",
        "colab": {
          "base_uri": "https://localhost:8080/"
        },
        "outputId": "0ae3fd0d-38d1-4618-956f-2a1529d418cb"
      },
      "source": [
        "import torch\n",
        "\n",
        "# If there's a GPU available...\n",
        "if torch.cuda.is_available():    \n",
        "\n",
        "    # Tell PyTorch to use the GPU.    \n",
        "    device = torch.device(\"cuda\")\n",
        "\n",
        "    print('There are %d GPU(s) available.' % torch.cuda.device_count())\n",
        "\n",
        "    print('We will use the GPU:', torch.cuda.get_device_name(0))\n",
        "\n",
        "# If not...\n",
        "else:\n",
        "    print('No GPU available, using the CPU instead.')\n",
        "    device = torch.device(\"cpu\")"
      ],
      "execution_count": null,
      "outputs": [
        {
          "output_type": "stream",
          "text": [
            "There are 1 GPU(s) available.\n",
            "We will use the GPU: Tesla P100-PCIE-16GB\n"
          ],
          "name": "stdout"
        }
      ]
    },
    {
      "cell_type": "markdown",
      "metadata": {
        "id": "2ElsnSNUridI"
      },
      "source": [
        "### 1.2. Installing `transformers` from huggingface\n"
      ]
    },
    {
      "cell_type": "markdown",
      "metadata": {
        "id": "G_N2UDLevYWn"
      },
      "source": [
        "\n",
        "Next, let's install the [transformers](https://github.com/huggingface/transformers) package from Hugging Face which will give us a pytorch interface for working with BERT. "
      ]
    },
    {
      "cell_type": "code",
      "metadata": {
        "id": "0NmMdkZO8R6q",
        "colab": {
          "base_uri": "https://localhost:8080/"
        },
        "outputId": "65f46b36-9190-42a6-d5c2-00a1c516ce33"
      },
      "source": [
        "!pip install transformers"
      ],
      "execution_count": null,
      "outputs": [
        {
          "output_type": "stream",
          "text": [
            "Collecting transformers\n",
            "\u001b[?25l  Downloading https://files.pythonhosted.org/packages/99/84/7bc03215279f603125d844bf81c3fb3f2d50fe8e511546eb4897e4be2067/transformers-4.0.0-py3-none-any.whl (1.4MB)\n",
            "\u001b[K     |████████████████████████████████| 1.4MB 5.8MB/s \n",
            "\u001b[?25hRequirement already satisfied: regex!=2019.12.17 in /usr/local/lib/python3.6/dist-packages (from transformers) (2019.12.20)\n",
            "Requirement already satisfied: tqdm>=4.27 in /usr/local/lib/python3.6/dist-packages (from transformers) (4.41.1)\n",
            "Collecting tokenizers==0.9.4\n",
            "\u001b[?25l  Downloading https://files.pythonhosted.org/packages/0f/1c/e789a8b12e28be5bc1ce2156cf87cb522b379be9cadc7ad8091a4cc107c4/tokenizers-0.9.4-cp36-cp36m-manylinux2010_x86_64.whl (2.9MB)\n",
            "\u001b[K     |████████████████████████████████| 2.9MB 52.2MB/s \n",
            "\u001b[?25hRequirement already satisfied: packaging in /usr/local/lib/python3.6/dist-packages (from transformers) (20.4)\n",
            "Requirement already satisfied: requests in /usr/local/lib/python3.6/dist-packages (from transformers) (2.23.0)\n",
            "Collecting sacremoses\n",
            "\u001b[?25l  Downloading https://files.pythonhosted.org/packages/7d/34/09d19aff26edcc8eb2a01bed8e98f13a1537005d31e95233fd48216eed10/sacremoses-0.0.43.tar.gz (883kB)\n",
            "\u001b[K     |████████████████████████████████| 890kB 72.2MB/s \n",
            "\u001b[?25hRequirement already satisfied: filelock in /usr/local/lib/python3.6/dist-packages (from transformers) (3.0.12)\n",
            "Requirement already satisfied: numpy in /usr/local/lib/python3.6/dist-packages (from transformers) (1.18.5)\n",
            "Requirement already satisfied: dataclasses; python_version < \"3.7\" in /usr/local/lib/python3.6/dist-packages (from transformers) (0.8)\n",
            "Requirement already satisfied: pyparsing>=2.0.2 in /usr/local/lib/python3.6/dist-packages (from packaging->transformers) (2.4.7)\n",
            "Requirement already satisfied: six in /usr/local/lib/python3.6/dist-packages (from packaging->transformers) (1.15.0)\n",
            "Requirement already satisfied: idna<3,>=2.5 in /usr/local/lib/python3.6/dist-packages (from requests->transformers) (2.10)\n",
            "Requirement already satisfied: certifi>=2017.4.17 in /usr/local/lib/python3.6/dist-packages (from requests->transformers) (2020.11.8)\n",
            "Requirement already satisfied: urllib3!=1.25.0,!=1.25.1,<1.26,>=1.21.1 in /usr/local/lib/python3.6/dist-packages (from requests->transformers) (1.24.3)\n",
            "Requirement already satisfied: chardet<4,>=3.0.2 in /usr/local/lib/python3.6/dist-packages (from requests->transformers) (3.0.4)\n",
            "Requirement already satisfied: click in /usr/local/lib/python3.6/dist-packages (from sacremoses->transformers) (7.1.2)\n",
            "Requirement already satisfied: joblib in /usr/local/lib/python3.6/dist-packages (from sacremoses->transformers) (0.17.0)\n",
            "Building wheels for collected packages: sacremoses\n",
            "  Building wheel for sacremoses (setup.py) ... \u001b[?25l\u001b[?25hdone\n",
            "  Created wheel for sacremoses: filename=sacremoses-0.0.43-cp36-none-any.whl size=893257 sha256=35f62cab2e6c1cddedb2c40e2f69fe080de327f0db80413b098c82866149b5ca\n",
            "  Stored in directory: /root/.cache/pip/wheels/29/3c/fd/7ce5c3f0666dab31a50123635e6fb5e19ceb42ce38d4e58f45\n",
            "Successfully built sacremoses\n",
            "Installing collected packages: tokenizers, sacremoses, transformers\n",
            "Successfully installed sacremoses-0.0.43 tokenizers-0.9.4 transformers-4.0.0\n"
          ],
          "name": "stdout"
        }
      ]
    },
    {
      "cell_type": "markdown",
      "metadata": {
        "id": "Bt3HTo7LLMtj"
      },
      "source": [
        "## S2. Retrieve & Inspect Dataset\n",
        "\n"
      ]
    },
    {
      "cell_type": "code",
      "metadata": {
        "id": "5Emg4KfBW16j"
      },
      "source": [
        "traindata  =  \"https://raw.githubusercontent.com/anvithakp/AlternusVera/main/liar_dataset/train.tsv\"\n",
        "testdata = \"https://raw.githubusercontent.com/anvithakp/AlternusVera/main/liar_dataset/test.tsv\"\n",
        "validdata = \"https://raw.githubusercontent.com/anvithakp/AlternusVera/main/liar_dataset/valid.tsv\"\n",
        "politifactdata = \"https://raw.githubusercontent.com/anvithakp/AlternusVera/main/Politifact/politifact.tsv\""
      ],
      "execution_count": null,
      "outputs": []
    },
    {
      "cell_type": "code",
      "metadata": {
        "id": "_l1J8aNeYBOr"
      },
      "source": [
        "columns=[\"ID\", \"target\", \"text\", \"subjects\", \"speaker\", \"job\", \"state\", \"party\", \"barely_true_count\", \"false_count\", \"half_true_count\", \"mostly_true_count\", \"pants_on_fire_count\", \"target_names\"]"
      ],
      "execution_count": null,
      "outputs": []
    },
    {
      "cell_type": "code",
      "metadata": {
        "id": "U3LxGahoXiMs"
      },
      "source": [
        "import pandas as pd\n",
        "liar_train_df = pd.read_csv(traindata, sep='\\t', header=None, names = columns, error_bad_lines=False)\n",
        "liar_test_df = pd.read_csv(testdata, sep='\\t',header=None, names = columns, error_bad_lines=False) \n",
        "liar_valid_df = pd.read_csv(validdata, sep='\\t',header=None, names = columns, error_bad_lines=False) \n",
        "politifact = pd.read_csv(politifactdata, sep='\\t',header=None, error_bad_lines=False) "
      ],
      "execution_count": null,
      "outputs": []
    },
    {
      "cell_type": "code",
      "metadata": {
        "colab": {
          "base_uri": "https://localhost:8080/",
          "height": 306
        },
        "id": "kpgDDviMfShI",
        "outputId": "60b1db99-ea69-425e-8ca5-08a70fe51003"
      },
      "source": [
        "politifact.head(5)"
      ],
      "execution_count": null,
      "outputs": [
        {
          "output_type": "execute_result",
          "data": {
            "text/html": [
              "<div>\n",
              "<style scoped>\n",
              "    .dataframe tbody tr th:only-of-type {\n",
              "        vertical-align: middle;\n",
              "    }\n",
              "\n",
              "    .dataframe tbody tr th {\n",
              "        vertical-align: top;\n",
              "    }\n",
              "\n",
              "    .dataframe thead th {\n",
              "        text-align: right;\n",
              "    }\n",
              "</style>\n",
              "<table border=\"1\" class=\"dataframe\">\n",
              "  <thead>\n",
              "    <tr style=\"text-align: right;\">\n",
              "      <th></th>\n",
              "      <th>0</th>\n",
              "      <th>1</th>\n",
              "      <th>2</th>\n",
              "      <th>3</th>\n",
              "      <th>4</th>\n",
              "      <th>5</th>\n",
              "      <th>6</th>\n",
              "      <th>7</th>\n",
              "      <th>8</th>\n",
              "      <th>9</th>\n",
              "      <th>10</th>\n",
              "      <th>11</th>\n",
              "    </tr>\n",
              "  </thead>\n",
              "  <tbody>\n",
              "    <tr>\n",
              "      <th>0</th>\n",
              "      <td>NaN</td>\n",
              "      <td>meter</td>\n",
              "      <td>source</td>\n",
              "      <td>statement</td>\n",
              "      <td>context</td>\n",
              "      <td>tags</td>\n",
              "      <td>true</td>\n",
              "      <td>mostly-true</td>\n",
              "      <td>half-true</td>\n",
              "      <td>barely-true</td>\n",
              "      <td>false</td>\n",
              "      <td>pants-fire</td>\n",
              "    </tr>\n",
              "    <tr>\n",
              "      <th>1</th>\n",
              "      <td>0.0</td>\n",
              "      <td>false</td>\n",
              "      <td>Donald Trump</td>\n",
              "      <td>\"Big victory moments ago in the State of Nevad...</td>\n",
              "      <td>a tweet</td>\n",
              "      <td>['National', 'Nevada', 'Elections', 'Donald Tr...</td>\n",
              "      <td>35</td>\n",
              "      <td>84</td>\n",
              "      <td>119</td>\n",
              "      <td>186</td>\n",
              "      <td>333</td>\n",
              "      <td>151</td>\n",
              "    </tr>\n",
              "    <tr>\n",
              "      <th>2</th>\n",
              "      <td>1.0</td>\n",
              "      <td>fire</td>\n",
              "      <td>Donald Trump</td>\n",
              "      <td>“The recent statement by Chris Krebs on the se...</td>\n",
              "      <td>a Tweet</td>\n",
              "      <td>['National', 'Nevada', 'Elections', 'Donald Tr...</td>\n",
              "      <td>35</td>\n",
              "      <td>84</td>\n",
              "      <td>119</td>\n",
              "      <td>186</td>\n",
              "      <td>333</td>\n",
              "      <td>151</td>\n",
              "    </tr>\n",
              "    <tr>\n",
              "      <th>3</th>\n",
              "      <td>2.0</td>\n",
              "      <td>mostly-true</td>\n",
              "      <td>Kim Reynolds</td>\n",
              "      <td>\"If you can’t get a test through Test Iowa, th...</td>\n",
              "      <td>a press conference</td>\n",
              "      <td>['Health Care', 'Iowa', 'Coronavirus', 'Kim Re...</td>\n",
              "      <td>0</td>\n",
              "      <td>3</td>\n",
              "      <td>0</td>\n",
              "      <td>0</td>\n",
              "      <td>0</td>\n",
              "      <td>0</td>\n",
              "    </tr>\n",
              "    <tr>\n",
              "      <th>4</th>\n",
              "      <td>3.0</td>\n",
              "      <td>fire</td>\n",
              "      <td>Instagram posts</td>\n",
              "      <td>Vaccines “will remove parts of your DNA and re...</td>\n",
              "      <td>an Instagram post</td>\n",
              "      <td>['Public Health', 'Science', 'Facebook Fact-ch...</td>\n",
              "      <td>1</td>\n",
              "      <td>0</td>\n",
              "      <td>3</td>\n",
              "      <td>9</td>\n",
              "      <td>30</td>\n",
              "      <td>12</td>\n",
              "    </tr>\n",
              "  </tbody>\n",
              "</table>\n",
              "</div>"
            ],
            "text/plain": [
              "    0            1                2   ...           9      10          11\n",
              "0  NaN        meter           source  ...  barely-true  false  pants-fire\n",
              "1  0.0        false     Donald Trump  ...          186    333         151\n",
              "2  1.0         fire     Donald Trump  ...          186    333         151\n",
              "3  2.0  mostly-true     Kim Reynolds  ...            0      0           0\n",
              "4  3.0         fire  Instagram posts  ...            9     30          12\n",
              "\n",
              "[5 rows x 12 columns]"
            ]
          },
          "metadata": {
            "tags": []
          },
          "execution_count": 6
        }
      ]
    },
    {
      "cell_type": "code",
      "metadata": {
        "colab": {
          "base_uri": "https://localhost:8080/",
          "height": 649
        },
        "id": "LRYUV2lPaMQr",
        "outputId": "44134103-eab2-433a-e3bc-94a42d80e60c"
      },
      "source": [
        "politifact = politifact.drop([0])\n",
        "politifact = politifact.reset_index(drop=True)\n",
        "politifact = politifact.rename(columns={0: \"ID\", 1: \"target\",2: \"source\", 3: \"text\",4: \"target_names\", 5: \"details\",6: \"true_count\",7: \"mostly_true_count\", 8: \"half_true_count\",9: \"barely_true_count\", 10: \"false_count\",11:\"pants_on_fire_count\"}, errors=\"raise\")\n",
        "politifact.head(5)"
      ],
      "execution_count": null,
      "outputs": [
        {
          "output_type": "execute_result",
          "data": {
            "text/html": [
              "<div>\n",
              "<style scoped>\n",
              "    .dataframe tbody tr th:only-of-type {\n",
              "        vertical-align: middle;\n",
              "    }\n",
              "\n",
              "    .dataframe tbody tr th {\n",
              "        vertical-align: top;\n",
              "    }\n",
              "\n",
              "    .dataframe thead th {\n",
              "        text-align: right;\n",
              "    }\n",
              "</style>\n",
              "<table border=\"1\" class=\"dataframe\">\n",
              "  <thead>\n",
              "    <tr style=\"text-align: right;\">\n",
              "      <th></th>\n",
              "      <th>ID</th>\n",
              "      <th>target</th>\n",
              "      <th>source</th>\n",
              "      <th>text</th>\n",
              "      <th>target_names</th>\n",
              "      <th>details</th>\n",
              "      <th>true_count</th>\n",
              "      <th>mostly_true_count</th>\n",
              "      <th>half_true_count</th>\n",
              "      <th>barely_true_count</th>\n",
              "      <th>false_count</th>\n",
              "      <th>pants_on_fire_count</th>\n",
              "    </tr>\n",
              "  </thead>\n",
              "  <tbody>\n",
              "    <tr>\n",
              "      <th>0</th>\n",
              "      <td>0.0</td>\n",
              "      <td>false</td>\n",
              "      <td>Donald Trump</td>\n",
              "      <td>\"Big victory moments ago in the State of Nevad...</td>\n",
              "      <td>a tweet</td>\n",
              "      <td>['National', 'Nevada', 'Elections', 'Donald Tr...</td>\n",
              "      <td>35</td>\n",
              "      <td>84</td>\n",
              "      <td>119</td>\n",
              "      <td>186</td>\n",
              "      <td>333</td>\n",
              "      <td>151</td>\n",
              "    </tr>\n",
              "    <tr>\n",
              "      <th>1</th>\n",
              "      <td>1.0</td>\n",
              "      <td>fire</td>\n",
              "      <td>Donald Trump</td>\n",
              "      <td>“The recent statement by Chris Krebs on the se...</td>\n",
              "      <td>a Tweet</td>\n",
              "      <td>['National', 'Nevada', 'Elections', 'Donald Tr...</td>\n",
              "      <td>35</td>\n",
              "      <td>84</td>\n",
              "      <td>119</td>\n",
              "      <td>186</td>\n",
              "      <td>333</td>\n",
              "      <td>151</td>\n",
              "    </tr>\n",
              "    <tr>\n",
              "      <th>2</th>\n",
              "      <td>2.0</td>\n",
              "      <td>mostly-true</td>\n",
              "      <td>Kim Reynolds</td>\n",
              "      <td>\"If you can’t get a test through Test Iowa, th...</td>\n",
              "      <td>a press conference</td>\n",
              "      <td>['Health Care', 'Iowa', 'Coronavirus', 'Kim Re...</td>\n",
              "      <td>0</td>\n",
              "      <td>3</td>\n",
              "      <td>0</td>\n",
              "      <td>0</td>\n",
              "      <td>0</td>\n",
              "      <td>0</td>\n",
              "    </tr>\n",
              "    <tr>\n",
              "      <th>3</th>\n",
              "      <td>3.0</td>\n",
              "      <td>fire</td>\n",
              "      <td>Instagram posts</td>\n",
              "      <td>Vaccines “will remove parts of your DNA and re...</td>\n",
              "      <td>an Instagram post</td>\n",
              "      <td>['Public Health', 'Science', 'Facebook Fact-ch...</td>\n",
              "      <td>1</td>\n",
              "      <td>0</td>\n",
              "      <td>3</td>\n",
              "      <td>9</td>\n",
              "      <td>30</td>\n",
              "      <td>12</td>\n",
              "    </tr>\n",
              "    <tr>\n",
              "      <th>4</th>\n",
              "      <td>4.0</td>\n",
              "      <td>half-true</td>\n",
              "      <td>Scott Fitzgerald</td>\n",
              "      <td>The 2020 election is in “recount territory” an...</td>\n",
              "      <td>a TV interview</td>\n",
              "      <td>['Elections', 'States', 'Wisconsin', 'Scott Fi...</td>\n",
              "      <td>0</td>\n",
              "      <td>0</td>\n",
              "      <td>2</td>\n",
              "      <td>3</td>\n",
              "      <td>2</td>\n",
              "      <td>0</td>\n",
              "    </tr>\n",
              "  </tbody>\n",
              "</table>\n",
              "</div>"
            ],
            "text/plain": [
              "    ID       target  ... false_count pants_on_fire_count\n",
              "0  0.0        false  ...         333                 151\n",
              "1  1.0         fire  ...         333                 151\n",
              "2  2.0  mostly-true  ...           0                   0\n",
              "3  3.0         fire  ...          30                  12\n",
              "4  4.0    half-true  ...           2                   0\n",
              "\n",
              "[5 rows x 12 columns]"
            ]
          },
          "metadata": {
            "tags": []
          },
          "execution_count": 7
        }
      ]
    },
    {
      "cell_type": "code",
      "metadata": {
        "colab": {
          "base_uri": "https://localhost:8080/",
          "height": 52
        },
        "id": "1WtLBf_OL4yW",
        "outputId": "85bda1df-2274-4a7a-cdf9-91913c89e357"
      },
      "source": [
        "politifact['text'][0]"
      ],
      "execution_count": null,
      "outputs": [
        {
          "output_type": "execute_result",
          "data": {
            "application/vnd.google.colaboratory.intrinsic+json": {
              "type": "string"
            },
            "text/plain": [
              "'\"Big victory moments ago in the State of Nevada. The all Democrat County Commissioner race, on same ballot as President, just thrown out because of large scale voter discrepancy.\"'"
            ]
          },
          "metadata": {
            "tags": []
          },
          "execution_count": 8
        }
      ]
    },
    {
      "cell_type": "code",
      "metadata": {
        "id": "IeGdojBhuPoQ",
        "colab": {
          "base_uri": "https://localhost:8080/",
          "height": 649
        },
        "outputId": "ad64de33-fd77-4da2-a14a-c8ee3d2e8f9e"
      },
      "source": [
        "liar_train_df.head(5)"
      ],
      "execution_count": null,
      "outputs": [
        {
          "output_type": "execute_result",
          "data": {
            "text/html": [
              "<div>\n",
              "<style scoped>\n",
              "    .dataframe tbody tr th:only-of-type {\n",
              "        vertical-align: middle;\n",
              "    }\n",
              "\n",
              "    .dataframe tbody tr th {\n",
              "        vertical-align: top;\n",
              "    }\n",
              "\n",
              "    .dataframe thead th {\n",
              "        text-align: right;\n",
              "    }\n",
              "</style>\n",
              "<table border=\"1\" class=\"dataframe\">\n",
              "  <thead>\n",
              "    <tr style=\"text-align: right;\">\n",
              "      <th></th>\n",
              "      <th>ID</th>\n",
              "      <th>target</th>\n",
              "      <th>text</th>\n",
              "      <th>subjects</th>\n",
              "      <th>speaker</th>\n",
              "      <th>job</th>\n",
              "      <th>state</th>\n",
              "      <th>party</th>\n",
              "      <th>barely_true_count</th>\n",
              "      <th>false_count</th>\n",
              "      <th>half_true_count</th>\n",
              "      <th>mostly_true_count</th>\n",
              "      <th>pants_on_fire_count</th>\n",
              "      <th>target_names</th>\n",
              "    </tr>\n",
              "  </thead>\n",
              "  <tbody>\n",
              "    <tr>\n",
              "      <th>0</th>\n",
              "      <td>2635.json</td>\n",
              "      <td>false</td>\n",
              "      <td>Says the Annies List political group supports ...</td>\n",
              "      <td>abortion</td>\n",
              "      <td>dwayne-bohac</td>\n",
              "      <td>State representative</td>\n",
              "      <td>Texas</td>\n",
              "      <td>republican</td>\n",
              "      <td>0.0</td>\n",
              "      <td>1.0</td>\n",
              "      <td>0.0</td>\n",
              "      <td>0.0</td>\n",
              "      <td>0.0</td>\n",
              "      <td>a mailer</td>\n",
              "    </tr>\n",
              "    <tr>\n",
              "      <th>1</th>\n",
              "      <td>10540.json</td>\n",
              "      <td>half-true</td>\n",
              "      <td>When did the decline of coal start? It started...</td>\n",
              "      <td>energy,history,job-accomplishments</td>\n",
              "      <td>scott-surovell</td>\n",
              "      <td>State delegate</td>\n",
              "      <td>Virginia</td>\n",
              "      <td>democrat</td>\n",
              "      <td>0.0</td>\n",
              "      <td>0.0</td>\n",
              "      <td>1.0</td>\n",
              "      <td>1.0</td>\n",
              "      <td>0.0</td>\n",
              "      <td>a floor speech.</td>\n",
              "    </tr>\n",
              "    <tr>\n",
              "      <th>2</th>\n",
              "      <td>324.json</td>\n",
              "      <td>mostly-true</td>\n",
              "      <td>Hillary Clinton agrees with John McCain \"by vo...</td>\n",
              "      <td>foreign-policy</td>\n",
              "      <td>barack-obama</td>\n",
              "      <td>President</td>\n",
              "      <td>Illinois</td>\n",
              "      <td>democrat</td>\n",
              "      <td>70.0</td>\n",
              "      <td>71.0</td>\n",
              "      <td>160.0</td>\n",
              "      <td>163.0</td>\n",
              "      <td>9.0</td>\n",
              "      <td>Denver</td>\n",
              "    </tr>\n",
              "    <tr>\n",
              "      <th>3</th>\n",
              "      <td>1123.json</td>\n",
              "      <td>false</td>\n",
              "      <td>Health care reform legislation is likely to ma...</td>\n",
              "      <td>health-care</td>\n",
              "      <td>blog-posting</td>\n",
              "      <td>NaN</td>\n",
              "      <td>NaN</td>\n",
              "      <td>none</td>\n",
              "      <td>7.0</td>\n",
              "      <td>19.0</td>\n",
              "      <td>3.0</td>\n",
              "      <td>5.0</td>\n",
              "      <td>44.0</td>\n",
              "      <td>a news release</td>\n",
              "    </tr>\n",
              "    <tr>\n",
              "      <th>4</th>\n",
              "      <td>9028.json</td>\n",
              "      <td>half-true</td>\n",
              "      <td>The economic turnaround started at the end of ...</td>\n",
              "      <td>economy,jobs</td>\n",
              "      <td>charlie-crist</td>\n",
              "      <td>NaN</td>\n",
              "      <td>Florida</td>\n",
              "      <td>democrat</td>\n",
              "      <td>15.0</td>\n",
              "      <td>9.0</td>\n",
              "      <td>20.0</td>\n",
              "      <td>19.0</td>\n",
              "      <td>2.0</td>\n",
              "      <td>an interview on CNN</td>\n",
              "    </tr>\n",
              "  </tbody>\n",
              "</table>\n",
              "</div>"
            ],
            "text/plain": [
              "           ID       target  ... pants_on_fire_count         target_names\n",
              "0   2635.json        false  ...                 0.0             a mailer\n",
              "1  10540.json    half-true  ...                 0.0      a floor speech.\n",
              "2    324.json  mostly-true  ...                 9.0               Denver\n",
              "3   1123.json        false  ...                44.0       a news release\n",
              "4   9028.json    half-true  ...                 2.0  an interview on CNN\n",
              "\n",
              "[5 rows x 14 columns]"
            ]
          },
          "metadata": {
            "tags": []
          },
          "execution_count": 9
        }
      ]
    },
    {
      "cell_type": "code",
      "metadata": {
        "colab": {
          "base_uri": "https://localhost:8080/",
          "height": 1000
        },
        "id": "XxquX3U-X6tL",
        "outputId": "fee52074-a8a5-409f-c46a-88dd94af667c"
      },
      "source": [
        "liar_test_df"
      ],
      "execution_count": null,
      "outputs": [
        {
          "output_type": "execute_result",
          "data": {
            "text/html": [
              "<div>\n",
              "<style scoped>\n",
              "    .dataframe tbody tr th:only-of-type {\n",
              "        vertical-align: middle;\n",
              "    }\n",
              "\n",
              "    .dataframe tbody tr th {\n",
              "        vertical-align: top;\n",
              "    }\n",
              "\n",
              "    .dataframe thead th {\n",
              "        text-align: right;\n",
              "    }\n",
              "</style>\n",
              "<table border=\"1\" class=\"dataframe\">\n",
              "  <thead>\n",
              "    <tr style=\"text-align: right;\">\n",
              "      <th></th>\n",
              "      <th>ID</th>\n",
              "      <th>target</th>\n",
              "      <th>text</th>\n",
              "      <th>subjects</th>\n",
              "      <th>speaker</th>\n",
              "      <th>job</th>\n",
              "      <th>state</th>\n",
              "      <th>party</th>\n",
              "      <th>barely_true_count</th>\n",
              "      <th>false_count</th>\n",
              "      <th>half_true_count</th>\n",
              "      <th>mostly_true_count</th>\n",
              "      <th>pants_on_fire_count</th>\n",
              "      <th>target_names</th>\n",
              "    </tr>\n",
              "  </thead>\n",
              "  <tbody>\n",
              "    <tr>\n",
              "      <th>0</th>\n",
              "      <td>11972.json</td>\n",
              "      <td>true</td>\n",
              "      <td>Building a wall on the U.S.-Mexico border will...</td>\n",
              "      <td>immigration</td>\n",
              "      <td>rick-perry</td>\n",
              "      <td>Governor</td>\n",
              "      <td>Texas</td>\n",
              "      <td>republican</td>\n",
              "      <td>30</td>\n",
              "      <td>30</td>\n",
              "      <td>42</td>\n",
              "      <td>23</td>\n",
              "      <td>18</td>\n",
              "      <td>Radio interview</td>\n",
              "    </tr>\n",
              "    <tr>\n",
              "      <th>1</th>\n",
              "      <td>11685.json</td>\n",
              "      <td>false</td>\n",
              "      <td>Wisconsin is on pace to double the number of l...</td>\n",
              "      <td>jobs</td>\n",
              "      <td>katrina-shankland</td>\n",
              "      <td>State representative</td>\n",
              "      <td>Wisconsin</td>\n",
              "      <td>democrat</td>\n",
              "      <td>2</td>\n",
              "      <td>1</td>\n",
              "      <td>0</td>\n",
              "      <td>0</td>\n",
              "      <td>0</td>\n",
              "      <td>a news conference</td>\n",
              "    </tr>\n",
              "    <tr>\n",
              "      <th>2</th>\n",
              "      <td>11096.json</td>\n",
              "      <td>false</td>\n",
              "      <td>Says John McCain has done nothing to help the ...</td>\n",
              "      <td>military,veterans,voting-record</td>\n",
              "      <td>donald-trump</td>\n",
              "      <td>President-Elect</td>\n",
              "      <td>New York</td>\n",
              "      <td>republican</td>\n",
              "      <td>63</td>\n",
              "      <td>114</td>\n",
              "      <td>51</td>\n",
              "      <td>37</td>\n",
              "      <td>61</td>\n",
              "      <td>comments on ABC's This Week.</td>\n",
              "    </tr>\n",
              "    <tr>\n",
              "      <th>3</th>\n",
              "      <td>5209.json</td>\n",
              "      <td>half-true</td>\n",
              "      <td>Suzanne Bonamici supports a plan that will cut...</td>\n",
              "      <td>medicare,message-machine-2012,campaign-adverti...</td>\n",
              "      <td>rob-cornilles</td>\n",
              "      <td>consultant</td>\n",
              "      <td>Oregon</td>\n",
              "      <td>republican</td>\n",
              "      <td>1</td>\n",
              "      <td>1</td>\n",
              "      <td>3</td>\n",
              "      <td>1</td>\n",
              "      <td>1</td>\n",
              "      <td>a radio show</td>\n",
              "    </tr>\n",
              "    <tr>\n",
              "      <th>4</th>\n",
              "      <td>9524.json</td>\n",
              "      <td>pants-fire</td>\n",
              "      <td>When asked by a reporter whether hes at the ce...</td>\n",
              "      <td>campaign-finance,legal-issues,campaign-adverti...</td>\n",
              "      <td>state-democratic-party-wisconsin</td>\n",
              "      <td>NaN</td>\n",
              "      <td>Wisconsin</td>\n",
              "      <td>democrat</td>\n",
              "      <td>5</td>\n",
              "      <td>7</td>\n",
              "      <td>2</td>\n",
              "      <td>2</td>\n",
              "      <td>7</td>\n",
              "      <td>a web video</td>\n",
              "    </tr>\n",
              "    <tr>\n",
              "      <th>...</th>\n",
              "      <td>...</td>\n",
              "      <td>...</td>\n",
              "      <td>...</td>\n",
              "      <td>...</td>\n",
              "      <td>...</td>\n",
              "      <td>...</td>\n",
              "      <td>...</td>\n",
              "      <td>...</td>\n",
              "      <td>...</td>\n",
              "      <td>...</td>\n",
              "      <td>...</td>\n",
              "      <td>...</td>\n",
              "      <td>...</td>\n",
              "      <td>...</td>\n",
              "    </tr>\n",
              "    <tr>\n",
              "      <th>1262</th>\n",
              "      <td>7334.json</td>\n",
              "      <td>half-true</td>\n",
              "      <td>Says his budget provides the highest state fun...</td>\n",
              "      <td>education</td>\n",
              "      <td>rick-scott</td>\n",
              "      <td>Governor</td>\n",
              "      <td>Florida</td>\n",
              "      <td>republican</td>\n",
              "      <td>28</td>\n",
              "      <td>23</td>\n",
              "      <td>38</td>\n",
              "      <td>34</td>\n",
              "      <td>7</td>\n",
              "      <td>a news conference</td>\n",
              "    </tr>\n",
              "    <tr>\n",
              "      <th>1263</th>\n",
              "      <td>9788.json</td>\n",
              "      <td>barely-true</td>\n",
              "      <td>Ive been here almost every day.</td>\n",
              "      <td>civil-rights,crime,criminal-justice</td>\n",
              "      <td>jay-nixon</td>\n",
              "      <td>Governor</td>\n",
              "      <td>Missouri</td>\n",
              "      <td>democrat</td>\n",
              "      <td>2</td>\n",
              "      <td>0</td>\n",
              "      <td>0</td>\n",
              "      <td>1</td>\n",
              "      <td>0</td>\n",
              "      <td>on ABC's \"This Week\"</td>\n",
              "    </tr>\n",
              "    <tr>\n",
              "      <th>1264</th>\n",
              "      <td>10710.json</td>\n",
              "      <td>barely-true</td>\n",
              "      <td>In the early 1980s, Sen. Edward Kennedy secret...</td>\n",
              "      <td>bipartisanship,congress,foreign-policy,history</td>\n",
              "      <td>mackubin-thomas-owens</td>\n",
              "      <td>senior fellow, Foreign Policy Research Institute</td>\n",
              "      <td>Rhode Island</td>\n",
              "      <td>columnist</td>\n",
              "      <td>1</td>\n",
              "      <td>0</td>\n",
              "      <td>0</td>\n",
              "      <td>0</td>\n",
              "      <td>0</td>\n",
              "      <td>a commentary in The Providence Journal</td>\n",
              "    </tr>\n",
              "    <tr>\n",
              "      <th>1265</th>\n",
              "      <td>3186.json</td>\n",
              "      <td>barely-true</td>\n",
              "      <td>Says an EPA permit languished under Strickland...</td>\n",
              "      <td>environment,government-efficiency</td>\n",
              "      <td>john-kasich</td>\n",
              "      <td>Governor of Ohio as of Jan. 10, 2011</td>\n",
              "      <td>Ohio</td>\n",
              "      <td>republican</td>\n",
              "      <td>9</td>\n",
              "      <td>8</td>\n",
              "      <td>10</td>\n",
              "      <td>18</td>\n",
              "      <td>3</td>\n",
              "      <td>a news conference</td>\n",
              "    </tr>\n",
              "    <tr>\n",
              "      <th>1266</th>\n",
              "      <td>6743.json</td>\n",
              "      <td>false</td>\n",
              "      <td>Says the governor is going around the state ta...</td>\n",
              "      <td>state-budget,state-finances,taxes</td>\n",
              "      <td>john-burzichelli</td>\n",
              "      <td>NaN</td>\n",
              "      <td>NaN</td>\n",
              "      <td>democrat</td>\n",
              "      <td>1</td>\n",
              "      <td>1</td>\n",
              "      <td>0</td>\n",
              "      <td>0</td>\n",
              "      <td>0</td>\n",
              "      <td>an interview with NJToday</td>\n",
              "    </tr>\n",
              "  </tbody>\n",
              "</table>\n",
              "<p>1267 rows × 14 columns</p>\n",
              "</div>"
            ],
            "text/plain": [
              "              ID  ...                            target_names\n",
              "0     11972.json  ...                         Radio interview\n",
              "1     11685.json  ...                       a news conference\n",
              "2     11096.json  ...            comments on ABC's This Week.\n",
              "3      5209.json  ...                            a radio show\n",
              "4      9524.json  ...                             a web video\n",
              "...          ...  ...                                     ...\n",
              "1262   7334.json  ...                       a news conference\n",
              "1263   9788.json  ...                    on ABC's \"This Week\"\n",
              "1264  10710.json  ...  a commentary in The Providence Journal\n",
              "1265   3186.json  ...                       a news conference\n",
              "1266   6743.json  ...               an interview with NJToday\n",
              "\n",
              "[1267 rows x 14 columns]"
            ]
          },
          "metadata": {
            "tags": []
          },
          "execution_count": 10
        }
      ]
    },
    {
      "cell_type": "code",
      "metadata": {
        "id": "dz06ZOovuWr9",
        "colab": {
          "base_uri": "https://localhost:8080/",
          "height": 666
        },
        "outputId": "a8d70643-fae1-4ce7-fc71-521d39468e1d"
      },
      "source": [
        "liar_test_df.head(5)"
      ],
      "execution_count": null,
      "outputs": [
        {
          "output_type": "execute_result",
          "data": {
            "text/html": [
              "<div>\n",
              "<style scoped>\n",
              "    .dataframe tbody tr th:only-of-type {\n",
              "        vertical-align: middle;\n",
              "    }\n",
              "\n",
              "    .dataframe tbody tr th {\n",
              "        vertical-align: top;\n",
              "    }\n",
              "\n",
              "    .dataframe thead th {\n",
              "        text-align: right;\n",
              "    }\n",
              "</style>\n",
              "<table border=\"1\" class=\"dataframe\">\n",
              "  <thead>\n",
              "    <tr style=\"text-align: right;\">\n",
              "      <th></th>\n",
              "      <th>ID</th>\n",
              "      <th>target</th>\n",
              "      <th>text</th>\n",
              "      <th>subjects</th>\n",
              "      <th>speaker</th>\n",
              "      <th>job</th>\n",
              "      <th>state</th>\n",
              "      <th>party</th>\n",
              "      <th>barely_true_count</th>\n",
              "      <th>false_count</th>\n",
              "      <th>half_true_count</th>\n",
              "      <th>mostly_true_count</th>\n",
              "      <th>pants_on_fire_count</th>\n",
              "      <th>target_names</th>\n",
              "    </tr>\n",
              "  </thead>\n",
              "  <tbody>\n",
              "    <tr>\n",
              "      <th>0</th>\n",
              "      <td>11972.json</td>\n",
              "      <td>true</td>\n",
              "      <td>Building a wall on the U.S.-Mexico border will...</td>\n",
              "      <td>immigration</td>\n",
              "      <td>rick-perry</td>\n",
              "      <td>Governor</td>\n",
              "      <td>Texas</td>\n",
              "      <td>republican</td>\n",
              "      <td>30</td>\n",
              "      <td>30</td>\n",
              "      <td>42</td>\n",
              "      <td>23</td>\n",
              "      <td>18</td>\n",
              "      <td>Radio interview</td>\n",
              "    </tr>\n",
              "    <tr>\n",
              "      <th>1</th>\n",
              "      <td>11685.json</td>\n",
              "      <td>false</td>\n",
              "      <td>Wisconsin is on pace to double the number of l...</td>\n",
              "      <td>jobs</td>\n",
              "      <td>katrina-shankland</td>\n",
              "      <td>State representative</td>\n",
              "      <td>Wisconsin</td>\n",
              "      <td>democrat</td>\n",
              "      <td>2</td>\n",
              "      <td>1</td>\n",
              "      <td>0</td>\n",
              "      <td>0</td>\n",
              "      <td>0</td>\n",
              "      <td>a news conference</td>\n",
              "    </tr>\n",
              "    <tr>\n",
              "      <th>2</th>\n",
              "      <td>11096.json</td>\n",
              "      <td>false</td>\n",
              "      <td>Says John McCain has done nothing to help the ...</td>\n",
              "      <td>military,veterans,voting-record</td>\n",
              "      <td>donald-trump</td>\n",
              "      <td>President-Elect</td>\n",
              "      <td>New York</td>\n",
              "      <td>republican</td>\n",
              "      <td>63</td>\n",
              "      <td>114</td>\n",
              "      <td>51</td>\n",
              "      <td>37</td>\n",
              "      <td>61</td>\n",
              "      <td>comments on ABC's This Week.</td>\n",
              "    </tr>\n",
              "    <tr>\n",
              "      <th>3</th>\n",
              "      <td>5209.json</td>\n",
              "      <td>half-true</td>\n",
              "      <td>Suzanne Bonamici supports a plan that will cut...</td>\n",
              "      <td>medicare,message-machine-2012,campaign-adverti...</td>\n",
              "      <td>rob-cornilles</td>\n",
              "      <td>consultant</td>\n",
              "      <td>Oregon</td>\n",
              "      <td>republican</td>\n",
              "      <td>1</td>\n",
              "      <td>1</td>\n",
              "      <td>3</td>\n",
              "      <td>1</td>\n",
              "      <td>1</td>\n",
              "      <td>a radio show</td>\n",
              "    </tr>\n",
              "    <tr>\n",
              "      <th>4</th>\n",
              "      <td>9524.json</td>\n",
              "      <td>pants-fire</td>\n",
              "      <td>When asked by a reporter whether hes at the ce...</td>\n",
              "      <td>campaign-finance,legal-issues,campaign-adverti...</td>\n",
              "      <td>state-democratic-party-wisconsin</td>\n",
              "      <td>NaN</td>\n",
              "      <td>Wisconsin</td>\n",
              "      <td>democrat</td>\n",
              "      <td>5</td>\n",
              "      <td>7</td>\n",
              "      <td>2</td>\n",
              "      <td>2</td>\n",
              "      <td>7</td>\n",
              "      <td>a web video</td>\n",
              "    </tr>\n",
              "  </tbody>\n",
              "</table>\n",
              "</div>"
            ],
            "text/plain": [
              "           ID      target  ... pants_on_fire_count                  target_names\n",
              "0  11972.json        true  ...                  18               Radio interview\n",
              "1  11685.json       false  ...                   0             a news conference\n",
              "2  11096.json       false  ...                  61  comments on ABC's This Week.\n",
              "3   5209.json   half-true  ...                   1                  a radio show\n",
              "4   9524.json  pants-fire  ...                   7                   a web video\n",
              "\n",
              "[5 rows x 14 columns]"
            ]
          },
          "metadata": {
            "tags": []
          },
          "execution_count": 11
        }
      ]
    },
    {
      "cell_type": "code",
      "metadata": {
        "id": "4CRokvtqucfe",
        "colab": {
          "base_uri": "https://localhost:8080/",
          "height": 530
        },
        "outputId": "57d783ce-b22c-48b5-e4c8-7909746052b4"
      },
      "source": [
        "liar_valid_df.head(5)"
      ],
      "execution_count": null,
      "outputs": [
        {
          "output_type": "execute_result",
          "data": {
            "text/html": [
              "<div>\n",
              "<style scoped>\n",
              "    .dataframe tbody tr th:only-of-type {\n",
              "        vertical-align: middle;\n",
              "    }\n",
              "\n",
              "    .dataframe tbody tr th {\n",
              "        vertical-align: top;\n",
              "    }\n",
              "\n",
              "    .dataframe thead th {\n",
              "        text-align: right;\n",
              "    }\n",
              "</style>\n",
              "<table border=\"1\" class=\"dataframe\">\n",
              "  <thead>\n",
              "    <tr style=\"text-align: right;\">\n",
              "      <th></th>\n",
              "      <th>ID</th>\n",
              "      <th>target</th>\n",
              "      <th>text</th>\n",
              "      <th>subjects</th>\n",
              "      <th>speaker</th>\n",
              "      <th>job</th>\n",
              "      <th>state</th>\n",
              "      <th>party</th>\n",
              "      <th>barely_true_count</th>\n",
              "      <th>false_count</th>\n",
              "      <th>half_true_count</th>\n",
              "      <th>mostly_true_count</th>\n",
              "      <th>pants_on_fire_count</th>\n",
              "      <th>target_names</th>\n",
              "    </tr>\n",
              "  </thead>\n",
              "  <tbody>\n",
              "    <tr>\n",
              "      <th>0</th>\n",
              "      <td>12134.json</td>\n",
              "      <td>barely-true</td>\n",
              "      <td>We have less Americans working now than in the...</td>\n",
              "      <td>economy,jobs</td>\n",
              "      <td>vicky-hartzler</td>\n",
              "      <td>U.S. Representative</td>\n",
              "      <td>Missouri</td>\n",
              "      <td>republican</td>\n",
              "      <td>1</td>\n",
              "      <td>0</td>\n",
              "      <td>1</td>\n",
              "      <td>0</td>\n",
              "      <td>0</td>\n",
              "      <td>an interview with ABC17 News</td>\n",
              "    </tr>\n",
              "    <tr>\n",
              "      <th>1</th>\n",
              "      <td>238.json</td>\n",
              "      <td>pants-fire</td>\n",
              "      <td>When Obama was sworn into office, he DID NOT u...</td>\n",
              "      <td>obama-birth-certificate,religion</td>\n",
              "      <td>chain-email</td>\n",
              "      <td>NaN</td>\n",
              "      <td>NaN</td>\n",
              "      <td>none</td>\n",
              "      <td>11</td>\n",
              "      <td>43</td>\n",
              "      <td>8</td>\n",
              "      <td>5</td>\n",
              "      <td>105</td>\n",
              "      <td>NaN</td>\n",
              "    </tr>\n",
              "    <tr>\n",
              "      <th>2</th>\n",
              "      <td>7891.json</td>\n",
              "      <td>false</td>\n",
              "      <td>Says Having organizations parading as being so...</td>\n",
              "      <td>campaign-finance,congress,taxes</td>\n",
              "      <td>earl-blumenauer</td>\n",
              "      <td>U.S. representative</td>\n",
              "      <td>Oregon</td>\n",
              "      <td>democrat</td>\n",
              "      <td>0</td>\n",
              "      <td>1</td>\n",
              "      <td>1</td>\n",
              "      <td>1</td>\n",
              "      <td>0</td>\n",
              "      <td>a U.S. Ways and Means hearing</td>\n",
              "    </tr>\n",
              "    <tr>\n",
              "      <th>3</th>\n",
              "      <td>8169.json</td>\n",
              "      <td>half-true</td>\n",
              "      <td>Says nearly half of Oregons children are poor.</td>\n",
              "      <td>poverty</td>\n",
              "      <td>jim-francesconi</td>\n",
              "      <td>Member of the State Board of Higher Education</td>\n",
              "      <td>Oregon</td>\n",
              "      <td>none</td>\n",
              "      <td>0</td>\n",
              "      <td>1</td>\n",
              "      <td>1</td>\n",
              "      <td>1</td>\n",
              "      <td>0</td>\n",
              "      <td>an opinion article</td>\n",
              "    </tr>\n",
              "    <tr>\n",
              "      <th>4</th>\n",
              "      <td>929.json</td>\n",
              "      <td>half-true</td>\n",
              "      <td>On attacks by Republicans that various program...</td>\n",
              "      <td>economy,stimulus</td>\n",
              "      <td>barack-obama</td>\n",
              "      <td>President</td>\n",
              "      <td>Illinois</td>\n",
              "      <td>democrat</td>\n",
              "      <td>70</td>\n",
              "      <td>71</td>\n",
              "      <td>160</td>\n",
              "      <td>163</td>\n",
              "      <td>9</td>\n",
              "      <td>interview with CBS News</td>\n",
              "    </tr>\n",
              "  </tbody>\n",
              "</table>\n",
              "</div>"
            ],
            "text/plain": [
              "           ID       target  ... pants_on_fire_count                   target_names\n",
              "0  12134.json  barely-true  ...                   0   an interview with ABC17 News\n",
              "1    238.json   pants-fire  ...                 105                            NaN\n",
              "2   7891.json        false  ...                   0  a U.S. Ways and Means hearing\n",
              "3   8169.json    half-true  ...                   0             an opinion article\n",
              "4    929.json    half-true  ...                   9        interview with CBS News\n",
              "\n",
              "[5 rows x 14 columns]"
            ]
          },
          "metadata": {
            "tags": []
          },
          "execution_count": 12
        }
      ]
    },
    {
      "cell_type": "code",
      "metadata": {
        "colab": {
          "base_uri": "https://localhost:8080/",
          "height": 297
        },
        "id": "koKqO8y5FSol",
        "outputId": "6fb7c181-bd61-4ac7-f64c-7933a7387dc3"
      },
      "source": [
        "liar_valid_df.describe()"
      ],
      "execution_count": null,
      "outputs": [
        {
          "output_type": "execute_result",
          "data": {
            "text/html": [
              "<div>\n",
              "<style scoped>\n",
              "    .dataframe tbody tr th:only-of-type {\n",
              "        vertical-align: middle;\n",
              "    }\n",
              "\n",
              "    .dataframe tbody tr th {\n",
              "        vertical-align: top;\n",
              "    }\n",
              "\n",
              "    .dataframe thead th {\n",
              "        text-align: right;\n",
              "    }\n",
              "</style>\n",
              "<table border=\"1\" class=\"dataframe\">\n",
              "  <thead>\n",
              "    <tr style=\"text-align: right;\">\n",
              "      <th></th>\n",
              "      <th>barely_true_count</th>\n",
              "      <th>false_count</th>\n",
              "      <th>half_true_count</th>\n",
              "      <th>mostly_true_count</th>\n",
              "      <th>pants_on_fire_count</th>\n",
              "    </tr>\n",
              "  </thead>\n",
              "  <tbody>\n",
              "    <tr>\n",
              "      <th>count</th>\n",
              "      <td>1284.000000</td>\n",
              "      <td>1284.000000</td>\n",
              "      <td>1284.000000</td>\n",
              "      <td>1284.000000</td>\n",
              "      <td>1284.000000</td>\n",
              "    </tr>\n",
              "    <tr>\n",
              "      <th>mean</th>\n",
              "      <td>11.804517</td>\n",
              "      <td>13.832555</td>\n",
              "      <td>17.225078</td>\n",
              "      <td>16.595794</td>\n",
              "      <td>6.881620</td>\n",
              "    </tr>\n",
              "    <tr>\n",
              "      <th>std</th>\n",
              "      <td>19.021708</td>\n",
              "      <td>24.546884</td>\n",
              "      <td>35.622818</td>\n",
              "      <td>35.966699</td>\n",
              "      <td>17.597474</td>\n",
              "    </tr>\n",
              "    <tr>\n",
              "      <th>min</th>\n",
              "      <td>0.000000</td>\n",
              "      <td>0.000000</td>\n",
              "      <td>0.000000</td>\n",
              "      <td>0.000000</td>\n",
              "      <td>0.000000</td>\n",
              "    </tr>\n",
              "    <tr>\n",
              "      <th>25%</th>\n",
              "      <td>0.000000</td>\n",
              "      <td>0.000000</td>\n",
              "      <td>0.750000</td>\n",
              "      <td>0.000000</td>\n",
              "      <td>0.000000</td>\n",
              "    </tr>\n",
              "    <tr>\n",
              "      <th>50%</th>\n",
              "      <td>3.000000</td>\n",
              "      <td>3.000000</td>\n",
              "      <td>3.000000</td>\n",
              "      <td>3.000000</td>\n",
              "      <td>1.000000</td>\n",
              "    </tr>\n",
              "    <tr>\n",
              "      <th>75%</th>\n",
              "      <td>12.000000</td>\n",
              "      <td>17.000000</td>\n",
              "      <td>13.000000</td>\n",
              "      <td>12.000000</td>\n",
              "      <td>5.000000</td>\n",
              "    </tr>\n",
              "    <tr>\n",
              "      <th>max</th>\n",
              "      <td>70.000000</td>\n",
              "      <td>114.000000</td>\n",
              "      <td>160.000000</td>\n",
              "      <td>163.000000</td>\n",
              "      <td>105.000000</td>\n",
              "    </tr>\n",
              "  </tbody>\n",
              "</table>\n",
              "</div>"
            ],
            "text/plain": [
              "       barely_true_count  false_count  ...  mostly_true_count  pants_on_fire_count\n",
              "count        1284.000000  1284.000000  ...        1284.000000          1284.000000\n",
              "mean           11.804517    13.832555  ...          16.595794             6.881620\n",
              "std            19.021708    24.546884  ...          35.966699            17.597474\n",
              "min             0.000000     0.000000  ...           0.000000             0.000000\n",
              "25%             0.000000     0.000000  ...           0.000000             0.000000\n",
              "50%             3.000000     3.000000  ...           3.000000             1.000000\n",
              "75%            12.000000    17.000000  ...          12.000000             5.000000\n",
              "max            70.000000   114.000000  ...         163.000000           105.000000\n",
              "\n",
              "[8 rows x 5 columns]"
            ]
          },
          "metadata": {
            "tags": []
          },
          "execution_count": 13
        }
      ]
    },
    {
      "cell_type": "markdown",
      "metadata": {
        "id": "tUADcjuHmATr"
      },
      "source": [
        "Concatenating the validation and train data"
      ]
    },
    {
      "cell_type": "code",
      "metadata": {
        "id": "GwwLvM2gPQPE"
      },
      "source": [
        "liar_train_df = liar_train_df.append(liar_valid_df, ignore_index=True)"
      ],
      "execution_count": null,
      "outputs": []
    },
    {
      "cell_type": "markdown",
      "metadata": {
        "id": "065inSd8aDLV"
      },
      "source": [
        "## S3. Data Cleaning and Preprocessing"
      ]
    },
    {
      "cell_type": "code",
      "metadata": {
        "id": "FEt-wgUgNhB8",
        "colab": {
          "base_uri": "https://localhost:8080/"
        },
        "outputId": "c35607b6-3adc-4d01-a86a-6ead76889068"
      },
      "source": [
        "import nltk\n",
        "nltk.download('punkt')\n",
        "nltk.download('stopwords')\n",
        "nltk.download('averaged_perceptron_tagger')\n",
        "nltk.download('wordnet')\n",
        "from nltk.stem.wordnet import WordNetLemmatizer\n",
        "from nltk.stem.porter import PorterStemmer\n",
        "from sklearn import metrics\n",
        "from nltk.corpus import stopwords\n",
        "from gensim.models import Word2Vec\n",
        "import re\n",
        "\n",
        "import re\n",
        "\n",
        "def cleaning(raw_data):\n",
        "    import nltk\n",
        "    \n",
        "    # 1. Remove non-letters/Special Characters and Punctuations\n",
        "    data = re.sub(\"[^a-zA-Z]\", \" \", str(raw_data))\n",
        "    \n",
        "    # 2. Convert to lower case.\n",
        "    data =  data.lower()\n",
        "    \n",
        "    # 3. Tokenize.\n",
        "    data_words = nltk.word_tokenize(data)\n",
        "    \n",
        "    # 4. Convert the stopwords list to \"set\" data type.\n",
        "    stops = set(nltk.corpus.stopwords.words(\"english\"))\n",
        "    \n",
        "    # 5. Remove stop words. \n",
        "    words = [w for w in  data_words  if not w in stops]\n",
        "    \n",
        "    # 6. Lemmentize \n",
        "    wordnet_lem = [ WordNetLemmatizer().lemmatize(w) for w in words ]\n",
        "    \n",
        "    # 7. Stemming\n",
        "    stems = [nltk.stem.SnowballStemmer('english').stem(w) for w in wordnet_lem ]\n",
        "    \n",
        "    # 8. Join the stemmed words back into one string separated by space, and return the result.\n",
        "    return \" \".join(stems)"
      ],
      "execution_count": null,
      "outputs": [
        {
          "output_type": "stream",
          "text": [
            "[nltk_data] Downloading package punkt to /root/nltk_data...\n",
            "[nltk_data]   Unzipping tokenizers/punkt.zip.\n",
            "[nltk_data] Downloading package stopwords to /root/nltk_data...\n",
            "[nltk_data]   Unzipping corpora/stopwords.zip.\n",
            "[nltk_data] Downloading package averaged_perceptron_tagger to\n",
            "[nltk_data]     /root/nltk_data...\n",
            "[nltk_data]   Unzipping taggers/averaged_perceptron_tagger.zip.\n",
            "[nltk_data] Downloading package wordnet to /root/nltk_data...\n",
            "[nltk_data]   Unzipping corpora/wordnet.zip.\n"
          ],
          "name": "stdout"
        }
      ]
    },
    {
      "cell_type": "code",
      "metadata": {
        "id": "WminiYIBf1Rg"
      },
      "source": [
        "deleterows = []\n",
        "for i in range(len(politifact)):\n",
        "    if politifact.loc[i, 'target'] == \"full-flop\": \n",
        "        deleterows.append(i)\n",
        "    elif politifact.loc[i, 'target'] == \"half-flip\": \n",
        "        deleterows.append(i)\n",
        "    elif politifact.loc[i, 'target'] == \"no-flip\": \n",
        "        deleterows.append(i)\n",
        "      \n",
        "politifact = politifact.drop(deleterows)\n",
        "politifact = politifact.reset_index(drop=True)"
      ],
      "execution_count": null,
      "outputs": []
    },
    {
      "cell_type": "markdown",
      "metadata": {
        "id": "1FA4KaXKm90V"
      },
      "source": [
        "Dropping null value rows from the dataframe"
      ]
    },
    {
      "cell_type": "code",
      "metadata": {
        "id": "SUbASEOAPdlx"
      },
      "source": [
        "liar_test_df = liar_test_df.dropna(subset=['text', 'speaker','subjects','barely_true_count','false_count','half_true_count','mostly_true_count','pants_on_fire_count'])\n",
        "liar_test_df = liar_test_df.reset_index(drop=True)\n",
        "liar_train_df = liar_train_df.dropna(subset=['text', 'speaker','subjects','barely_true_count','false_count','half_true_count','mostly_true_count','pants_on_fire_count'])\n",
        "liar_train_df = liar_train_df.reset_index(drop=True)\n",
        "politifact = politifact.dropna(subset=['text', 'source','details','target_names','barely_true_count','false_count','half_true_count','mostly_true_count','pants_on_fire_count','true_count'])\n",
        "politifact = politifact.reset_index(drop=True)"
      ],
      "execution_count": null,
      "outputs": []
    },
    {
      "cell_type": "code",
      "metadata": {
        "colab": {
          "base_uri": "https://localhost:8080/",
          "height": 629
        },
        "id": "XU5gAjW-0RlD",
        "outputId": "0ab6a9c1-b63d-49a8-bcd7-061dc28a79f7"
      },
      "source": [
        "politifact_new = politifact.copy()\n",
        "politifact_new['data'] = politifact['text'] + politifact['target_names'] + politifact['source'] + politifact['details']\n",
        "politifact_new = politifact_new.drop(columns=['ID', 'text','source','details','true_count'])\n",
        "politifact_new['data'] = politifact_new[\"data\"].apply(cleaning) \n",
        "politifact_new.head()\n"
      ],
      "execution_count": null,
      "outputs": [
        {
          "output_type": "execute_result",
          "data": {
            "text/html": [
              "<div>\n",
              "<style scoped>\n",
              "    .dataframe tbody tr th:only-of-type {\n",
              "        vertical-align: middle;\n",
              "    }\n",
              "\n",
              "    .dataframe tbody tr th {\n",
              "        vertical-align: top;\n",
              "    }\n",
              "\n",
              "    .dataframe thead th {\n",
              "        text-align: right;\n",
              "    }\n",
              "</style>\n",
              "<table border=\"1\" class=\"dataframe\">\n",
              "  <thead>\n",
              "    <tr style=\"text-align: right;\">\n",
              "      <th></th>\n",
              "      <th>target</th>\n",
              "      <th>target_names</th>\n",
              "      <th>mostly_true_count</th>\n",
              "      <th>half_true_count</th>\n",
              "      <th>barely_true_count</th>\n",
              "      <th>false_count</th>\n",
              "      <th>pants_on_fire_count</th>\n",
              "      <th>data</th>\n",
              "    </tr>\n",
              "  </thead>\n",
              "  <tbody>\n",
              "    <tr>\n",
              "      <th>0</th>\n",
              "      <td>false</td>\n",
              "      <td>a tweet</td>\n",
              "      <td>84</td>\n",
              "      <td>119</td>\n",
              "      <td>186</td>\n",
              "      <td>333</td>\n",
              "      <td>151</td>\n",
              "      <td>big victori moment ago state nevada democrat c...</td>\n",
              "    </tr>\n",
              "    <tr>\n",
              "      <th>1</th>\n",
              "      <td>fire</td>\n",
              "      <td>a Tweet</td>\n",
              "      <td>84</td>\n",
              "      <td>119</td>\n",
              "      <td>186</td>\n",
              "      <td>333</td>\n",
              "      <td>151</td>\n",
              "      <td>recent statement chris kreb secur elect high i...</td>\n",
              "    </tr>\n",
              "    <tr>\n",
              "      <th>2</th>\n",
              "      <td>mostly-true</td>\n",
              "      <td>a press conference</td>\n",
              "      <td>3</td>\n",
              "      <td>0</td>\n",
              "      <td>0</td>\n",
              "      <td>0</td>\n",
              "      <td>0</td>\n",
              "      <td>get test test iowa multipl site doctor clinic ...</td>\n",
              "    </tr>\n",
              "    <tr>\n",
              "      <th>3</th>\n",
              "      <td>fire</td>\n",
              "      <td>an Instagram post</td>\n",
              "      <td>0</td>\n",
              "      <td>3</td>\n",
              "      <td>9</td>\n",
              "      <td>30</td>\n",
              "      <td>12</td>\n",
              "      <td>vaccin remov part dna replac genet code techno...</td>\n",
              "    </tr>\n",
              "    <tr>\n",
              "      <th>4</th>\n",
              "      <td>half-true</td>\n",
              "      <td>a TV interview</td>\n",
              "      <td>0</td>\n",
              "      <td>2</td>\n",
              "      <td>3</td>\n",
              "      <td>2</td>\n",
              "      <td>0</td>\n",
              "      <td>elect recount territori seen elect chang resul...</td>\n",
              "    </tr>\n",
              "  </tbody>\n",
              "</table>\n",
              "</div>"
            ],
            "text/plain": [
              "        target  ...                                               data\n",
              "0        false  ...  big victori moment ago state nevada democrat c...\n",
              "1         fire  ...  recent statement chris kreb secur elect high i...\n",
              "2  mostly-true  ...  get test test iowa multipl site doctor clinic ...\n",
              "3         fire  ...  vaccin remov part dna replac genet code techno...\n",
              "4    half-true  ...  elect recount territori seen elect chang resul...\n",
              "\n",
              "[5 rows x 8 columns]"
            ]
          },
          "metadata": {
            "tags": []
          },
          "execution_count": 18
        }
      ]
    },
    {
      "cell_type": "code",
      "metadata": {
        "colab": {
          "base_uri": "https://localhost:8080/",
          "height": 419
        },
        "id": "kRPfeJ0UfY3q",
        "outputId": "f17b6ef5-912a-4e9b-be84-a98364582c03"
      },
      "source": [
        "bertcols = ['target','target_names','data']\n",
        "politifact_train = politifact_new[bertcols]\n",
        "politifact_train"
      ],
      "execution_count": null,
      "outputs": [
        {
          "output_type": "execute_result",
          "data": {
            "text/html": [
              "<div>\n",
              "<style scoped>\n",
              "    .dataframe tbody tr th:only-of-type {\n",
              "        vertical-align: middle;\n",
              "    }\n",
              "\n",
              "    .dataframe tbody tr th {\n",
              "        vertical-align: top;\n",
              "    }\n",
              "\n",
              "    .dataframe thead th {\n",
              "        text-align: right;\n",
              "    }\n",
              "</style>\n",
              "<table border=\"1\" class=\"dataframe\">\n",
              "  <thead>\n",
              "    <tr style=\"text-align: right;\">\n",
              "      <th></th>\n",
              "      <th>target</th>\n",
              "      <th>target_names</th>\n",
              "      <th>data</th>\n",
              "    </tr>\n",
              "  </thead>\n",
              "  <tbody>\n",
              "    <tr>\n",
              "      <th>0</th>\n",
              "      <td>false</td>\n",
              "      <td>a tweet</td>\n",
              "      <td>big victori moment ago state nevada democrat c...</td>\n",
              "    </tr>\n",
              "    <tr>\n",
              "      <th>1</th>\n",
              "      <td>fire</td>\n",
              "      <td>a Tweet</td>\n",
              "      <td>recent statement chris kreb secur elect high i...</td>\n",
              "    </tr>\n",
              "    <tr>\n",
              "      <th>2</th>\n",
              "      <td>mostly-true</td>\n",
              "      <td>a press conference</td>\n",
              "      <td>get test test iowa multipl site doctor clinic ...</td>\n",
              "    </tr>\n",
              "    <tr>\n",
              "      <th>3</th>\n",
              "      <td>fire</td>\n",
              "      <td>an Instagram post</td>\n",
              "      <td>vaccin remov part dna replac genet code techno...</td>\n",
              "    </tr>\n",
              "    <tr>\n",
              "      <th>4</th>\n",
              "      <td>half-true</td>\n",
              "      <td>a TV interview</td>\n",
              "      <td>elect recount territori seen elect chang resul...</td>\n",
              "    </tr>\n",
              "    <tr>\n",
              "      <th>...</th>\n",
              "      <td>...</td>\n",
              "      <td>...</td>\n",
              "      <td>...</td>\n",
              "    </tr>\n",
              "    <tr>\n",
              "      <th>17152</th>\n",
              "      <td>half-true</td>\n",
              "      <td>a CNN interview</td>\n",
              "      <td>depart justic obama administr disagre decis ju...</td>\n",
              "    </tr>\n",
              "    <tr>\n",
              "      <th>17153</th>\n",
              "      <td>true</td>\n",
              "      <td>a press release.</td>\n",
              "      <td>presid obama percent gm union buddi almost per...</td>\n",
              "    </tr>\n",
              "    <tr>\n",
              "      <th>17154</th>\n",
              "      <td>mostly-false</td>\n",
              "      <td>a speech</td>\n",
              "      <td>day sinc passag econom stimulus save creat nea...</td>\n",
              "    </tr>\n",
              "    <tr>\n",
              "      <th>17155</th>\n",
              "      <td>true</td>\n",
              "      <td>a released statement</td>\n",
              "      <td>nuclear test conduct nation time earth th nucl...</td>\n",
              "    </tr>\n",
              "    <tr>\n",
              "      <th>17156</th>\n",
              "      <td>mostly-false</td>\n",
              "      <td>his radio program</td>\n",
              "      <td>sotomayor rule white firefight ricci white fir...</td>\n",
              "    </tr>\n",
              "  </tbody>\n",
              "</table>\n",
              "<p>17157 rows × 3 columns</p>\n",
              "</div>"
            ],
            "text/plain": [
              "             target  ...                                               data\n",
              "0             false  ...  big victori moment ago state nevada democrat c...\n",
              "1              fire  ...  recent statement chris kreb secur elect high i...\n",
              "2       mostly-true  ...  get test test iowa multipl site doctor clinic ...\n",
              "3              fire  ...  vaccin remov part dna replac genet code techno...\n",
              "4         half-true  ...  elect recount territori seen elect chang resul...\n",
              "...             ...  ...                                                ...\n",
              "17152     half-true  ...  depart justic obama administr disagre decis ju...\n",
              "17153          true  ...  presid obama percent gm union buddi almost per...\n",
              "17154  mostly-false  ...  day sinc passag econom stimulus save creat nea...\n",
              "17155          true  ...  nuclear test conduct nation time earth th nucl...\n",
              "17156  mostly-false  ...  sotomayor rule white firefight ricci white fir...\n",
              "\n",
              "[17157 rows x 3 columns]"
            ]
          },
          "metadata": {
            "tags": []
          },
          "execution_count": 19
        }
      ]
    },
    {
      "cell_type": "code",
      "metadata": {
        "id": "r_j0siXAM74G"
      },
      "source": [
        "#Combining the text and speaker columns into one statement and applying data cleaning\n",
        "liar_test_new = liar_test_df.copy()\n",
        "liar_test_new['data']=liar_test_df['text']+liar_test_df['speaker']+liar_test_df['subjects']+liar_test_df['target_names']\n",
        "liar_test_new = liar_test_new.drop(columns=['ID', 'text','subjects','speaker','job','state','party','barely_true_count','false_count','half_true_count','mostly_true_count','pants_on_fire_count'])\n",
        "liar_test_new['data'] = liar_test_new['data'].apply(cleaning) \n",
        "\n",
        "liar_train_new = liar_train_df.copy()\n",
        "liar_train_new['data']=liar_train_df['text']+liar_train_df['speaker']+liar_train_df['subjects']+liar_train_df['target_names']\n",
        "liar_train_new = liar_train_new.drop(columns=['ID', 'text','subjects','speaker','job','state','party','barely_true_count','false_count','half_true_count','mostly_true_count','pants_on_fire_count'])\n",
        "liar_train_new['data'] = liar_train_new['data'].apply(cleaning) \n"
      ],
      "execution_count": null,
      "outputs": []
    },
    {
      "cell_type": "code",
      "metadata": {
        "id": "i2pVQrOVTijr",
        "colab": {
          "base_uri": "https://localhost:8080/",
          "height": 204
        },
        "outputId": "7201cb11-e22c-418d-830a-3a6460a48032"
      },
      "source": [
        "for i in range(len(liar_test_new)):\n",
        "    if liar_test_new.loc[i, 'target'] == \"true\": #REAL => 0\n",
        "        liar_test_new.loc[i, 'target'] = 0\n",
        "    elif liar_test_new.loc[i, 'target'] == \"mostly-true\": #mostly-true => 1\n",
        "        liar_test_new.loc[i, 'target'] = 1\n",
        "    elif liar_test_new.loc[i, 'target'] == \"barely-true\": #barely-true => 2\n",
        "        liar_test_new.loc[i, 'target'] = 2\n",
        "    elif liar_test_new.loc[i, 'target'] == \"half-true\": #half-true => 3\n",
        "        liar_test_new.loc[i, 'target'] = 3\n",
        "    elif liar_test_new.loc[i, 'target'] == \"false\": #false => 4\n",
        "        liar_test_new.loc[i, 'target'] = 4\n",
        "    elif liar_test_new.loc[i, 'target'] == \"pants-fire\": #pants-fire => 5\n",
        "        liar_test_new.loc[i, 'target'] = 5            \n",
        "    if liar_test_new.loc[i, 'data'] == \"\":\n",
        "        liar_test_new = liar_test_new.drop([i])\n",
        "liar_test_new.head()"
      ],
      "execution_count": null,
      "outputs": [
        {
          "output_type": "execute_result",
          "data": {
            "text/html": [
              "<div>\n",
              "<style scoped>\n",
              "    .dataframe tbody tr th:only-of-type {\n",
              "        vertical-align: middle;\n",
              "    }\n",
              "\n",
              "    .dataframe tbody tr th {\n",
              "        vertical-align: top;\n",
              "    }\n",
              "\n",
              "    .dataframe thead th {\n",
              "        text-align: right;\n",
              "    }\n",
              "</style>\n",
              "<table border=\"1\" class=\"dataframe\">\n",
              "  <thead>\n",
              "    <tr style=\"text-align: right;\">\n",
              "      <th></th>\n",
              "      <th>target</th>\n",
              "      <th>target_names</th>\n",
              "      <th>data</th>\n",
              "    </tr>\n",
              "  </thead>\n",
              "  <tbody>\n",
              "    <tr>\n",
              "      <th>0</th>\n",
              "      <td>0</td>\n",
              "      <td>Radio interview</td>\n",
              "      <td>build wall u mexico border take liter year ric...</td>\n",
              "    </tr>\n",
              "    <tr>\n",
              "      <th>1</th>\n",
              "      <td>4</td>\n",
              "      <td>a news conference</td>\n",
              "      <td>wisconsin pace doubl number layoff year katrin...</td>\n",
              "    </tr>\n",
              "    <tr>\n",
              "      <th>2</th>\n",
              "      <td>4</td>\n",
              "      <td>comments on ABC's This Week.</td>\n",
              "      <td>say john mccain done noth help vet donald trum...</td>\n",
              "    </tr>\n",
              "    <tr>\n",
              "      <th>3</th>\n",
              "      <td>3</td>\n",
              "      <td>a radio show</td>\n",
              "      <td>suzann bonamici support plan cut choic medicar...</td>\n",
              "    </tr>\n",
              "    <tr>\n",
              "      <th>4</th>\n",
              "      <td>5</td>\n",
              "      <td>a web video</td>\n",
              "      <td>ask report whether he center crimin scheme vio...</td>\n",
              "    </tr>\n",
              "  </tbody>\n",
              "</table>\n",
              "</div>"
            ],
            "text/plain": [
              "  target  ...                                               data\n",
              "0      0  ...  build wall u mexico border take liter year ric...\n",
              "1      4  ...  wisconsin pace doubl number layoff year katrin...\n",
              "2      4  ...  say john mccain done noth help vet donald trum...\n",
              "3      3  ...  suzann bonamici support plan cut choic medicar...\n",
              "4      5  ...  ask report whether he center crimin scheme vio...\n",
              "\n",
              "[5 rows x 3 columns]"
            ]
          },
          "metadata": {
            "tags": []
          },
          "execution_count": 21
        }
      ]
    },
    {
      "cell_type": "code",
      "metadata": {
        "id": "t74yVEF5U7jv",
        "colab": {
          "base_uri": "https://localhost:8080/",
          "height": 204
        },
        "outputId": "6ec68f11-70b1-4413-a1b9-0c271797c207"
      },
      "source": [
        "for i in range(len(liar_train_new)):\n",
        "    if liar_train_new.loc[i, 'target'] == \"true\": #true => 0\n",
        "        liar_train_new.loc[i, 'target'] = 0\n",
        "    elif liar_train_new.loc[i, 'target'] == \"mostly-true\": #mostly true => 1\n",
        "        liar_train_new.loc[i, 'target'] = 1\n",
        "    elif liar_train_new.loc[i, 'target'] == \"barely-true\": #barely-true => 2\n",
        "        liar_train_new.loc[i, 'target'] = 2\n",
        "    elif liar_train_new.loc[i, 'target'] == \"half-true\": #half-true => 3\n",
        "        liar_train_new.loc[i, 'target'] = 3\n",
        "    elif liar_train_new.loc[i, 'target'] == \"false\": #false => 4\n",
        "        liar_train_new.loc[i, 'target'] = 4\n",
        "    elif liar_train_new.loc[i, 'target'] == \"pants-fire\": #pants-fire => 5\n",
        "        liar_train_new.loc[i, 'target'] = 5            \n",
        "    if liar_train_new.loc[i, 'data'] == \"\":\n",
        "        liar_train_new = liar_train_new.drop([i])\n",
        "liar_train_new.head()"
      ],
      "execution_count": null,
      "outputs": [
        {
          "output_type": "execute_result",
          "data": {
            "text/html": [
              "<div>\n",
              "<style scoped>\n",
              "    .dataframe tbody tr th:only-of-type {\n",
              "        vertical-align: middle;\n",
              "    }\n",
              "\n",
              "    .dataframe tbody tr th {\n",
              "        vertical-align: top;\n",
              "    }\n",
              "\n",
              "    .dataframe thead th {\n",
              "        text-align: right;\n",
              "    }\n",
              "</style>\n",
              "<table border=\"1\" class=\"dataframe\">\n",
              "  <thead>\n",
              "    <tr style=\"text-align: right;\">\n",
              "      <th></th>\n",
              "      <th>target</th>\n",
              "      <th>target_names</th>\n",
              "      <th>data</th>\n",
              "    </tr>\n",
              "  </thead>\n",
              "  <tbody>\n",
              "    <tr>\n",
              "      <th>0</th>\n",
              "      <td>4</td>\n",
              "      <td>a mailer</td>\n",
              "      <td>say anni list polit group support third trimes...</td>\n",
              "    </tr>\n",
              "    <tr>\n",
              "      <th>1</th>\n",
              "      <td>3</td>\n",
              "      <td>a floor speech.</td>\n",
              "      <td>declin coal start start natur gas took start b...</td>\n",
              "    </tr>\n",
              "    <tr>\n",
              "      <th>2</th>\n",
              "      <td>1</td>\n",
              "      <td>Denver</td>\n",
              "      <td>hillari clinton agre john mccain vote give geo...</td>\n",
              "    </tr>\n",
              "    <tr>\n",
              "      <th>3</th>\n",
              "      <td>4</td>\n",
              "      <td>a news release</td>\n",
              "      <td>health care reform legisl like mandat free sex...</td>\n",
              "    </tr>\n",
              "    <tr>\n",
              "      <th>4</th>\n",
              "      <td>3</td>\n",
              "      <td>an interview on CNN</td>\n",
              "      <td>econom turnaround start end term charli criste...</td>\n",
              "    </tr>\n",
              "  </tbody>\n",
              "</table>\n",
              "</div>"
            ],
            "text/plain": [
              "  target  ...                                               data\n",
              "0      4  ...  say anni list polit group support third trimes...\n",
              "1      3  ...  declin coal start start natur gas took start b...\n",
              "2      1  ...  hillari clinton agre john mccain vote give geo...\n",
              "3      4  ...  health care reform legisl like mandat free sex...\n",
              "4      3  ...  econom turnaround start end term charli criste...\n",
              "\n",
              "[5 rows x 3 columns]"
            ]
          },
          "metadata": {
            "tags": []
          },
          "execution_count": 22
        }
      ]
    },
    {
      "cell_type": "code",
      "metadata": {
        "colab": {
          "base_uri": "https://localhost:8080/",
          "height": 204
        },
        "id": "rjYyxHwZaey1",
        "outputId": "5d74c4d0-efbc-4c30-ef2b-97d01716708a"
      },
      "source": [
        "politifact_train.head()"
      ],
      "execution_count": null,
      "outputs": [
        {
          "output_type": "execute_result",
          "data": {
            "text/html": [
              "<div>\n",
              "<style scoped>\n",
              "    .dataframe tbody tr th:only-of-type {\n",
              "        vertical-align: middle;\n",
              "    }\n",
              "\n",
              "    .dataframe tbody tr th {\n",
              "        vertical-align: top;\n",
              "    }\n",
              "\n",
              "    .dataframe thead th {\n",
              "        text-align: right;\n",
              "    }\n",
              "</style>\n",
              "<table border=\"1\" class=\"dataframe\">\n",
              "  <thead>\n",
              "    <tr style=\"text-align: right;\">\n",
              "      <th></th>\n",
              "      <th>target</th>\n",
              "      <th>target_names</th>\n",
              "      <th>data</th>\n",
              "    </tr>\n",
              "  </thead>\n",
              "  <tbody>\n",
              "    <tr>\n",
              "      <th>0</th>\n",
              "      <td>false</td>\n",
              "      <td>a tweet</td>\n",
              "      <td>big victori moment ago state nevada democrat c...</td>\n",
              "    </tr>\n",
              "    <tr>\n",
              "      <th>1</th>\n",
              "      <td>fire</td>\n",
              "      <td>a Tweet</td>\n",
              "      <td>recent statement chris kreb secur elect high i...</td>\n",
              "    </tr>\n",
              "    <tr>\n",
              "      <th>2</th>\n",
              "      <td>mostly-true</td>\n",
              "      <td>a press conference</td>\n",
              "      <td>get test test iowa multipl site doctor clinic ...</td>\n",
              "    </tr>\n",
              "    <tr>\n",
              "      <th>3</th>\n",
              "      <td>fire</td>\n",
              "      <td>an Instagram post</td>\n",
              "      <td>vaccin remov part dna replac genet code techno...</td>\n",
              "    </tr>\n",
              "    <tr>\n",
              "      <th>4</th>\n",
              "      <td>half-true</td>\n",
              "      <td>a TV interview</td>\n",
              "      <td>elect recount territori seen elect chang resul...</td>\n",
              "    </tr>\n",
              "  </tbody>\n",
              "</table>\n",
              "</div>"
            ],
            "text/plain": [
              "        target  ...                                               data\n",
              "0        false  ...  big victori moment ago state nevada democrat c...\n",
              "1         fire  ...  recent statement chris kreb secur elect high i...\n",
              "2  mostly-true  ...  get test test iowa multipl site doctor clinic ...\n",
              "3         fire  ...  vaccin remov part dna replac genet code techno...\n",
              "4    half-true  ...  elect recount territori seen elect chang resul...\n",
              "\n",
              "[5 rows x 3 columns]"
            ]
          },
          "metadata": {
            "tags": []
          },
          "execution_count": 23
        }
      ]
    },
    {
      "cell_type": "code",
      "metadata": {
        "colab": {
          "base_uri": "https://localhost:8080/",
          "height": 1000
        },
        "id": "J-7gP8gxbqU_",
        "outputId": "0cf07345-946e-4a17-92ca-775d77b17bbc"
      },
      "source": [
        "for i in range(len(politifact_train)):\n",
        "    if politifact_train.loc[i, 'target'] == \"true\": #REAL => 0\n",
        "        politifact_train.loc[i, 'target'] = 0\n",
        "    elif politifact_train.loc[i, 'target'] == \"mostly-true\": #mostly-true => 1\n",
        "        politifact_train.loc[i, 'target'] = 1\n",
        "    elif politifact_train.loc[i, 'target'] == \"mostly-false\": #barely-true => 2\n",
        "        politifact_train.loc[i, 'target'] = 2\n",
        "    elif politifact_train.loc[i, 'target'] == \"half-true\": #half-true => 3\n",
        "        politifact_train.loc[i, 'target'] = 3\n",
        "    elif politifact_train.loc[i, 'target'] == \"false\": #false => 4\n",
        "        politifact_train.loc[i, 'target'] = 4\n",
        "    elif politifact_train.loc[i, 'target'] == \"fire\": #pants-fire => 5\n",
        "        politifact_train.loc[i, 'target'] = 5            \n",
        "    if politifact_train.loc[i, 'data'] == \"\":\n",
        "        politifact_train = politifact_train.drop([i])\n",
        "politifact_train"
      ],
      "execution_count": null,
      "outputs": [
        {
          "output_type": "stream",
          "text": [
            "/usr/local/lib/python3.6/dist-packages/pandas/core/indexing.py:670: SettingWithCopyWarning: \n",
            "A value is trying to be set on a copy of a slice from a DataFrame\n",
            "\n",
            "See the caveats in the documentation: https://pandas.pydata.org/pandas-docs/stable/user_guide/indexing.html#returning-a-view-versus-a-copy\n",
            "  iloc._setitem_with_indexer(indexer, value)\n",
            "/usr/local/lib/python3.6/dist-packages/ipykernel_launcher.py:11: SettingWithCopyWarning: \n",
            "A value is trying to be set on a copy of a slice from a DataFrame\n",
            "\n",
            "See the caveats in the documentation: https://pandas.pydata.org/pandas-docs/stable/user_guide/indexing.html#returning-a-view-versus-a-copy\n",
            "  # This is added back by InteractiveShellApp.init_path()\n",
            "/usr/local/lib/python3.6/dist-packages/ipykernel_launcher.py:13: SettingWithCopyWarning: \n",
            "A value is trying to be set on a copy of a slice from a DataFrame\n",
            "\n",
            "See the caveats in the documentation: https://pandas.pydata.org/pandas-docs/stable/user_guide/indexing.html#returning-a-view-versus-a-copy\n",
            "  del sys.path[0]\n",
            "/usr/local/lib/python3.6/dist-packages/ipykernel_launcher.py:5: SettingWithCopyWarning: \n",
            "A value is trying to be set on a copy of a slice from a DataFrame\n",
            "\n",
            "See the caveats in the documentation: https://pandas.pydata.org/pandas-docs/stable/user_guide/indexing.html#returning-a-view-versus-a-copy\n",
            "  \"\"\"\n",
            "/usr/local/lib/python3.6/dist-packages/ipykernel_launcher.py:9: SettingWithCopyWarning: \n",
            "A value is trying to be set on a copy of a slice from a DataFrame\n",
            "\n",
            "See the caveats in the documentation: https://pandas.pydata.org/pandas-docs/stable/user_guide/indexing.html#returning-a-view-versus-a-copy\n",
            "  if __name__ == '__main__':\n",
            "/usr/local/lib/python3.6/dist-packages/ipykernel_launcher.py:7: SettingWithCopyWarning: \n",
            "A value is trying to be set on a copy of a slice from a DataFrame\n",
            "\n",
            "See the caveats in the documentation: https://pandas.pydata.org/pandas-docs/stable/user_guide/indexing.html#returning-a-view-versus-a-copy\n",
            "  import sys\n",
            "/usr/local/lib/python3.6/dist-packages/ipykernel_launcher.py:3: SettingWithCopyWarning: \n",
            "A value is trying to be set on a copy of a slice from a DataFrame\n",
            "\n",
            "See the caveats in the documentation: https://pandas.pydata.org/pandas-docs/stable/user_guide/indexing.html#returning-a-view-versus-a-copy\n",
            "  This is separate from the ipykernel package so we can avoid doing imports until\n"
          ],
          "name": "stderr"
        },
        {
          "output_type": "execute_result",
          "data": {
            "text/html": [
              "<div>\n",
              "<style scoped>\n",
              "    .dataframe tbody tr th:only-of-type {\n",
              "        vertical-align: middle;\n",
              "    }\n",
              "\n",
              "    .dataframe tbody tr th {\n",
              "        vertical-align: top;\n",
              "    }\n",
              "\n",
              "    .dataframe thead th {\n",
              "        text-align: right;\n",
              "    }\n",
              "</style>\n",
              "<table border=\"1\" class=\"dataframe\">\n",
              "  <thead>\n",
              "    <tr style=\"text-align: right;\">\n",
              "      <th></th>\n",
              "      <th>target</th>\n",
              "      <th>target_names</th>\n",
              "      <th>data</th>\n",
              "    </tr>\n",
              "  </thead>\n",
              "  <tbody>\n",
              "    <tr>\n",
              "      <th>0</th>\n",
              "      <td>4</td>\n",
              "      <td>a tweet</td>\n",
              "      <td>big victori moment ago state nevada democrat c...</td>\n",
              "    </tr>\n",
              "    <tr>\n",
              "      <th>1</th>\n",
              "      <td>5</td>\n",
              "      <td>a Tweet</td>\n",
              "      <td>recent statement chris kreb secur elect high i...</td>\n",
              "    </tr>\n",
              "    <tr>\n",
              "      <th>2</th>\n",
              "      <td>1</td>\n",
              "      <td>a press conference</td>\n",
              "      <td>get test test iowa multipl site doctor clinic ...</td>\n",
              "    </tr>\n",
              "    <tr>\n",
              "      <th>3</th>\n",
              "      <td>5</td>\n",
              "      <td>an Instagram post</td>\n",
              "      <td>vaccin remov part dna replac genet code techno...</td>\n",
              "    </tr>\n",
              "    <tr>\n",
              "      <th>4</th>\n",
              "      <td>3</td>\n",
              "      <td>a TV interview</td>\n",
              "      <td>elect recount territori seen elect chang resul...</td>\n",
              "    </tr>\n",
              "    <tr>\n",
              "      <th>...</th>\n",
              "      <td>...</td>\n",
              "      <td>...</td>\n",
              "      <td>...</td>\n",
              "    </tr>\n",
              "    <tr>\n",
              "      <th>17152</th>\n",
              "      <td>3</td>\n",
              "      <td>a CNN interview</td>\n",
              "      <td>depart justic obama administr disagre decis ju...</td>\n",
              "    </tr>\n",
              "    <tr>\n",
              "      <th>17153</th>\n",
              "      <td>0</td>\n",
              "      <td>a press release.</td>\n",
              "      <td>presid obama percent gm union buddi almost per...</td>\n",
              "    </tr>\n",
              "    <tr>\n",
              "      <th>17154</th>\n",
              "      <td>2</td>\n",
              "      <td>a speech</td>\n",
              "      <td>day sinc passag econom stimulus save creat nea...</td>\n",
              "    </tr>\n",
              "    <tr>\n",
              "      <th>17155</th>\n",
              "      <td>0</td>\n",
              "      <td>a released statement</td>\n",
              "      <td>nuclear test conduct nation time earth th nucl...</td>\n",
              "    </tr>\n",
              "    <tr>\n",
              "      <th>17156</th>\n",
              "      <td>2</td>\n",
              "      <td>his radio program</td>\n",
              "      <td>sotomayor rule white firefight ricci white fir...</td>\n",
              "    </tr>\n",
              "  </tbody>\n",
              "</table>\n",
              "<p>17157 rows × 3 columns</p>\n",
              "</div>"
            ],
            "text/plain": [
              "      target  ...                                               data\n",
              "0          4  ...  big victori moment ago state nevada democrat c...\n",
              "1          5  ...  recent statement chris kreb secur elect high i...\n",
              "2          1  ...  get test test iowa multipl site doctor clinic ...\n",
              "3          5  ...  vaccin remov part dna replac genet code techno...\n",
              "4          3  ...  elect recount territori seen elect chang resul...\n",
              "...      ...  ...                                                ...\n",
              "17152      3  ...  depart justic obama administr disagre decis ju...\n",
              "17153      0  ...  presid obama percent gm union buddi almost per...\n",
              "17154      2  ...  day sinc passag econom stimulus save creat nea...\n",
              "17155      0  ...  nuclear test conduct nation time earth th nucl...\n",
              "17156      2  ...  sotomayor rule white firefight ricci white fir...\n",
              "\n",
              "[17157 rows x 3 columns]"
            ]
          },
          "metadata": {
            "tags": []
          },
          "execution_count": 24
        }
      ]
    },
    {
      "cell_type": "markdown",
      "metadata": {
        "id": "HmR9hH2FuuF4"
      },
      "source": [
        "### 3.1 Data Enriching with scrapped Data from Politifact"
      ]
    },
    {
      "cell_type": "code",
      "metadata": {
        "id": "_HD-2LitaUkt"
      },
      "source": [
        "liar_train_new = liar_train_new.append(politifact_train, ignore_index=True)"
      ],
      "execution_count": null,
      "outputs": []
    },
    {
      "cell_type": "markdown",
      "metadata": {
        "id": "KqP6XnpzcHrG"
      },
      "source": [
        "##S4. Visualizing with WordCloud"
      ]
    },
    {
      "cell_type": "code",
      "metadata": {
        "id": "_fcGvQLdcE4W"
      },
      "source": [
        "from wordcloud import WordCloud, STOPWORDS\n",
        "import matplotlib.pyplot as plt\n",
        "import seaborn as sns\n",
        "from scipy import stats\n",
        "\n",
        "%matplotlib inline"
      ],
      "execution_count": null,
      "outputs": []
    },
    {
      "cell_type": "code",
      "metadata": {
        "colab": {
          "base_uri": "https://localhost:8080/",
          "height": 575
        },
        "id": "jIs-F4cNcTqQ",
        "outputId": "ac82b8a2-b72b-4d36-b63c-f420e60ebdfe"
      },
      "source": [
        "def cloud(data,backgroundcolor = 'white', width = 800, height = 600):\n",
        "    wordcloud = WordCloud(stopwords = STOPWORDS, background_color = backgroundcolor,\n",
        "                         width = width, height = height).generate(data)\n",
        "    plt.figure(figsize = (15, 10))\n",
        "    plt.imshow(wordcloud)\n",
        "    plt.axis(\"off\")\n",
        "    plt.show()\n",
        "    \n",
        "cloud(' '.join(liar_train_new['data']))"
      ],
      "execution_count": null,
      "outputs": [
        {
          "output_type": "display_data",
          "data": {
            "image/png": "[encoded data removed]",
            "text/plain": [
              "<Figure size 1080x720 with 1 Axes>"
            ]
          },
          "metadata": {
            "tags": [],
            "needs_background": "light"
          }
        }
      ]
    },
    {
      "cell_type": "markdown",
      "metadata": {
        "id": "yYGICNGawMub"
      },
      "source": [
        "##S5. Distillation Using LDA Topic Modeling"
      ]
    },
    {
      "cell_type": "code",
      "metadata": {
        "colab": {
          "base_uri": "https://localhost:8080/",
          "height": 359
        },
        "id": "kZMLEGyNqmq3",
        "outputId": "8db275e0-a3e1-432d-a750-d0513154d438"
      },
      "source": [
        "data_lda = liar_train_new[['data']]\n",
        "test_lda = liar_test_new[['data']]\n",
        "data_lda.head(10)"
      ],
      "execution_count": null,
      "outputs": [
        {
          "output_type": "execute_result",
          "data": {
            "text/html": [
              "<div>\n",
              "<style scoped>\n",
              "    .dataframe tbody tr th:only-of-type {\n",
              "        vertical-align: middle;\n",
              "    }\n",
              "\n",
              "    .dataframe tbody tr th {\n",
              "        vertical-align: top;\n",
              "    }\n",
              "\n",
              "    .dataframe thead th {\n",
              "        text-align: right;\n",
              "    }\n",
              "</style>\n",
              "<table border=\"1\" class=\"dataframe\">\n",
              "  <thead>\n",
              "    <tr style=\"text-align: right;\">\n",
              "      <th></th>\n",
              "      <th>data</th>\n",
              "    </tr>\n",
              "  </thead>\n",
              "  <tbody>\n",
              "    <tr>\n",
              "      <th>0</th>\n",
              "      <td>say anni list polit group support third trimes...</td>\n",
              "    </tr>\n",
              "    <tr>\n",
              "      <th>1</th>\n",
              "      <td>declin coal start start natur gas took start b...</td>\n",
              "    </tr>\n",
              "    <tr>\n",
              "      <th>2</th>\n",
              "      <td>hillari clinton agre john mccain vote give geo...</td>\n",
              "    </tr>\n",
              "    <tr>\n",
              "      <th>3</th>\n",
              "      <td>health care reform legisl like mandat free sex...</td>\n",
              "    </tr>\n",
              "    <tr>\n",
              "      <th>4</th>\n",
              "      <td>econom turnaround start end term charli criste...</td>\n",
              "    </tr>\n",
              "    <tr>\n",
              "      <th>5</th>\n",
              "      <td>chicago bear start quarterback last year total...</td>\n",
              "    </tr>\n",
              "    <tr>\n",
              "      <th>6</th>\n",
              "      <td>jim dunnam live district repres year republica...</td>\n",
              "    </tr>\n",
              "    <tr>\n",
              "      <th>7</th>\n",
              "      <td>person stage work activ last year pass along r...</td>\n",
              "    </tr>\n",
              "    <tr>\n",
              "      <th>8</th>\n",
              "      <td>howev took million oregon lotteri fund port ne...</td>\n",
              "    </tr>\n",
              "    <tr>\n",
              "      <th>9</th>\n",
              "      <td>say gop primari oppon glenn grothman joe leibh...</td>\n",
              "    </tr>\n",
              "  </tbody>\n",
              "</table>\n",
              "</div>"
            ],
            "text/plain": [
              "                                                data\n",
              "0  say anni list polit group support third trimes...\n",
              "1  declin coal start start natur gas took start b...\n",
              "2  hillari clinton agre john mccain vote give geo...\n",
              "3  health care reform legisl like mandat free sex...\n",
              "4  econom turnaround start end term charli criste...\n",
              "5  chicago bear start quarterback last year total...\n",
              "6  jim dunnam live district repres year republica...\n",
              "7  person stage work activ last year pass along r...\n",
              "8  howev took million oregon lotteri fund port ne...\n",
              "9  say gop primari oppon glenn grothman joe leibh..."
            ]
          },
          "metadata": {
            "tags": []
          },
          "execution_count": 28
        }
      ]
    },
    {
      "cell_type": "markdown",
      "metadata": {
        "id": "32JqUHvWBrbl"
      },
      "source": [
        "Split the clean news into list of words"
      ]
    },
    {
      "cell_type": "code",
      "metadata": {
        "id": "9G4kzstABa70"
      },
      "source": [
        "processed_docs = data_lda['data'].map(lambda doc: doc.split(\" \"))"
      ],
      "execution_count": null,
      "outputs": []
    },
    {
      "cell_type": "markdown",
      "metadata": {
        "id": "E2wtw-wYY5IF"
      },
      "source": [
        "Function to convert text to word tokens from cleaned dataset"
      ]
    },
    {
      "cell_type": "code",
      "metadata": {
        "id": "oqnYGYKjAtA2"
      },
      "source": [
        "def get_word_tokens(text):\n",
        "    result = []\n",
        "    for token in gensim.utils.simple_preprocess(text):\n",
        "        if len(token) > 3:\n",
        "            result.append(token)\n",
        "    return result"
      ],
      "execution_count": null,
      "outputs": []
    },
    {
      "cell_type": "markdown",
      "metadata": {
        "id": "ltvvdaMyZDrB"
      },
      "source": [
        "Function to build the dictionary and tokenized docs for given feature"
      ]
    },
    {
      "cell_type": "code",
      "metadata": {
        "id": "5Bpbdl0aBNKM"
      },
      "source": [
        "def get_dictionary_print_words(dataframe,colname):\n",
        "    dictionary_gensim = gensim.corpora.Dictionary(processed_docs)\n",
        "    count = 0\n",
        "    print('######## DICTIONARY Words and occurences ########')\n",
        "    for k, v in dictionary_gensim.iteritems():\n",
        "        print(k, v)\n",
        "        count += 1\n",
        "        if count > 10:\n",
        "            break\n",
        "    dictionary_gensim.filter_extremes(no_below=15, no_above=0.5, keep_n=100000)\n",
        "    return dictionary_gensim, tokenized_docs_local"
      ],
      "execution_count": null,
      "outputs": []
    },
    {
      "cell_type": "markdown",
      "metadata": {
        "id": "D8bNZaqRZI5b"
      },
      "source": [
        "Function to build bow_corpus from dictionary and tokenized_docs"
      ]
    },
    {
      "cell_type": "code",
      "metadata": {
        "id": "EnBhzcNcBEfT"
      },
      "source": [
        "def get_bow_corpus_print_sample(dataframe,colname):\n",
        "    dictionary_gensim, tokenized_docs_local = get_dictionary_print_words(dataframe, colname)\n",
        "    bow_corpus_local = [dictionary_gensim.doc2bow(doc) for doc in tokenized_docs_local]\n",
        "    bow_doc_local_0 = bow_corpus_local[0]\n",
        "    print('\\n ######## BOW VECTOR FIRST ITEM ########')\n",
        "    print(bow_doc_local_0)\n",
        "    print('\\n ######## PREVIEW BOW ########')\n",
        "    for i in range(len(bow_doc_local_0)):\n",
        "        print(\"Word {} (\\\"{}\\\") appears {} time.\".format(bow_doc_local_0[i][0], \n",
        "                                               dictionary_gensim[bow_doc_local_0[i][0]], bow_doc_local_0[i][1]))\n",
        "    return bow_corpus_local, dictionary_gensim"
      ],
      "execution_count": null,
      "outputs": []
    },
    {
      "cell_type": "markdown",
      "metadata": {
        "id": "ab33R1tHZN6t"
      },
      "source": [
        "Function to build tfidf_corpus from bow_corpus"
      ]
    },
    {
      "cell_type": "code",
      "metadata": {
        "id": "XHrpFqPNCzmc"
      },
      "source": [
        "def get_lda_model_topics_topwords_print_top_topics(bow_corpusforlda,numtopics,dictionaryforlda):\n",
        "    lda_model = gensim.models.LdaMulticore(bow_corpusforlda, num_topics=numtopics, id2word=dictionaryforlda, passes=2, workers=2, random_state=1)\n",
        "    lda_all_topics=lda_model.show_topics(num_topics=numtopics, num_words=10,formatted=False)\n",
        "    lda_topics_words = [(tp[0], [wd[0] for wd in tp[1]]) for tp in lda_all_topics]\n",
        "\n",
        "    #Below Code Prints Topics and Words\n",
        "    for topic,words in lda_topics_words:\n",
        "        print(str(topic)+ \"::\"+ str(words))\n",
        "    return lda_model,lda_topics_words"
      ],
      "execution_count": null,
      "outputs": []
    },
    {
      "cell_type": "code",
      "metadata": {
        "id": "nrD76RqoD67T"
      },
      "source": [
        "def get_tfidf_corpus_print_sample(bow_corpus_local):\n",
        "    from gensim import corpora, models\n",
        "    tfidf = models.TfidfModel(bow_corpus_local)\n",
        "    tfidf_corpus_local = tfidf[bow_corpus_local]\n",
        "       \n",
        "    from pprint import pprint\n",
        "    for doc in tfidf_corpus_local:\n",
        "        pprint(doc)\n",
        "        break\n",
        "    return tfidf_corpus_local"
      ],
      "execution_count": null,
      "outputs": []
    },
    {
      "cell_type": "markdown",
      "metadata": {
        "id": "LYFduSTIZeKq"
      },
      "source": [
        "Function to run ldamodel and print top topics"
      ]
    },
    {
      "cell_type": "code",
      "metadata": {
        "id": "O--M_KrtEODa"
      },
      "source": [
        "def get_lda_model_print_top_topics(bow_corpusforlda,numtopics,dictionaryforlda):\n",
        "    lda_model = gensim.models.LdaMulticore(bow_corpusforlda, num_topics=numtopics, id2word=dictionaryforlda, passes=2, workers=2)\n",
        "    lda_all_topics=lda_model.show_topics(num_topics=numtopics, num_words=6,formatted=False)\n",
        "    lda_topics_words = [(tp[0], [wd[0] for wd in tp[1]]) for tp in lda_all_topics]\n",
        "\n",
        "    #Below Code Prints Topics and Words\n",
        "    for topic,words in lda_topics_words:\n",
        "        print(str(topic)+ \"::\"+ str(words))\n",
        "    return lda_model"
      ],
      "execution_count": null,
      "outputs": []
    },
    {
      "cell_type": "markdown",
      "metadata": {
        "id": "F2C6mJIAFBt5"
      },
      "source": [
        "Function to enrich data with lda topics, lda topics score, top words"
      ]
    },
    {
      "cell_type": "code",
      "metadata": {
        "id": "e5wK6-sEFBCA"
      },
      "source": [
        "def identify_topic_number_score_label_topwords(text,dictionary_local,lda_model_local,lda_topics_top_words_local):\n",
        "    bow_vector_local = dictionary_local.doc2bow(get_word_tokens(text))\n",
        "    topic_number_local, topic_score_local = sorted(\n",
        "        lda_model_local[bow_vector_local], key=lambda tup: -1*tup[1])[0]\n",
        "    #print (topic_number_local, topic_score_local)\n",
        "    return pd.Series([topic_number_local, topic_score_local,\" \".join(lda_topics_top_words_local[int(topic_number_local)][1])])"
      ],
      "execution_count": null,
      "outputs": []
    },
    {
      "cell_type": "code",
      "metadata": {
        "id": "bgnyEWmUEuwo"
      },
      "source": [
        "def update_lda_results_to_dataset(dataframe,topiccolnames,coltoapplylda,colnamedictionary,colnameldamodel, colnameldatopwords):\n",
        "    dataframe[topiccolnames] = dataframe.apply(\n",
        "    lambda row: identify_topic_number_score_label_topwords(\n",
        "        row[coltoapplylda],colnamedictionary,colnameldamodel,\n",
        "        colnameldatopwords), axis=1)\n",
        "    return dataframe"
      ],
      "execution_count": null,
      "outputs": []
    },
    {
      "cell_type": "code",
      "metadata": {
        "id": "EBEyi2RQsAFJ"
      },
      "source": [
        "import gensim\n",
        "from gensim.models import Word2Vec\n"
      ],
      "execution_count": null,
      "outputs": []
    },
    {
      "cell_type": "code",
      "metadata": {
        "id": "1g077JT4AIfZ"
      },
      "source": [
        "tokenized_docs_local = data_lda['data'].map(get_word_tokens) "
      ],
      "execution_count": null,
      "outputs": []
    },
    {
      "cell_type": "code",
      "metadata": {
        "id": "NKzJnDU3A1QD",
        "colab": {
          "base_uri": "https://localhost:8080/"
        },
        "outputId": "f4d508eb-8325-4ee4-d5f4-937c71909a7a"
      },
      "source": [
        "bow_corpus_text, dictionary_text = get_bow_corpus_print_sample(data_lda,\n",
        "                                                                      'data')"
      ],
      "execution_count": null,
      "outputs": [
        {
          "output_type": "stream",
          "text": [
            "######## DICTIONARY Words and occurences ########\n",
            "0 abort\n",
            "1 anni\n",
            "2 bohacabortiona\n",
            "3 demand\n",
            "4 dwayn\n",
            "5 group\n",
            "6 list\n",
            "7 mailer\n",
            "8 polit\n",
            "9 say\n",
            "10 support\n",
            "\n",
            " ######## BOW VECTOR FIRST ITEM ########\n",
            "[(0, 1), (1, 1), (2, 1), (3, 1), (4, 1), (5, 1), (7, 1), (8, 1)]\n",
            "\n",
            " ######## PREVIEW BOW ########\n",
            "Word 0 (\"abort\") appears 1 time.\n",
            "Word 1 (\"demand\") appears 1 time.\n",
            "Word 2 (\"group\") appears 1 time.\n",
            "Word 3 (\"list\") appears 1 time.\n",
            "Word 4 (\"mailer\") appears 1 time.\n",
            "Word 5 (\"polit\") appears 1 time.\n",
            "Word 7 (\"support\") appears 1 time.\n",
            "Word 8 (\"third\") appears 1 time.\n"
          ],
          "name": "stdout"
        }
      ]
    },
    {
      "cell_type": "code",
      "metadata": {
        "id": "ZN17NNWJCq9r",
        "colab": {
          "base_uri": "https://localhost:8080/"
        },
        "outputId": "be3de307-2f51-4f89-a75b-9331cff75d70"
      },
      "source": [
        "lda_model_text, lda_text_topic_words = get_lda_model_topics_topwords_print_top_topics(\n",
        "    bow_corpus_text, 10 ,dictionary_text)"
      ],
      "execution_count": null,
      "outputs": [
        {
          "output_type": "stream",
          "text": [
            "0::['texa', 'vote', 'florida', 'nation', 'elect', 'bill', 'citi', 'perri', 'republican', 'hous']\n",
            "1::['health', 'care', 'nation', 'bill', 'plan', 'insur', 'reform', 'medicar', 'would', 'campaign']\n",
            "2::['trump', 'nation', 'crime', 'justic', 'candid', 'crimin', 'texa', 'immigr', 'biographi', 'court']\n",
            "3::['nation', 'news', 'health', 'obama', 'care', 'presid', 'percent', 'american', 'week', 'interview']\n",
            "4::['percent', 'nation', 'texa', 'economi', 'famili', 'florida', 'bennett', 'incom', 'georgia', 'state']\n",
            "5::['state', 'budget', 'island', 'rhode', 'wisconsin', 'public', 'educ', 'scott', 'texa', 'georgia']\n",
            "6::['facebook', 'immigr', 'post', 'show', 'nation', 'punditfact', 'florida', 'imag', 'polici', 'health']\n",
            "7::['nation', 'campaign', 'state', 'budget', 'secur', 'stimulus', 'economi', 'social', 'ohio', 'obama']\n",
            "8::['obama', 'nation', 'presid', 'barack', 'texa', 'health', 'elect', 'speech', 'govern', 'first']\n",
            "9::['budget', 'year', 'state', 'interview', 'texa', 'nation', 'educ', 'florida', 'feder', 'georgia']\n"
          ],
          "name": "stdout"
        }
      ]
    },
    {
      "cell_type": "code",
      "metadata": {
        "id": "vrGSGDTyDzZG",
        "colab": {
          "base_uri": "https://localhost:8080/"
        },
        "outputId": "5fb6f928-55df-4000-dd04-8c39cd6604c9"
      },
      "source": [
        "tfidf_corpus_text = get_tfidf_corpus_print_sample(bow_corpus_text)\n"
      ],
      "execution_count": null,
      "outputs": [
        {
          "output_type": "stream",
          "text": [
            "[(0, 0.27050404658637783),\n",
            " (1, 0.4495317543243902),\n",
            " (2, 0.3656705173253568),\n",
            " (3, 0.396895657707567),\n",
            " (4, 0.38182465247775266),\n",
            " (5, 0.32415233281387557),\n",
            " (7, 0.25357437059573),\n",
            " (8, 0.3440100445551843)]\n"
          ],
          "name": "stdout"
        }
      ]
    },
    {
      "cell_type": "code",
      "metadata": {
        "id": "JH_PAM7CEYg7"
      },
      "source": [
        "semisupervised_topic_labels = ['topic0','topic1','topic2','topic3','topic4','topic5','topic6','topic7','topic8','topic9']"
      ],
      "execution_count": null,
      "outputs": []
    },
    {
      "cell_type": "code",
      "metadata": {
        "id": "fhKBYGHxEeGq",
        "colab": {
          "base_uri": "https://localhost:8080/",
          "height": 326
        },
        "outputId": "f4bbe288-b76d-4400-b28a-6d722056bae1"
      },
      "source": [
        "topiccolnames = ['topic_number','lda_score','topic_top_words']\n",
        "data_lda = update_lda_results_to_dataset(\n",
        "    data_lda, topiccolnames,'data', dictionary_text, lda_model_text, lda_text_topic_words)\n",
        "del data_lda['lda_score']\n",
        "data_lda.head()"
      ],
      "execution_count": null,
      "outputs": [
        {
          "output_type": "stream",
          "text": [
            "/usr/local/lib/python3.6/dist-packages/pandas/core/frame.py:3069: SettingWithCopyWarning: \n",
            "A value is trying to be set on a copy of a slice from a DataFrame.\n",
            "Try using .loc[row_indexer,col_indexer] = value instead\n",
            "\n",
            "See the caveats in the documentation: https://pandas.pydata.org/pandas-docs/stable/user_guide/indexing.html#returning-a-view-versus-a-copy\n",
            "  self[k1] = value[k2]\n"
          ],
          "name": "stderr"
        },
        {
          "output_type": "execute_result",
          "data": {
            "text/html": [
              "<div>\n",
              "<style scoped>\n",
              "    .dataframe tbody tr th:only-of-type {\n",
              "        vertical-align: middle;\n",
              "    }\n",
              "\n",
              "    .dataframe tbody tr th {\n",
              "        vertical-align: top;\n",
              "    }\n",
              "\n",
              "    .dataframe thead th {\n",
              "        text-align: right;\n",
              "    }\n",
              "</style>\n",
              "<table border=\"1\" class=\"dataframe\">\n",
              "  <thead>\n",
              "    <tr style=\"text-align: right;\">\n",
              "      <th></th>\n",
              "      <th>data</th>\n",
              "      <th>topic_number</th>\n",
              "      <th>topic_top_words</th>\n",
              "    </tr>\n",
              "  </thead>\n",
              "  <tbody>\n",
              "    <tr>\n",
              "      <th>0</th>\n",
              "      <td>say anni list polit group support third trimes...</td>\n",
              "      <td>2</td>\n",
              "      <td>trump nation crime justic candid crimin texa i...</td>\n",
              "    </tr>\n",
              "    <tr>\n",
              "      <th>1</th>\n",
              "      <td>declin coal start start natur gas took start b...</td>\n",
              "      <td>9</td>\n",
              "      <td>budget year state interview texa nation educ f...</td>\n",
              "    </tr>\n",
              "    <tr>\n",
              "      <th>2</th>\n",
              "      <td>hillari clinton agre john mccain vote give geo...</td>\n",
              "      <td>7</td>\n",
              "      <td>nation campaign state budget secur stimulus ec...</td>\n",
              "    </tr>\n",
              "    <tr>\n",
              "      <th>3</th>\n",
              "      <td>health care reform legisl like mandat free sex...</td>\n",
              "      <td>1</td>\n",
              "      <td>health care nation bill plan insur reform medi...</td>\n",
              "    </tr>\n",
              "    <tr>\n",
              "      <th>4</th>\n",
              "      <td>econom turnaround start end term charli criste...</td>\n",
              "      <td>9</td>\n",
              "      <td>budget year state interview texa nation educ f...</td>\n",
              "    </tr>\n",
              "  </tbody>\n",
              "</table>\n",
              "</div>"
            ],
            "text/plain": [
              "                                                data  ...                                    topic_top_words\n",
              "0  say anni list polit group support third trimes...  ...  trump nation crime justic candid crimin texa i...\n",
              "1  declin coal start start natur gas took start b...  ...  budget year state interview texa nation educ f...\n",
              "2  hillari clinton agre john mccain vote give geo...  ...  nation campaign state budget secur stimulus ec...\n",
              "3  health care reform legisl like mandat free sex...  ...  health care nation bill plan insur reform medi...\n",
              "4  econom turnaround start end term charli criste...  ...  budget year state interview texa nation educ f...\n",
              "\n",
              "[5 rows x 3 columns]"
            ]
          },
          "metadata": {
            "tags": []
          },
          "execution_count": 44
        }
      ]
    },
    {
      "cell_type": "code",
      "metadata": {
        "colab": {
          "base_uri": "https://localhost:8080/",
          "height": 419
        },
        "id": "TtCJyKKDuRvL",
        "outputId": "72490ed8-e9d9-464a-a3bf-cc7782585742"
      },
      "source": [
        "data_lda"
      ],
      "execution_count": null,
      "outputs": [
        {
          "output_type": "execute_result",
          "data": {
            "text/html": [
              "<div>\n",
              "<style scoped>\n",
              "    .dataframe tbody tr th:only-of-type {\n",
              "        vertical-align: middle;\n",
              "    }\n",
              "\n",
              "    .dataframe tbody tr th {\n",
              "        vertical-align: top;\n",
              "    }\n",
              "\n",
              "    .dataframe thead th {\n",
              "        text-align: right;\n",
              "    }\n",
              "</style>\n",
              "<table border=\"1\" class=\"dataframe\">\n",
              "  <thead>\n",
              "    <tr style=\"text-align: right;\">\n",
              "      <th></th>\n",
              "      <th>data</th>\n",
              "      <th>topic_number</th>\n",
              "      <th>topic_top_words</th>\n",
              "    </tr>\n",
              "  </thead>\n",
              "  <tbody>\n",
              "    <tr>\n",
              "      <th>0</th>\n",
              "      <td>say anni list polit group support third trimes...</td>\n",
              "      <td>2</td>\n",
              "      <td>trump nation crime justic candid crimin texa i...</td>\n",
              "    </tr>\n",
              "    <tr>\n",
              "      <th>1</th>\n",
              "      <td>declin coal start start natur gas took start b...</td>\n",
              "      <td>9</td>\n",
              "      <td>budget year state interview texa nation educ f...</td>\n",
              "    </tr>\n",
              "    <tr>\n",
              "      <th>2</th>\n",
              "      <td>hillari clinton agre john mccain vote give geo...</td>\n",
              "      <td>7</td>\n",
              "      <td>nation campaign state budget secur stimulus ec...</td>\n",
              "    </tr>\n",
              "    <tr>\n",
              "      <th>3</th>\n",
              "      <td>health care reform legisl like mandat free sex...</td>\n",
              "      <td>1</td>\n",
              "      <td>health care nation bill plan insur reform medi...</td>\n",
              "    </tr>\n",
              "    <tr>\n",
              "      <th>4</th>\n",
              "      <td>econom turnaround start end term charli criste...</td>\n",
              "      <td>9</td>\n",
              "      <td>budget year state interview texa nation educ f...</td>\n",
              "    </tr>\n",
              "    <tr>\n",
              "      <th>...</th>\n",
              "      <td>...</td>\n",
              "      <td>...</td>\n",
              "      <td>...</td>\n",
              "    </tr>\n",
              "    <tr>\n",
              "      <th>28674</th>\n",
              "      <td>depart justic obama administr disagre decis ju...</td>\n",
              "      <td>3</td>\n",
              "      <td>nation news health obama care presid percent a...</td>\n",
              "    </tr>\n",
              "    <tr>\n",
              "      <th>28675</th>\n",
              "      <td>presid obama percent gm union buddi almost per...</td>\n",
              "      <td>3</td>\n",
              "      <td>nation news health obama care presid percent a...</td>\n",
              "    </tr>\n",
              "    <tr>\n",
              "      <th>28676</th>\n",
              "      <td>day sinc passag econom stimulus save creat nea...</td>\n",
              "      <td>7</td>\n",
              "      <td>nation campaign state budget secur stimulus ec...</td>\n",
              "    </tr>\n",
              "    <tr>\n",
              "      <th>28677</th>\n",
              "      <td>nuclear test conduct nation time earth th nucl...</td>\n",
              "      <td>9</td>\n",
              "      <td>budget year state interview texa nation educ f...</td>\n",
              "    </tr>\n",
              "    <tr>\n",
              "      <th>28678</th>\n",
              "      <td>sotomayor rule white firefight ricci white fir...</td>\n",
              "      <td>6</td>\n",
              "      <td>facebook immigr post show nation punditfact fl...</td>\n",
              "    </tr>\n",
              "  </tbody>\n",
              "</table>\n",
              "<p>28679 rows × 3 columns</p>\n",
              "</div>"
            ],
            "text/plain": [
              "                                                    data  ...                                    topic_top_words\n",
              "0      say anni list polit group support third trimes...  ...  trump nation crime justic candid crimin texa i...\n",
              "1      declin coal start start natur gas took start b...  ...  budget year state interview texa nation educ f...\n",
              "2      hillari clinton agre john mccain vote give geo...  ...  nation campaign state budget secur stimulus ec...\n",
              "3      health care reform legisl like mandat free sex...  ...  health care nation bill plan insur reform medi...\n",
              "4      econom turnaround start end term charli criste...  ...  budget year state interview texa nation educ f...\n",
              "...                                                  ...  ...                                                ...\n",
              "28674  depart justic obama administr disagre decis ju...  ...  nation news health obama care presid percent a...\n",
              "28675  presid obama percent gm union buddi almost per...  ...  nation news health obama care presid percent a...\n",
              "28676  day sinc passag econom stimulus save creat nea...  ...  nation campaign state budget secur stimulus ec...\n",
              "28677  nuclear test conduct nation time earth th nucl...  ...  budget year state interview texa nation educ f...\n",
              "28678  sotomayor rule white firefight ricci white fir...  ...  facebook immigr post show nation punditfact fl...\n",
              "\n",
              "[28679 rows x 3 columns]"
            ]
          },
          "metadata": {
            "tags": []
          },
          "execution_count": 45
        }
      ]
    },
    {
      "cell_type": "code",
      "metadata": {
        "colab": {
          "base_uri": "https://localhost:8080/",
          "height": 419
        },
        "id": "2QPveCI9uZAo",
        "outputId": "2680b3d4-4ef4-48d9-a00e-ad195ecaf742"
      },
      "source": [
        "topiccols = ['topic_top_words'] \n",
        "liar_train_new = liar_train_new.join(data_lda[topiccols])\n",
        "liar_train_new"
      ],
      "execution_count": null,
      "outputs": [
        {
          "output_type": "execute_result",
          "data": {
            "text/html": [
              "<div>\n",
              "<style scoped>\n",
              "    .dataframe tbody tr th:only-of-type {\n",
              "        vertical-align: middle;\n",
              "    }\n",
              "\n",
              "    .dataframe tbody tr th {\n",
              "        vertical-align: top;\n",
              "    }\n",
              "\n",
              "    .dataframe thead th {\n",
              "        text-align: right;\n",
              "    }\n",
              "</style>\n",
              "<table border=\"1\" class=\"dataframe\">\n",
              "  <thead>\n",
              "    <tr style=\"text-align: right;\">\n",
              "      <th></th>\n",
              "      <th>target</th>\n",
              "      <th>target_names</th>\n",
              "      <th>data</th>\n",
              "      <th>topic_top_words</th>\n",
              "    </tr>\n",
              "  </thead>\n",
              "  <tbody>\n",
              "    <tr>\n",
              "      <th>0</th>\n",
              "      <td>4</td>\n",
              "      <td>a mailer</td>\n",
              "      <td>say anni list polit group support third trimes...</td>\n",
              "      <td>trump nation crime justic candid crimin texa i...</td>\n",
              "    </tr>\n",
              "    <tr>\n",
              "      <th>1</th>\n",
              "      <td>3</td>\n",
              "      <td>a floor speech.</td>\n",
              "      <td>declin coal start start natur gas took start b...</td>\n",
              "      <td>budget year state interview texa nation educ f...</td>\n",
              "    </tr>\n",
              "    <tr>\n",
              "      <th>2</th>\n",
              "      <td>1</td>\n",
              "      <td>Denver</td>\n",
              "      <td>hillari clinton agre john mccain vote give geo...</td>\n",
              "      <td>nation campaign state budget secur stimulus ec...</td>\n",
              "    </tr>\n",
              "    <tr>\n",
              "      <th>3</th>\n",
              "      <td>4</td>\n",
              "      <td>a news release</td>\n",
              "      <td>health care reform legisl like mandat free sex...</td>\n",
              "      <td>health care nation bill plan insur reform medi...</td>\n",
              "    </tr>\n",
              "    <tr>\n",
              "      <th>4</th>\n",
              "      <td>3</td>\n",
              "      <td>an interview on CNN</td>\n",
              "      <td>econom turnaround start end term charli criste...</td>\n",
              "      <td>budget year state interview texa nation educ f...</td>\n",
              "    </tr>\n",
              "    <tr>\n",
              "      <th>...</th>\n",
              "      <td>...</td>\n",
              "      <td>...</td>\n",
              "      <td>...</td>\n",
              "      <td>...</td>\n",
              "    </tr>\n",
              "    <tr>\n",
              "      <th>28674</th>\n",
              "      <td>3</td>\n",
              "      <td>a CNN interview</td>\n",
              "      <td>depart justic obama administr disagre decis ju...</td>\n",
              "      <td>nation news health obama care presid percent a...</td>\n",
              "    </tr>\n",
              "    <tr>\n",
              "      <th>28675</th>\n",
              "      <td>0</td>\n",
              "      <td>a press release.</td>\n",
              "      <td>presid obama percent gm union buddi almost per...</td>\n",
              "      <td>nation news health obama care presid percent a...</td>\n",
              "    </tr>\n",
              "    <tr>\n",
              "      <th>28676</th>\n",
              "      <td>2</td>\n",
              "      <td>a speech</td>\n",
              "      <td>day sinc passag econom stimulus save creat nea...</td>\n",
              "      <td>nation campaign state budget secur stimulus ec...</td>\n",
              "    </tr>\n",
              "    <tr>\n",
              "      <th>28677</th>\n",
              "      <td>0</td>\n",
              "      <td>a released statement</td>\n",
              "      <td>nuclear test conduct nation time earth th nucl...</td>\n",
              "      <td>budget year state interview texa nation educ f...</td>\n",
              "    </tr>\n",
              "    <tr>\n",
              "      <th>28678</th>\n",
              "      <td>2</td>\n",
              "      <td>his radio program</td>\n",
              "      <td>sotomayor rule white firefight ricci white fir...</td>\n",
              "      <td>facebook immigr post show nation punditfact fl...</td>\n",
              "    </tr>\n",
              "  </tbody>\n",
              "</table>\n",
              "<p>28679 rows × 4 columns</p>\n",
              "</div>"
            ],
            "text/plain": [
              "      target  ...                                    topic_top_words\n",
              "0          4  ...  trump nation crime justic candid crimin texa i...\n",
              "1          3  ...  budget year state interview texa nation educ f...\n",
              "2          1  ...  nation campaign state budget secur stimulus ec...\n",
              "3          4  ...  health care nation bill plan insur reform medi...\n",
              "4          3  ...  budget year state interview texa nation educ f...\n",
              "...      ...  ...                                                ...\n",
              "28674      3  ...  nation news health obama care presid percent a...\n",
              "28675      0  ...  nation news health obama care presid percent a...\n",
              "28676      2  ...  nation campaign state budget secur stimulus ec...\n",
              "28677      0  ...  budget year state interview texa nation educ f...\n",
              "28678      2  ...  facebook immigr post show nation punditfact fl...\n",
              "\n",
              "[28679 rows x 4 columns]"
            ]
          },
          "metadata": {
            "tags": []
          },
          "execution_count": 46
        }
      ]
    },
    {
      "cell_type": "code",
      "metadata": {
        "colab": {
          "base_uri": "https://localhost:8080/",
          "height": 419
        },
        "id": "uN-aLkk9wtEa",
        "outputId": "7dc1f760-5566-47c8-ad9a-f12fd8e153a1"
      },
      "source": [
        "liar_train_new['data'] = liar_train_new['data'] + liar_train_new['topic_top_words']\n",
        "liar_train_new = liar_train_new.drop(columns=['topic_top_words'])\n",
        "liar_train_new"
      ],
      "execution_count": null,
      "outputs": [
        {
          "output_type": "execute_result",
          "data": {
            "text/html": [
              "<div>\n",
              "<style scoped>\n",
              "    .dataframe tbody tr th:only-of-type {\n",
              "        vertical-align: middle;\n",
              "    }\n",
              "\n",
              "    .dataframe tbody tr th {\n",
              "        vertical-align: top;\n",
              "    }\n",
              "\n",
              "    .dataframe thead th {\n",
              "        text-align: right;\n",
              "    }\n",
              "</style>\n",
              "<table border=\"1\" class=\"dataframe\">\n",
              "  <thead>\n",
              "    <tr style=\"text-align: right;\">\n",
              "      <th></th>\n",
              "      <th>target</th>\n",
              "      <th>target_names</th>\n",
              "      <th>data</th>\n",
              "    </tr>\n",
              "  </thead>\n",
              "  <tbody>\n",
              "    <tr>\n",
              "      <th>0</th>\n",
              "      <td>4</td>\n",
              "      <td>a mailer</td>\n",
              "      <td>say anni list polit group support third trimes...</td>\n",
              "    </tr>\n",
              "    <tr>\n",
              "      <th>1</th>\n",
              "      <td>3</td>\n",
              "      <td>a floor speech.</td>\n",
              "      <td>declin coal start start natur gas took start b...</td>\n",
              "    </tr>\n",
              "    <tr>\n",
              "      <th>2</th>\n",
              "      <td>1</td>\n",
              "      <td>Denver</td>\n",
              "      <td>hillari clinton agre john mccain vote give geo...</td>\n",
              "    </tr>\n",
              "    <tr>\n",
              "      <th>3</th>\n",
              "      <td>4</td>\n",
              "      <td>a news release</td>\n",
              "      <td>health care reform legisl like mandat free sex...</td>\n",
              "    </tr>\n",
              "    <tr>\n",
              "      <th>4</th>\n",
              "      <td>3</td>\n",
              "      <td>an interview on CNN</td>\n",
              "      <td>econom turnaround start end term charli criste...</td>\n",
              "    </tr>\n",
              "    <tr>\n",
              "      <th>...</th>\n",
              "      <td>...</td>\n",
              "      <td>...</td>\n",
              "      <td>...</td>\n",
              "    </tr>\n",
              "    <tr>\n",
              "      <th>28674</th>\n",
              "      <td>3</td>\n",
              "      <td>a CNN interview</td>\n",
              "      <td>depart justic obama administr disagre decis ju...</td>\n",
              "    </tr>\n",
              "    <tr>\n",
              "      <th>28675</th>\n",
              "      <td>0</td>\n",
              "      <td>a press release.</td>\n",
              "      <td>presid obama percent gm union buddi almost per...</td>\n",
              "    </tr>\n",
              "    <tr>\n",
              "      <th>28676</th>\n",
              "      <td>2</td>\n",
              "      <td>a speech</td>\n",
              "      <td>day sinc passag econom stimulus save creat nea...</td>\n",
              "    </tr>\n",
              "    <tr>\n",
              "      <th>28677</th>\n",
              "      <td>0</td>\n",
              "      <td>a released statement</td>\n",
              "      <td>nuclear test conduct nation time earth th nucl...</td>\n",
              "    </tr>\n",
              "    <tr>\n",
              "      <th>28678</th>\n",
              "      <td>2</td>\n",
              "      <td>his radio program</td>\n",
              "      <td>sotomayor rule white firefight ricci white fir...</td>\n",
              "    </tr>\n",
              "  </tbody>\n",
              "</table>\n",
              "<p>28679 rows × 3 columns</p>\n",
              "</div>"
            ],
            "text/plain": [
              "      target  ...                                               data\n",
              "0          4  ...  say anni list polit group support third trimes...\n",
              "1          3  ...  declin coal start start natur gas took start b...\n",
              "2          1  ...  hillari clinton agre john mccain vote give geo...\n",
              "3          4  ...  health care reform legisl like mandat free sex...\n",
              "4          3  ...  econom turnaround start end term charli criste...\n",
              "...      ...  ...                                                ...\n",
              "28674      3  ...  depart justic obama administr disagre decis ju...\n",
              "28675      0  ...  presid obama percent gm union buddi almost per...\n",
              "28676      2  ...  day sinc passag econom stimulus save creat nea...\n",
              "28677      0  ...  nuclear test conduct nation time earth th nucl...\n",
              "28678      2  ...  sotomayor rule white firefight ricci white fir...\n",
              "\n",
              "[28679 rows x 3 columns]"
            ]
          },
          "metadata": {
            "tags": []
          },
          "execution_count": 47
        }
      ]
    },
    {
      "cell_type": "markdown",
      "metadata": {
        "id": "sSzCaws3c9Mc"
      },
      "source": [
        "Encoding Data into Bunch to suit BERT model processing"
      ]
    },
    {
      "cell_type": "code",
      "metadata": {
        "id": "B_bQTSFxLC0U"
      },
      "source": [
        "import sklearn.utils\n",
        "from sklearn.utils import Bunch\n",
        "tlabels = liar_test_new['target'].to_numpy()\n",
        "#labels = labels.to_numpy() \n",
        "type(tlabels)\n",
        "tdata = liar_test_new['data'].tolist()\n",
        "type(tdata)\n",
        "tdata_names = liar_test_new['target_names'].tolist()\n",
        "test = Bunch(target=tlabels, data=tdata, target_names=tdata_names)\n",
        "test.target = test.target.astype(int)"
      ],
      "execution_count": null,
      "outputs": []
    },
    {
      "cell_type": "code",
      "metadata": {
        "id": "sTdFKVvU_siC",
        "colab": {
          "base_uri": "https://localhost:8080/"
        },
        "outputId": "0fc1255e-988e-46f3-f693-fd56445fab8c"
      },
      "source": [
        "import sklearn.utils\n",
        "from sklearn.utils import Bunch\n",
        "labels = liar_train_new['target'].to_numpy()\n",
        "#labels = labels.to_numpy() \n",
        "type(labels)\n",
        "data = liar_train_new['data'].tolist()\n",
        "print(type(data))\n",
        "data_names = liar_train_new['target_names'].tolist()\n",
        "train = Bunch(target=labels, data=data, target_names=data_names)\n",
        "train.target = train.target.astype(int)"
      ],
      "execution_count": null,
      "outputs": [
        {
          "output_type": "stream",
          "text": [
            "<class 'list'>\n"
          ],
          "name": "stdout"
        }
      ]
    },
    {
      "cell_type": "code",
      "metadata": {
        "id": "Njp6-5b5NwiE",
        "colab": {
          "base_uri": "https://localhost:8080/"
        },
        "outputId": "b01b24b7-f01f-459e-9b30-b8567cd0c9f8"
      },
      "source": [
        "import textwrap\n",
        "import random\n",
        "\n",
        "# Wrap text to 80 characters.\n",
        "wrapper = textwrap.TextWrapper(width=80) \n",
        "\n",
        "# Randomly choose some examples.\n",
        "for i in range(10):\n",
        "    \n",
        "    # Choose a random sample by index.\n",
        "    j = random.choice(range(len(train.data)))\n",
        "    # Get the text as 'x' and the label integer as 'y'.\n",
        "    x = train.data[j]\n",
        "    print(len(x))\n",
        "    y = train.target[j]\n",
        "\n",
        "    # Print out the name of the category and the text.\n",
        "    print('')\n",
        "    print('========', train.target_names[y], '========')\n",
        "    print(wrapper.fill(x))\n",
        "    print('')\n"
      ],
      "execution_count": null,
      "outputs": [
        {
          "output_type": "stream",
          "text": [
            "256\n",
            "\n",
            "======== a floor speech. ========\n",
            "sixti million american depend social secur one third senior america depend\n",
            "social secur percent incom mike huckabeeincom retir social securitya speech gov\n",
            "rick scott econom summit orlandonation campaign state budget secur stimulus\n",
            "economi social ohio obama\n",
            "\n",
            "216\n",
            "\n",
            "======== an interview on CNN ========\n",
            "say award win milwauke public school teacher megan sampson laid gov scott walker\n",
            "cut state aid educ columngail collin educ labor wisconsin gail collinstate\n",
            "budget island rhode wisconsin public educ scott texa georgia\n",
            "\n",
            "225\n",
            "\n",
            "======== a floor speech. ========\n",
            "say employ still allow pay peopl disabl minimum wage speech democrat nation\n",
            "conventiontom harkin nation civil right disabl incom job regul worker tom\n",
            "harkinnation campaign state budget secur stimulus economi social ohio obama\n",
            "\n",
            "212\n",
            "\n",
            "======== an interview on CNN ========\n",
            "claim suprem court justic ruth bader ginsburg said prefer south african\n",
            "constitut unit state constitut rick santorumleg issu suprem courta speechtrump\n",
            "nation crime justic candid crimin texa immigr biographi court\n",
            "\n",
            "213\n",
            "\n",
            "======== an interview on CNN ========\n",
            "say gop challeng doug macginniti hadnt vote republican primari almost year brian\n",
            "kempvot recorda cobb counti republican parti breakfast speech junebudget year\n",
            "state interview texa nation educ florida feder georgia\n",
            "\n",
            "165\n",
            "\n",
            "======== a news release ========\n",
            "gov bob mcdonnel even creat enough job keep pace popul growth virginia brian\n",
            "moranjobsa news releasbudget year state interview texa nation educ florida feder\n",
            "georgia\n",
            "\n",
            "207\n",
            "\n",
            "======== a news release ========\n",
            "propos amend allow teenag get recommend medic marijuana without consent parent\n",
            "group websitedon let florida go pot job wisconsin brett hulseystate budget\n",
            "island rhode wisconsin public educ scott texa georgia\n",
            "\n",
            "221\n",
            "\n",
            "======== a floor speech. ========\n",
            "last year democrat near vote yet hold seat state hous seat state senat\n",
            "newsletterroy cooper correct updat crimin justic crime tax california john\n",
            "moorlachtrump nation crime justic candid crimin texa immigr biographi court\n",
            "\n",
            "178\n",
            "\n",
            "======== a an online opinion-piece ========\n",
            "sherrod brown gave huge bonus execut josh mandeleconomi messag machin stimulus\n",
            "vote recorda campaign commercination campaign state budget secur stimulus\n",
            "economi social ohio obama\n",
            "\n",
            "172\n",
            "\n",
            "======== an interview on CNN ========\n",
            "ammunit use orlando shoot ban geneva convent enter bodi spin explod michael\n",
            "mooregunsa tweet orlando shootstate budget island rhode wisconsin public educ\n",
            "scott texa georgia\n",
            "\n"
          ],
          "name": "stdout"
        }
      ]
    },
    {
      "cell_type": "markdown",
      "metadata": {
        "id": "zU5aPNzzLjeq"
      },
      "source": [
        "Let's look at the classes to see how balanced they are."
      ]
    },
    {
      "cell_type": "code",
      "metadata": {
        "id": "fcBinIxWLjer",
        "colab": {
          "base_uri": "https://localhost:8080/",
          "height": 443
        },
        "outputId": "126501a6-1fb4-41bb-db1f-bda76980c90f"
      },
      "source": [
        "import matplotlib.pyplot as plt\n",
        "import seaborn as sns\n",
        "import numpy as np\n",
        "\n",
        "sns.set(style='darkgrid')\n",
        "\n",
        "# Increase the plot size and font size.\n",
        "sns.set(font_scale=1.5)\n",
        "plt.rcParams[\"figure.figsize\"] = (10,5)\n",
        "\n",
        "\n",
        "# Plot the number of tokens of each length.\n",
        "sns.countplot(train.target)\n",
        "plt.title('Class Distribution')\n",
        "plt.xlabel('Category')\n",
        "plt.ylabel('# of Training Samples')\n"
      ],
      "execution_count": null,
      "outputs": [
        {
          "output_type": "stream",
          "text": [
            "/usr/local/lib/python3.6/dist-packages/seaborn/_decorators.py:43: FutureWarning: Pass the following variable as a keyword arg: x. From version 0.12, the only valid positional argument will be `data`, and passing other arguments without an explicit keyword will result in an error or misinterpretation.\n",
            "  FutureWarning\n"
          ],
          "name": "stderr"
        },
        {
          "output_type": "execute_result",
          "data": {
            "text/plain": [
              "Text(0, 0.5, '# of Training Samples')"
            ]
          },
          "metadata": {
            "tags": []
          },
          "execution_count": 51
        },
        {
          "output_type": "display_data",
          "data": {
            "image/png": "[encoded data removed]",
            "text/plain": [
              "<Figure size 720x360 with 1 Axes>"
            ]
          },
          "metadata": {
            "tags": []
          }
        }
      ]
    },
    {
      "cell_type": "markdown",
      "metadata": {
        "id": "Kd1aKF3RQzL1"
      },
      "source": [
        "They look pretty even, except for maybe class 5, which corresponds to 'a an online opinion-piece'."
      ]
    },
    {
      "cell_type": "code",
      "metadata": {
        "id": "WM2D8cKlQ24c",
        "colab": {
          "base_uri": "https://localhost:8080/",
          "height": 35
        },
        "outputId": "de5be8c8-1436-4b63-abc2-d6b0dff25c5e"
      },
      "source": [
        "train.target_names[5]"
      ],
      "execution_count": null,
      "outputs": [
        {
          "output_type": "execute_result",
          "data": {
            "application/vnd.google.colaboratory.intrinsic+json": {
              "type": "string"
            },
            "text/plain": [
              "'a an online opinion-piece'"
            ]
          },
          "metadata": {
            "tags": []
          },
          "execution_count": 52
        }
      ]
    },
    {
      "cell_type": "markdown",
      "metadata": {
        "id": "2_HzeZqLFWeh"
      },
      "source": [
        "## S6. Tokenization"
      ]
    },
    {
      "cell_type": "markdown",
      "metadata": {
        "id": "k_qjYE4eFciL"
      },
      "source": [
        "BERT has a maximum input length of 512 tokens, so we'll need to truncate any comments which are longer than this.\n"
      ]
    },
    {
      "cell_type": "markdown",
      "metadata": {
        "id": "OMHzhnmuGrpb"
      },
      "source": [
        "### 6.1. Load BertTokenizer"
      ]
    },
    {
      "cell_type": "markdown",
      "metadata": {
        "id": "vT0b0-5NGq0y"
      },
      "source": [
        "preprocess the data for BERT to be able to analyze it.\n",
        "\n",
        "In order to see the distribution of comment lengths *in terms of BERT tokens*, we'll need to first apply the BertTokenizer to the dataset."
      ]
    },
    {
      "cell_type": "code",
      "metadata": {
        "id": "Z474sSC6oe7A",
        "colab": {
          "base_uri": "https://localhost:8080/",
          "height": 83,
          "referenced_widgets": [
            "03464f2c5cf64ed99e18b1d7b9a049fe",
            "e13e04b23d20455eb3e079fc238ef3eb",
            "86ca2e2baeca4d0ca7053c29f70cd626",
            "96d0e4578d7b4f8b872659964459156d",
            "21d4ec5517784b6f83c255b6d53a4e2c",
            "555a06b07a434614a44963808bd9b625",
            "ca3cf2ef7ff24467af3f6697a2185d87",
            "053285a0308245569bf167b87211e63e"
          ]
        },
        "outputId": "f3344097-d618-4585-ec3f-492439e4aae4"
      },
      "source": [
        "from transformers import BertTokenizer\n",
        "\n",
        "# Load the BERT tokenizer.\n",
        "print('Loading BERT tokenizer...')\n",
        "tokenizer = BertTokenizer.from_pretrained('bert-base-uncased', do_lower_case=True)"
      ],
      "execution_count": null,
      "outputs": [
        {
          "output_type": "stream",
          "text": [
            "Loading BERT tokenizer...\n"
          ],
          "name": "stdout"
        },
        {
          "output_type": "display_data",
          "data": {
            "application/vnd.jupyter.widget-view+json": {
              "model_id": "03464f2c5cf64ed99e18b1d7b9a049fe",
              "version_minor": 0,
              "version_major": 2
            },
            "text/plain": [
              "HBox(children=(FloatProgress(value=0.0, description='Downloading', max=231508.0, style=ProgressStyle(descripti…"
            ]
          },
          "metadata": {
            "tags": []
          }
        },
        {
          "output_type": "stream",
          "text": [
            "\n"
          ],
          "name": "stdout"
        }
      ]
    },
    {
      "cell_type": "markdown",
      "metadata": {
        "id": "-8kEDRvShcU5"
      },
      "source": [
        "### 6.2. Sequence Length Distribution"
      ]
    },
    {
      "cell_type": "markdown",
      "metadata": {
        "id": "OGkq8hQJfqZY"
      },
      "source": [
        "To decide on a truncation strategy for this dataset, let's first look at the distribution of sequence lengths.\n",
        "\n",
        "To do this, our first step is to tokenize all of the samples in the training set."
      ]
    },
    {
      "cell_type": "markdown",
      "metadata": {
        "id": "1M296yz577fV"
      },
      "source": [
        "**Tokenize All Samples**\n",
        "\n",
        "The `tokenizer.encode` function combines multiple steps for us:\n",
        "1. Split the sentence into tokens.\n",
        "2. Add the special `[CLS]` and `[SEP]` tokens.\n",
        "3. Map the tokens to their IDs."
      ]
    },
    {
      "cell_type": "code",
      "metadata": {
        "id": "2bBdb3pt8LuQ",
        "colab": {
          "base_uri": "https://localhost:8080/"
        },
        "outputId": "ea3748f1-3ed5-42d9-d1b5-1df178c9939d"
      },
      "source": [
        "import numpy as np\n",
        "\n",
        "# Tokenize all of the sentences and map the tokens to thier word IDs.\n",
        "input_ids = []\n",
        "\n",
        "# Record the length of each sequence (in terms of BERT tokens).\n",
        "lengths = []\n",
        "\n",
        "print('Tokenizing comments...')\n",
        "\n",
        "# For every sentence...\n",
        "for sen in train.data:\n",
        "    \n",
        "    # Report progress.\n",
        "    if ((len(input_ids) % 20000) == 0):\n",
        "        print('  Read {:,} comments.'.format(len(input_ids)))\n",
        "    \n",
        "    # `encode` will:\n",
        "    #   (1) Tokenize the sentence.\n",
        "    #   (2) Prepend the `[CLS]` token to the start.\n",
        "    #   (3) Append the `[SEP]` token to the end.\n",
        "    #   (4) Map tokens to their IDs.\n",
        "    encoded_sent = tokenizer.encode(\n",
        "                        sen,                      # Sentence to encode.\n",
        "                        add_special_tokens = True, # Add '[CLS]' and '[SEP]'\n",
        "                        max_length = 512,          # Truncate all sentences.                        \n",
        "                        #return_tensors = 'pt',     # Return pytorch tensors.\n",
        "                   )\n",
        "    \n",
        "    # Add the encoded sentence to the list.\n",
        "    input_ids.append(encoded_sent)\n",
        "\n",
        "    # Record the non-truncated length.\n",
        "    lengths.append(len(encoded_sent))\n",
        "\n",
        "print('DONE.')\n",
        "print('{:>10,} comments'.format(len(input_ids)))"
      ],
      "execution_count": null,
      "outputs": [
        {
          "output_type": "stream",
          "text": [
            "Truncation was not explicitly activated but `max_length` is provided a specific value, please use `truncation=True` to explicitly truncate examples to max length. Defaulting to 'longest_first' truncation strategy. If you encode pairs of sequences (GLUE-style) with the tokenizer you can select this strategy more precisely by providing a specific strategy to `truncation`.\n"
          ],
          "name": "stderr"
        },
        {
          "output_type": "stream",
          "text": [
            "Tokenizing comments...\n",
            "  Read 0 comments.\n",
            "  Read 20,000 comments.\n",
            "DONE.\n",
            "    28,679 comments\n"
          ],
          "name": "stdout"
        }
      ]
    },
    {
      "cell_type": "markdown",
      "metadata": {
        "id": "X_erWZU7hDTB"
      },
      "source": [
        "Print the min, max and median sentence lengths"
      ]
    },
    {
      "cell_type": "code",
      "metadata": {
        "id": "qmrQVSsjg6By",
        "colab": {
          "base_uri": "https://localhost:8080/"
        },
        "outputId": "e86e2759-87c5-4fcb-8b64-512cfdce1e11"
      },
      "source": [
        "print('   Min length: {:,} tokens'.format(min(lengths)))\n",
        "print('   Max length: {:,} tokens'.format(max(lengths)))\n",
        "print('Median length: {:,} tokens'.format(np.median(lengths)))"
      ],
      "execution_count": null,
      "outputs": [
        {
          "output_type": "stream",
          "text": [
            "   Min length: 17 tokens\n",
            "   Max length: 510 tokens\n",
            "Median length: 46.0 tokens\n"
          ],
          "name": "stdout"
        }
      ]
    },
    {
      "cell_type": "markdown",
      "metadata": {
        "id": "jIkyE9qjSjk3"
      },
      "source": [
        "What percentage are over the 512 limit?"
      ]
    },
    {
      "cell_type": "code",
      "metadata": {
        "id": "DsAV58bZSmEt",
        "colab": {
          "base_uri": "https://localhost:8080/"
        },
        "outputId": "ce8fc074-d1d1-46aa-bd89-31afe1c423ad"
      },
      "source": [
        "num_over = 0\n",
        "\n",
        "# For all of the length values...\n",
        "for length in lengths:\n",
        "    # Tally if it's over 512.\n",
        "    if length > 512:\n",
        "        num_over += 1\n",
        "\n",
        "print('{:,} of {:,} comments will be truncated ({:.2%})'.format(num_over, len(lengths), float(num_over) / float(len(lengths))))"
      ],
      "execution_count": null,
      "outputs": [
        {
          "output_type": "stream",
          "text": [
            "0 of 28,679 comments will be truncated (0.00%)\n"
          ],
          "name": "stdout"
        }
      ]
    },
    {
      "cell_type": "markdown",
      "metadata": {
        "id": "xytsw1oIfnX0"
      },
      "source": [
        "To further analyze it, let's plot the distribution.\n"
      ]
    },
    {
      "cell_type": "code",
      "metadata": {
        "id": "iLhi9A49zmsy",
        "colab": {
          "base_uri": "https://localhost:8080/",
          "height": 443
        },
        "outputId": "400b25e3-3ced-4df4-e006-98cae60493c4"
      },
      "source": [
        "import matplotlib.pyplot as plt\n",
        "import seaborn as sns\n",
        "import numpy as np\n",
        "\n",
        "sns.set(style='darkgrid')\n",
        "\n",
        "# Increase the plot size and font size.\n",
        "sns.set(font_scale=1.5)\n",
        "plt.rcParams[\"figure.figsize\"] = (10,5)\n",
        "\n",
        "# Truncate any comment lengths greater than 512.\n",
        "trunc_lengths = [min(l, 512) for l in lengths]\n",
        "\n",
        "# Plot the distribution of comment lengths.\n",
        "sns.distplot(trunc_lengths, kde=False, rug=False)\n",
        "\n",
        "# Alternatively, you might try using a log scale on the x-axis, but this is \n",
        "# tricky. See here for one approach:\n",
        "# https://stackoverflow.com/questions/47850202/plotting-a-histogram-on-a-log-scale-with-matplotlib?rq=1\n",
        "#plt.xscale('log')\n",
        "\n",
        "plt.title('Comment Lengths')\n",
        "plt.xlabel('Comment Length')\n",
        "plt.ylabel('# of Comments')\n"
      ],
      "execution_count": null,
      "outputs": [
        {
          "output_type": "stream",
          "text": [
            "/usr/local/lib/python3.6/dist-packages/seaborn/distributions.py:2551: FutureWarning: `distplot` is a deprecated function and will be removed in a future version. Please adapt your code to use either `displot` (a figure-level function with similar flexibility) or `histplot` (an axes-level function for histograms).\n",
            "  warnings.warn(msg, FutureWarning)\n"
          ],
          "name": "stderr"
        },
        {
          "output_type": "execute_result",
          "data": {
            "text/plain": [
              "Text(0, 0.5, '# of Comments')"
            ]
          },
          "metadata": {
            "tags": []
          },
          "execution_count": 57
        },
        {
          "output_type": "display_data",
          "data": {
            "image/png": "[encoded data removed]",
            "text/plain": [
              "<Figure size 720x360 with 1 Axes>"
            ]
          },
          "metadata": {
            "tags": []
          }
        }
      ]
    },
    {
      "cell_type": "code",
      "metadata": {
        "id": "3QRtTvxKm1Vk"
      },
      "source": [
        "col = ['barely_true_count','false_count','half_true_count','mostly_true_count','pants_on_fire_count']"
      ],
      "execution_count": null,
      "outputs": []
    },
    {
      "cell_type": "code",
      "metadata": {
        "id": "XrPC1EqPmKxF"
      },
      "source": [
        "from sklearn.decomposition import PCA\n",
        "from sklearn.preprocessing import StandardScaler\n",
        "new = politifact_new[col]\n",
        "history_features= liar_train_df[col]\n",
        "history_features = np.concatenate((history_features, new), axis=0)\n",
        "scaler = StandardScaler()\n",
        "scaler.fit(history_features)\n",
        "StandardScaler(copy=True, with_mean=True, with_std=True)\n",
        "history_features = scaler.transform(history_features)\n"
      ],
      "execution_count": null,
      "outputs": []
    },
    {
      "cell_type": "code",
      "metadata": {
        "id": "eg_8UAyPmUw5",
        "colab": {
          "base_uri": "https://localhost:8080/"
        },
        "outputId": "0fbf35af-7974-4797-ae21-950603ef549e"
      },
      "source": [
        "history_features_t= liar_test_df[col]\n",
        "scaler = StandardScaler()\n",
        "scaler.fit(history_features_t)\n",
        "StandardScaler(copy=True, with_mean=True, with_std=True)\n",
        "history_features_t = scaler.transform(history_features_t)\n",
        "history_features_t "
      ],
      "execution_count": null,
      "outputs": [
        {
          "output_type": "execute_result",
          "data": {
            "text/plain": [
              "array([[ 0.96082184,  0.6904596 ,  0.67691597,  0.16685021,  0.79602736],\n",
              "       [-0.51495924, -0.52055559, -0.4866789 , -0.4635377 , -0.39966519],\n",
              "       [ 2.70013525,  4.19822773,  0.92625773,  0.55056458,  3.65240399],\n",
              "       ...,\n",
              "       [-0.56766571, -0.56231473, -0.4866789 , -0.4635377 , -0.39966519],\n",
              "       [-0.14601397, -0.22824157, -0.2096325 ,  0.02980936, -0.2003831 ],\n",
              "       [-0.56766571, -0.52055559, -0.4866789 , -0.4635377 , -0.39966519]])"
            ]
          },
          "metadata": {
            "tags": []
          },
          "execution_count": 60
        }
      ]
    },
    {
      "cell_type": "code",
      "metadata": {
        "id": "sPN9UmdHCv1w"
      },
      "source": [
        "max_len = 300"
      ],
      "execution_count": null,
      "outputs": []
    },
    {
      "cell_type": "code",
      "metadata": {
        "id": "cvdp0rPvmLnc"
      },
      "source": [
        "X_train = history_features\n",
        "X_train = np.array(X_train)\n",
        "num_rows, num_cols = X_train.shape\n",
        "suffix = np.zeros([num_rows, max_len-num_cols])\n",
        "X_train = np.concatenate((X_train,suffix),axis=1)"
      ],
      "execution_count": null,
      "outputs": []
    },
    {
      "cell_type": "code",
      "metadata": {
        "id": "Ysk79_JXmdoD"
      },
      "source": [
        "X_test = history_features_t\n",
        "X_test = np.array(X_test)\n",
        "num_rows, num_cols = X_test.shape\n",
        "suffix = np.zeros([num_rows, max_len-num_cols])\n",
        "X_test = np.concatenate((X_test,suffix),axis=1)"
      ],
      "execution_count": null,
      "outputs": []
    },
    {
      "cell_type": "markdown",
      "metadata": {
        "id": "7oQ69-4wU7v-"
      },
      "source": [
        "### 6.3. Perform Tokenization"
      ]
    },
    {
      "cell_type": "markdown",
      "metadata": {
        "id": "tIWAoWL2RK1p"
      },
      "source": [
        "Now we're ready to perform the real tokenization.\n",
        "\n",
        "The `tokenizer.encode_plus` function combines multiple steps for us:\n",
        "\n",
        "1. Split the sentence into tokens.\n",
        "2. Add the special `[CLS]` and `[SEP]` tokens.\n",
        "3. Map the tokens to their IDs.\n",
        "4. Pad or truncate all sentences to the same length.\n",
        "5. Create the attention masks which explicitly differentiate real tokens from `[PAD]` tokens.\n",
        "\n",
        "The first four features are in `tokenizer.encode`, but I'm using `tokenizer.encode_plus` to get the fifth item (attention masks). \n"
      ]
    },
    {
      "cell_type": "code",
      "metadata": {
        "id": "1ijEWKSYUpHh",
        "colab": {
          "base_uri": "https://localhost:8080/"
        },
        "outputId": "0c379d2e-92b5-4cd8-ba76-4aad6401906a"
      },
      "source": [
        "# Tokenize a dataset of comments.\n",
        "\n",
        "# Parameters:\n",
        "#  `comments` - List of comments, represented as strings.\n",
        "#  `labels` - List of integer labels for the corresponding comments.\n",
        "#  `max_len` - Truncate all of the comments down to this length.\n",
        "    \n",
        "# Returns:\n",
        "#  `input_ids` - All of the comments represented as lists of token IDs,\n",
        "#               padded out to `max_len`, and cast as a PyTorch tensor.\n",
        "#  `labels` - The labels for the corresponding comments, formatted as \n",
        "#              a PyTorch tensor.\n",
        "#  `attention_masks` - PyTorch tensor with the same dimensions as\n",
        "#                     `input_ids`. For each token, simply indicates whether\n",
        "#                      it is padding or not.\n",
        "\n",
        "comments = train.data\n",
        "labels   = train.target\n",
        "\n",
        "# Tokenize all of the sentences and map the tokens to thier word IDs.\n",
        "input_ids = []\n",
        "attention_masks = []\n",
        "\n",
        "print('Tokenizing {:,} comments...'.format(len(comments)))\n",
        "\n",
        "    # For every comment (\"sentence\")...\n",
        "for sent in comments:\n",
        "\n",
        "        # Report progress.\n",
        "        if ((len(input_ids) % 500) == 0):\n",
        "            print('  Tokenized {:,} comments.'.format(len(input_ids)))\n",
        "\n",
        "        # `encode_plus` will:\n",
        "        #   (1) Tokenize the sentence.\n",
        "        #   (2) Prepend the `[CLS]` token to the start.\n",
        "        #   (3) Append the `[SEP]` token to the end.\n",
        "        #   (4) Map tokens to their IDs.\n",
        "        #   (5) Pad or truncate the sentence to `max_length`\n",
        "        #   (6) Create attention masks for [PAD] tokens.\n",
        "        encoded_dict = tokenizer.encode_plus(\n",
        "                            sent,                      # Sentence to encode.\n",
        "                            add_special_tokens = True, # Add '[CLS]' and '[SEP]'\n",
        "                            max_length = max_len,      # Pad & truncate all sentences.\n",
        "                            pad_to_max_length = True,\n",
        "                            return_attention_mask = True,   # Construct attn. masks.\n",
        "                            return_tensors = 'pt',     # Return pytorch tensors.\n",
        "                    )\n",
        "        # print(encoded_dict['input_ids'])\n",
        "        # Add the encoded sentence to the list.    \n",
        "        input_ids.append(encoded_dict['input_ids'])\n",
        "        \n",
        "        # And its attention mask (simply differentiates padding from non-padding).\n",
        "        attention_masks.append(encoded_dict['attention_mask'])\n",
        "\n",
        "# Convert the lists into tensors.\n",
        "input_ids = torch.cat(input_ids, dim=0)\n",
        "attention_masks = torch.cat(attention_masks, dim=0)\n",
        "\n",
        "input_ids = input_ids.numpy().astype(float)\n",
        "# for i in range(0,11410):\n",
        "for i in range(0,28678): \n",
        "    for j in range(0,299):\n",
        "       #print(input_ids[i][j])\n",
        "       if(int(input_ids[i][j])==102):\n",
        "         input_ids[i][j] = X_train[i][0]\n",
        "         input_ids[i][j+1] = X_train[i][1]\n",
        "         input_ids[i][j+2] = X_train[i][2]\n",
        "         input_ids[i][j+3] = X_train[i][3]\n",
        "         input_ids[i][j+4] = X_train[i][4]\n",
        "         input_ids[i][j+5] = 102\n",
        "         break \n",
        "\n",
        "input_ids = torch.from_numpy(input_ids) \n",
        "# Convert the labels to a tensor.\n",
        "labels = torch.tensor(torch.from_numpy(labels))\n",
        "print(labels)\n",
        "\n",
        "(train_input_ids, \n",
        " train_labels, \n",
        " train_attention_masks) = (input_ids, labels, attention_masks)\n"
      ],
      "execution_count": null,
      "outputs": [
        {
          "output_type": "stream",
          "text": [
            "Tokenizing 28,679 comments...\n",
            "  Tokenized 0 comments.\n"
          ],
          "name": "stdout"
        },
        {
          "output_type": "stream",
          "text": [
            "/usr/local/lib/python3.6/dist-packages/transformers/tokenization_utils_base.py:2022: FutureWarning: The `pad_to_max_length` argument is deprecated and will be removed in a future version, use `padding=True` or `padding='longest'` to pad to the longest sequence in the batch, or use `padding='max_length'` to pad to a max length. In this case, you can give a specific length with `max_length` (e.g. `max_length=45`) or leave max_length to None to pad to the maximal input size of the model (e.g. 512 for Bert).\n",
            "  FutureWarning,\n"
          ],
          "name": "stderr"
        },
        {
          "output_type": "stream",
          "text": [
            "  Tokenized 500 comments.\n",
            "  Tokenized 1,000 comments.\n",
            "  Tokenized 1,500 comments.\n",
            "  Tokenized 2,000 comments.\n",
            "  Tokenized 2,500 comments.\n",
            "  Tokenized 3,000 comments.\n",
            "  Tokenized 3,500 comments.\n",
            "  Tokenized 4,000 comments.\n",
            "  Tokenized 4,500 comments.\n",
            "  Tokenized 5,000 comments.\n",
            "  Tokenized 5,500 comments.\n",
            "  Tokenized 6,000 comments.\n",
            "  Tokenized 6,500 comments.\n",
            "  Tokenized 7,000 comments.\n",
            "  Tokenized 7,500 comments.\n",
            "  Tokenized 8,000 comments.\n",
            "  Tokenized 8,500 comments.\n",
            "  Tokenized 9,000 comments.\n",
            "  Tokenized 9,500 comments.\n",
            "  Tokenized 10,000 comments.\n",
            "  Tokenized 10,500 comments.\n",
            "  Tokenized 11,000 comments.\n",
            "  Tokenized 11,500 comments.\n",
            "  Tokenized 12,000 comments.\n",
            "  Tokenized 12,500 comments.\n",
            "  Tokenized 13,000 comments.\n",
            "  Tokenized 13,500 comments.\n",
            "  Tokenized 14,000 comments.\n",
            "  Tokenized 14,500 comments.\n",
            "  Tokenized 15,000 comments.\n",
            "  Tokenized 15,500 comments.\n",
            "  Tokenized 16,000 comments.\n",
            "  Tokenized 16,500 comments.\n",
            "  Tokenized 17,000 comments.\n",
            "  Tokenized 17,500 comments.\n",
            "  Tokenized 18,000 comments.\n",
            "  Tokenized 18,500 comments.\n",
            "  Tokenized 19,000 comments.\n",
            "  Tokenized 19,500 comments.\n",
            "  Tokenized 20,000 comments.\n",
            "  Tokenized 20,500 comments.\n",
            "  Tokenized 21,000 comments.\n",
            "  Tokenized 21,500 comments.\n",
            "  Tokenized 22,000 comments.\n",
            "  Tokenized 22,500 comments.\n",
            "  Tokenized 23,000 comments.\n",
            "  Tokenized 23,500 comments.\n",
            "  Tokenized 24,000 comments.\n",
            "  Tokenized 24,500 comments.\n",
            "  Tokenized 25,000 comments.\n",
            "  Tokenized 25,500 comments.\n",
            "  Tokenized 26,000 comments.\n",
            "  Tokenized 26,500 comments.\n",
            "  Tokenized 27,000 comments.\n",
            "  Tokenized 27,500 comments.\n",
            "  Tokenized 28,000 comments.\n",
            "  Tokenized 28,500 comments.\n",
            "tensor([4, 3, 1,  ..., 2, 0, 2])\n"
          ],
          "name": "stdout"
        },
        {
          "output_type": "stream",
          "text": [
            "/usr/local/lib/python3.6/dist-packages/ipykernel_launcher.py:75: UserWarning: To copy construct from a tensor, it is recommended to use sourceTensor.clone().detach() or sourceTensor.clone().detach().requires_grad_(True), rather than torch.tensor(sourceTensor).\n"
          ],
          "name": "stderr"
        }
      ]
    },
    {
      "cell_type": "markdown",
      "metadata": {
        "id": "TT4m3oytdVMK"
      },
      "source": [
        "Now we'll use the above function to actually perform the tokenization of the training comments."
      ]
    },
    {
      "cell_type": "code",
      "metadata": {
        "id": "y1CRcdfqdfGi",
        "colab": {
          "base_uri": "https://localhost:8080/"
        },
        "outputId": "0c678210-547b-4e2f-8cbc-e5ed18e5339c"
      },
      "source": [
        "# Print sentence 0, now as a list of IDs.\n",
        "print('Original:1 ', train.data[0])\n",
        "print('Token IDs:1', train_input_ids[0])\n"
      ],
      "execution_count": null,
      "outputs": [
        {
          "output_type": "stream",
          "text": [
            "Original:1  say anni list polit group support third trimest abort demand dwayn bohacabortiona mailertrump nation crime justic crimin texa environ donald court john\n",
            "Token IDs:1 tensor([ 1.0100e+02,  2.3600e+03,  5.7540e+03,  2.0720e+03,  2.8620e+03,\n",
            "         1.4955e+04,  4.1830e+03,  2.1770e+03,  2.4900e+03,  2.3530e+03,\n",
            "         1.2241e+04,  4.3550e+03,  1.1113e+04,  1.1589e+04,  5.1570e+03,\n",
            "         1.0400e+03,  4.5760e+03,  2.0780e+03,  8.9450e+03,  3.2700e+03,\n",
            "         3.5400e+03,  1.2821e+04,  3.5080e+03,  2.0500e+03,  5.6530e+03,\n",
            "         8.7430e+03,  6.8240e+03,  2.3610e+03,  3.8420e+03,  4.1260e+03,\n",
            "         2.0740e+03,  2.5940e+03,  1.3675e+04,  2.7605e+04,  2.0780e+03,\n",
            "         1.6060e+04,  2.0500e+03,  4.3720e+03,  2.1663e+04,  2.2390e+03,\n",
            "         6.2210e+03,  2.4570e+03,  2.1980e+03, -3.7803e-01, -2.7070e-01,\n",
            "        -3.0406e-01, -2.9059e-01, -2.3876e-01,  1.0200e+02,  0.0000e+00,\n",
            "         0.0000e+00,  0.0000e+00,  0.0000e+00,  0.0000e+00,  0.0000e+00,\n",
            "         0.0000e+00,  0.0000e+00,  0.0000e+00,  0.0000e+00,  0.0000e+00,\n",
            "         0.0000e+00,  0.0000e+00,  0.0000e+00,  0.0000e+00,  0.0000e+00,\n",
            "         0.0000e+00,  0.0000e+00,  0.0000e+00,  0.0000e+00,  0.0000e+00,\n",
            "         0.0000e+00,  0.0000e+00,  0.0000e+00,  0.0000e+00,  0.0000e+00,\n",
            "         0.0000e+00,  0.0000e+00,  0.0000e+00,  0.0000e+00,  0.0000e+00,\n",
            "         0.0000e+00,  0.0000e+00,  0.0000e+00,  0.0000e+00,  0.0000e+00,\n",
            "         0.0000e+00,  0.0000e+00,  0.0000e+00,  0.0000e+00,  0.0000e+00,\n",
            "         0.0000e+00,  0.0000e+00,  0.0000e+00,  0.0000e+00,  0.0000e+00,\n",
            "         0.0000e+00,  0.0000e+00,  0.0000e+00,  0.0000e+00,  0.0000e+00,\n",
            "         0.0000e+00,  0.0000e+00,  0.0000e+00,  0.0000e+00,  0.0000e+00,\n",
            "         0.0000e+00,  0.0000e+00,  0.0000e+00,  0.0000e+00,  0.0000e+00,\n",
            "         0.0000e+00,  0.0000e+00,  0.0000e+00,  0.0000e+00,  0.0000e+00,\n",
            "         0.0000e+00,  0.0000e+00,  0.0000e+00,  0.0000e+00,  0.0000e+00,\n",
            "         0.0000e+00,  0.0000e+00,  0.0000e+00,  0.0000e+00,  0.0000e+00,\n",
            "         0.0000e+00,  0.0000e+00,  0.0000e+00,  0.0000e+00,  0.0000e+00,\n",
            "         0.0000e+00,  0.0000e+00,  0.0000e+00,  0.0000e+00,  0.0000e+00,\n",
            "         0.0000e+00,  0.0000e+00,  0.0000e+00,  0.0000e+00,  0.0000e+00,\n",
            "         0.0000e+00,  0.0000e+00,  0.0000e+00,  0.0000e+00,  0.0000e+00,\n",
            "         0.0000e+00,  0.0000e+00,  0.0000e+00,  0.0000e+00,  0.0000e+00,\n",
            "         0.0000e+00,  0.0000e+00,  0.0000e+00,  0.0000e+00,  0.0000e+00,\n",
            "         0.0000e+00,  0.0000e+00,  0.0000e+00,  0.0000e+00,  0.0000e+00,\n",
            "         0.0000e+00,  0.0000e+00,  0.0000e+00,  0.0000e+00,  0.0000e+00,\n",
            "         0.0000e+00,  0.0000e+00,  0.0000e+00,  0.0000e+00,  0.0000e+00,\n",
            "         0.0000e+00,  0.0000e+00,  0.0000e+00,  0.0000e+00,  0.0000e+00,\n",
            "         0.0000e+00,  0.0000e+00,  0.0000e+00,  0.0000e+00,  0.0000e+00,\n",
            "         0.0000e+00,  0.0000e+00,  0.0000e+00,  0.0000e+00,  0.0000e+00,\n",
            "         0.0000e+00,  0.0000e+00,  0.0000e+00,  0.0000e+00,  0.0000e+00,\n",
            "         0.0000e+00,  0.0000e+00,  0.0000e+00,  0.0000e+00,  0.0000e+00,\n",
            "         0.0000e+00,  0.0000e+00,  0.0000e+00,  0.0000e+00,  0.0000e+00,\n",
            "         0.0000e+00,  0.0000e+00,  0.0000e+00,  0.0000e+00,  0.0000e+00,\n",
            "         0.0000e+00,  0.0000e+00,  0.0000e+00,  0.0000e+00,  0.0000e+00,\n",
            "         0.0000e+00,  0.0000e+00,  0.0000e+00,  0.0000e+00,  0.0000e+00,\n",
            "         0.0000e+00,  0.0000e+00,  0.0000e+00,  0.0000e+00,  0.0000e+00,\n",
            "         0.0000e+00,  0.0000e+00,  0.0000e+00,  0.0000e+00,  0.0000e+00,\n",
            "         0.0000e+00,  0.0000e+00,  0.0000e+00,  0.0000e+00,  0.0000e+00,\n",
            "         0.0000e+00,  0.0000e+00,  0.0000e+00,  0.0000e+00,  0.0000e+00,\n",
            "         0.0000e+00,  0.0000e+00,  0.0000e+00,  0.0000e+00,  0.0000e+00,\n",
            "         0.0000e+00,  0.0000e+00,  0.0000e+00,  0.0000e+00,  0.0000e+00,\n",
            "         0.0000e+00,  0.0000e+00,  0.0000e+00,  0.0000e+00,  0.0000e+00,\n",
            "         0.0000e+00,  0.0000e+00,  0.0000e+00,  0.0000e+00,  0.0000e+00,\n",
            "         0.0000e+00,  0.0000e+00,  0.0000e+00,  0.0000e+00,  0.0000e+00,\n",
            "         0.0000e+00,  0.0000e+00,  0.0000e+00,  0.0000e+00,  0.0000e+00,\n",
            "         0.0000e+00,  0.0000e+00,  0.0000e+00,  0.0000e+00,  0.0000e+00,\n",
            "         0.0000e+00,  0.0000e+00,  0.0000e+00,  0.0000e+00,  0.0000e+00,\n",
            "         0.0000e+00,  0.0000e+00,  0.0000e+00,  0.0000e+00,  0.0000e+00,\n",
            "         0.0000e+00,  0.0000e+00,  0.0000e+00,  0.0000e+00,  0.0000e+00,\n",
            "         0.0000e+00,  0.0000e+00,  0.0000e+00,  0.0000e+00,  0.0000e+00,\n",
            "         0.0000e+00,  0.0000e+00,  0.0000e+00,  0.0000e+00,  0.0000e+00,\n",
            "         0.0000e+00,  0.0000e+00,  0.0000e+00,  0.0000e+00,  0.0000e+00],\n",
            "       dtype=torch.float64)\n"
          ],
          "name": "stdout"
        }
      ]
    },
    {
      "cell_type": "markdown",
      "metadata": {
        "id": "G7npHp8DaNq-"
      },
      "source": [
        "Let's also tokenize the test dataset "
      ]
    },
    {
      "cell_type": "code",
      "metadata": {
        "id": "6txnuEfuQENJ",
        "colab": {
          "base_uri": "https://localhost:8080/"
        },
        "outputId": "ad9d6e64-5c47-47a9-bec5-f69b5fc3847b"
      },
      "source": [
        "# Tokenize a dataset of comments.\n",
        "\n",
        "# Parameters:\n",
        "#  `comments` - List of comments, represented as strings.\n",
        "#  `labels` - List of integer labels for the corresponding comments.\n",
        "#  `max_len` - Truncate all of the comments down to this length.\n",
        "    \n",
        "# Returns:\n",
        "#  `input_ids` - All of the comments represented as lists of token IDs,\n",
        "#               padded out to `max_len`, and cast as a PyTorch tensor.\n",
        "#  `labels` - The labels for the corresponding comments, formatted as \n",
        "#              a PyTorch tensor.\n",
        "#  `attention_masks` - PyTorch tensor with the same dimensions as\n",
        "#                     `input_ids`. For each token, simply indicates whether\n",
        "#                      it is padding or not.\n",
        "\n",
        "comments = test.data\n",
        "labels   = test.target\n",
        "\n",
        "# Tokenize all of the sentences and map the tokens to thier word IDs.\n",
        "input_ids = []\n",
        "attention_masks = []\n",
        "\n",
        "print('Tokenizing {:,} comments...'.format(len(comments)))\n",
        "\n",
        "    # For every comment (\"sentence\")...\n",
        "for sent in comments:\n",
        "\n",
        "        # Report progress.\n",
        "        if ((len(input_ids) % 500) == 0):\n",
        "            print('  Tokenized {:,} comments.'.format(len(input_ids)))\n",
        "\n",
        "        # `encode_plus` will:\n",
        "        #   (1) Tokenize the sentence.\n",
        "        #   (2) Prepend the `[CLS]` token to the start.\n",
        "        #   (3) Append the `[SEP]` token to the end.\n",
        "        #   (4) Map tokens to their IDs.\n",
        "        #   (5) Pad or truncate the sentence to `max_length`\n",
        "        #   (6) Create attention masks for [PAD] tokens.\n",
        "        encoded_dict = tokenizer.encode_plus(\n",
        "                            sent,                      # Sentence to encode.\n",
        "                            add_special_tokens = True, # Add '[CLS]' and '[SEP]'\n",
        "                            max_length = max_len,      # Pad & truncate all sentences.\n",
        "                            pad_to_max_length = True,\n",
        "                            return_attention_mask = True,   # Construct attn. masks.\n",
        "                            return_tensors = 'pt',     # Return pytorch tensors.\n",
        "                    )\n",
        "        \n",
        "        # Add the encoded sentence to the list.    \n",
        "        input_ids.append(encoded_dict['input_ids'])\n",
        "        \n",
        "        \n",
        "        # And its attention mask (simply differentiates padding from non-padding).\n",
        "        attention_masks.append(encoded_dict['attention_mask'])\n",
        "\n",
        "# Convert the lists into tensors.\n",
        "input_ids = torch.cat(input_ids, dim=0)\n",
        "attention_masks = torch.cat(attention_masks, dim=0)\n",
        "\n",
        "input_ids = input_ids.numpy().astype(float)\n",
        "for i in range(0,1266): \n",
        "    for j in range(0,299):\n",
        "       if(input_ids[i][j]==102):\n",
        "         input_ids[i][j] = X_test[i][0]\n",
        "         input_ids[i][j+1] = X_test[i][1]\n",
        "         input_ids[i][j+2] = X_test[i][2]\n",
        "         input_ids[i][j+3] = X_test[i][3]\n",
        "         input_ids[i][j+4] = X_test[i][4]\n",
        "         input_ids[i][j+5] = 102\n",
        "         break\n",
        "         \n",
        "input_ids = torch.from_numpy(input_ids) \n",
        "\n",
        "# Convert the labels to a tensor.\n",
        "labels = torch.tensor(torch.from_numpy(labels))\n",
        "print(labels)\n",
        "\n",
        "(test_input_ids, \n",
        " test_labels, \n",
        " test_attention_masks) = (input_ids, labels, attention_masks)\n"
      ],
      "execution_count": null,
      "outputs": [
        {
          "output_type": "stream",
          "text": [
            "/usr/local/lib/python3.6/dist-packages/transformers/tokenization_utils_base.py:2022: FutureWarning: The `pad_to_max_length` argument is deprecated and will be removed in a future version, use `padding=True` or `padding='longest'` to pad to the longest sequence in the batch, or use `padding='max_length'` to pad to a max length. In this case, you can give a specific length with `max_length` (e.g. `max_length=45`) or leave max_length to None to pad to the maximal input size of the model (e.g. 512 for Bert).\n",
            "  FutureWarning,\n"
          ],
          "name": "stderr"
        },
        {
          "output_type": "stream",
          "text": [
            "Tokenizing 1,267 comments...\n",
            "  Tokenized 0 comments.\n",
            "  Tokenized 500 comments.\n",
            "  Tokenized 1,000 comments.\n",
            "tensor([0, 4, 4,  ..., 2, 2, 4])\n"
          ],
          "name": "stdout"
        },
        {
          "output_type": "stream",
          "text": [
            "/usr/local/lib/python3.6/dist-packages/ipykernel_launcher.py:75: UserWarning: To copy construct from a tensor, it is recommended to use sourceTensor.clone().detach() or sourceTensor.clone().detach().requires_grad_(True), rather than torch.tensor(sourceTensor).\n"
          ],
          "name": "stderr"
        }
      ]
    },
    {
      "cell_type": "markdown",
      "metadata": {
        "id": "Wl12-BD637Ty"
      },
      "source": [
        "# Part II - BERT Fine-Tuning"
      ]
    },
    {
      "cell_type": "markdown",
      "metadata": {
        "id": "8bwa6Rts-02-"
      },
      "source": [
        "## S7. Train Our Classification Model"
      ]
    },
    {
      "cell_type": "markdown",
      "metadata": {
        "id": "3xYQ3iLO08SX"
      },
      "source": [
        "Now that our input data is properly formatted, it's time to fine tune the BERT model. "
      ]
    },
    {
      "cell_type": "markdown",
      "metadata": {
        "id": "cKetqAKJiwpj"
      },
      "source": [
        "### `check_gpu_mem`"
      ]
    },
    {
      "cell_type": "markdown",
      "metadata": {
        "id": "DDZZgG6ei1wF"
      },
      "source": [
        "The following function will return a table showing the GPU's current memory usage versus its total memory. It uses the `nvidia-smi` command line tool to retrieve this.\n",
        "\n",
        "Note that the memory values are in \"MiB\". 1 MiB = 2^20 bytes = 1,048,576 bytes."
      ]
    },
    {
      "cell_type": "code",
      "metadata": {
        "id": "kRJBBgfZiwpl"
      },
      "source": [
        "import os\n",
        "import pandas as pd\n",
        "import csv\n",
        "\n",
        "def check_gpu_mem():\n",
        "    '''\n",
        "    Uses Nvidia's SMI tool to check the current GPU memory usage.\n",
        "    Reported values are in \"MiB\". 1 MiB = 2^20 bytes = 1,048,576 bytes.\n",
        "    '''\n",
        "    \n",
        "    # Run the command line tool and get the results.\n",
        "    buf = os.popen('nvidia-smi --query-gpu=memory.total,memory.used --format=csv')\n",
        "\n",
        "    # Use csv module to read and parse the result.\n",
        "    reader = csv.reader(buf, delimiter=',')\n",
        "\n",
        "    # Use a pandas table just for nice formatting.\n",
        "    df = pd.DataFrame(reader)\n",
        "\n",
        "    # Use the first row as the column headers.\n",
        "    new_header = df.iloc[0] #grab the first row for the header\n",
        "    df = df[1:] #take the data less the header row\n",
        "    df.columns = new_header #set the header row as the df header\n",
        "\n",
        "    # Display the formatted table.\n",
        "    #display(df)\n",
        "\n",
        "    return df\n"
      ],
      "execution_count": null,
      "outputs": []
    },
    {
      "cell_type": "markdown",
      "metadata": {
        "id": "D6TKgyUzPIQc"
      },
      "source": [
        "### 7.1. Load Pre-Trained Model"
      ]
    },
    {
      "cell_type": "markdown",
      "metadata": {
        "id": "BXYitPoE-cjH"
      },
      "source": [
        "For text classification, we'll be using [BertForSequenceClassification](https://huggingface.co/transformers/model_doc/bert.html#bertforsequenceclassification). \n"
      ]
    },
    {
      "cell_type": "markdown",
      "metadata": {
        "id": "7xFPk4RDHcnH"
      },
      "source": [
        "\n",
        "**Model Variant**\n",
        "\n",
        "Using \"bert-base-uncased\" for this example, the version that has only lowercase letters (\"uncased\") and is the smaller version of the two (\"base\" vs \"large\").\n",
        "\n",
        "During fine-tuning, the entire pre-trained BERT model and the additional untrained classification layer is trained. "
      ]
    },
    {
      "cell_type": "code",
      "metadata": {
        "id": "gFsCTp_mporB",
        "colab": {
          "base_uri": "https://localhost:8080/",
          "height": 220,
          "referenced_widgets": [
            "ce1757832a64462ba2b8c7bdd6b119a4",
            "370a19d6ab9a40e39ad83d57aa5b114c",
            "8bebcae6d484447facf04724598ecf6d",
            "269999459c0e4d36a87a27d9cc93adb1",
            "5277e33b81b4440a91ffad10ccca12db",
            "2bf1c70ba0db4b34a79d43b0c8711865",
            "0e01703f758c492cabc66f7c16f05b8c",
            "3c8f9a637b224c1dbfeae7c1902ce209",
            "144f4050ed7742189b838324a3a71e1c",
            "1cfa63a682064ce4af46d13c434b7017",
            "17a8976a5e774853baf0cc40cd7bc275",
            "1767d3986cf846a28772bbf32f02f8e3",
            "5c17e70cf05346c89c49cc6eb60b5aa5",
            "ba477ff292024d1dac8c27c7b154b311",
            "748713000d4742638773b4549eb4bb8a",
            "920314892872469a87d3539c31228b49"
          ]
        },
        "outputId": "6217ba42-ff9f-4ccc-c4a8-9d7ad75d52ec"
      },
      "source": [
        "from transformers import BertForSequenceClassification, AdamW, BertConfig\n",
        "\n",
        "# Load BertForSequenceClassification, the pretrained BERT model with a single \n",
        "# linear classification layer on top. \n",
        "model = BertForSequenceClassification.from_pretrained(\n",
        "    \"bert-base-uncased\", # Use the 12-layer BERT model, with an uncased vocab.\n",
        "    num_labels = 6, # For our 6 labels!\n",
        "    output_attentions = False, # Whether the model returns attentions weights.\n",
        "    output_hidden_states = False, # Whether the model returns all hidden-states.\n",
        ")\n",
        "\n",
        "# Tell pytorch to run this model on the GPU.\n",
        "desc = model.cuda()"
      ],
      "execution_count": null,
      "outputs": [
        {
          "output_type": "display_data",
          "data": {
            "application/vnd.jupyter.widget-view+json": {
              "model_id": "ce1757832a64462ba2b8c7bdd6b119a4",
              "version_minor": 0,
              "version_major": 2
            },
            "text/plain": [
              "HBox(children=(FloatProgress(value=0.0, description='Downloading', max=433.0, style=ProgressStyle(description_…"
            ]
          },
          "metadata": {
            "tags": []
          }
        },
        {
          "output_type": "stream",
          "text": [
            "\n"
          ],
          "name": "stdout"
        },
        {
          "output_type": "display_data",
          "data": {
            "application/vnd.jupyter.widget-view+json": {
              "model_id": "144f4050ed7742189b838324a3a71e1c",
              "version_minor": 0,
              "version_major": 2
            },
            "text/plain": [
              "HBox(children=(FloatProgress(value=0.0, description='Downloading', max=440473133.0, style=ProgressStyle(descri…"
            ]
          },
          "metadata": {
            "tags": []
          }
        },
        {
          "output_type": "stream",
          "text": [
            "\n"
          ],
          "name": "stdout"
        },
        {
          "output_type": "stream",
          "text": [
            "Some weights of the model checkpoint at bert-base-uncased were not used when initializing BertForSequenceClassification: ['cls.predictions.bias', 'cls.predictions.transform.dense.weight', 'cls.predictions.transform.dense.bias', 'cls.predictions.decoder.weight', 'cls.seq_relationship.weight', 'cls.seq_relationship.bias', 'cls.predictions.transform.LayerNorm.weight', 'cls.predictions.transform.LayerNorm.bias']\n",
            "- This IS expected if you are initializing BertForSequenceClassification from the checkpoint of a model trained on another task or with another architecture (e.g. initializing a BertForSequenceClassification model from a BertForPreTraining model).\n",
            "- This IS NOT expected if you are initializing BertForSequenceClassification from the checkpoint of a model that you expect to be exactly identical (initializing a BertForSequenceClassification model from a BertForSequenceClassification model).\n",
            "Some weights of BertForSequenceClassification were not initialized from the model checkpoint at bert-base-uncased and are newly initialized: ['classifier.weight', 'classifier.bias']\n",
            "You should probably TRAIN this model on a down-stream task to be able to use it for predictions and inference.\n"
          ],
          "name": "stderr"
        }
      ]
    },
    {
      "cell_type": "code",
      "metadata": {
        "id": "lbmX98ovPy2d",
        "colab": {
          "base_uri": "https://localhost:8080/",
          "height": 80
        },
        "outputId": "57c63b0b-f76b-49fa-e382-4f011920d484"
      },
      "source": [
        "check_gpu_mem()"
      ],
      "execution_count": null,
      "outputs": [
        {
          "output_type": "execute_result",
          "data": {
            "text/html": [
              "<div>\n",
              "<style scoped>\n",
              "    .dataframe tbody tr th:only-of-type {\n",
              "        vertical-align: middle;\n",
              "    }\n",
              "\n",
              "    .dataframe tbody tr th {\n",
              "        vertical-align: top;\n",
              "    }\n",
              "\n",
              "    .dataframe thead th {\n",
              "        text-align: right;\n",
              "    }\n",
              "</style>\n",
              "<table border=\"1\" class=\"dataframe\">\n",
              "  <thead>\n",
              "    <tr style=\"text-align: right;\">\n",
              "      <th></th>\n",
              "      <th>memory.total [MiB]</th>\n",
              "      <th>memory.used [MiB]</th>\n",
              "    </tr>\n",
              "  </thead>\n",
              "  <tbody>\n",
              "    <tr>\n",
              "      <th>1</th>\n",
              "      <td>16280 MiB</td>\n",
              "      <td>1395 MiB</td>\n",
              "    </tr>\n",
              "  </tbody>\n",
              "</table>\n",
              "</div>"
            ],
            "text/plain": [
              "0 memory.total [MiB]  memory.used [MiB]\n",
              "1          16280 MiB           1395 MiB"
            ]
          },
          "metadata": {
            "tags": []
          },
          "execution_count": 69
        }
      ]
    },
    {
      "cell_type": "markdown",
      "metadata": {
        "id": "aRp4O7D295d_"
      },
      "source": [
        "### 7.2. Splitting off a Validation Set\n"
      ]
    },
    {
      "cell_type": "markdown",
      "metadata": {
        "id": "qu0ao7p8rb06"
      },
      "source": [
        "This dataset already has a train / test split, but we're going to further divide up our training set to use 90% for training and 10% for *validation*. This validation set will help us detect over-fitting during the training process."
      ]
    },
    {
      "cell_type": "code",
      "metadata": {
        "id": "GEgLpFVlo1Z-",
        "colab": {
          "base_uri": "https://localhost:8080/"
        },
        "outputId": "47e77da0-1dad-479d-83ab-aebfdc3c48c0"
      },
      "source": [
        "from torch.utils.data import TensorDataset, random_split\n",
        "\n",
        "# Combine the training inputs into a TensorDataset.\n",
        "dataset = TensorDataset(train_input_ids, train_attention_masks, train_labels)\n",
        "\n",
        "# Create a 70-30 train-validation split.\n",
        "\n",
        "# Calculate the number of samples to include in each set.\n",
        "train_size = int(0.8 * len(dataset))\n",
        "val_size = len(dataset) - train_size\n",
        "\n",
        "# Divide the dataset by randomly selecting samples.\n",
        "train_dataset, val_dataset = random_split(dataset, [train_size, val_size])\n",
        "print(type(train_dataset))\n",
        "print(type(val_dataset))\n",
        "\n",
        "print('{:>5,} training samples'.format(train_size))\n",
        "print('{:>5,} validation samples'.format(val_size))"
      ],
      "execution_count": null,
      "outputs": [
        {
          "output_type": "stream",
          "text": [
            "torch.utils.data.dataset.Subset\n",
            "torch.utils.data.dataset.Subset\n",
            "22,943 training samples\n",
            "5,736 validation samples\n"
          ],
          "name": "stdout"
        }
      ]
    },
    {
      "cell_type": "markdown",
      "metadata": {
        "id": "ejHQThm_uVnB"
      },
      "source": [
        "### 7.3. Batch Size & DataLoaders"
      ]
    },
    {
      "cell_type": "markdown",
      "metadata": {
        "id": "dD9i6Z2pG-sN"
      },
      "source": [
        "We'll also create an iterator for our dataset using the torch DataLoader class. This helps save on memory during training because, unlike a for loop, with an iterator the entire dataset does not need to be loaded into memory.\n",
        "\n",
        "This is also the point at which we must specify our **batch size**, since this is integral to the data loaders."
      ]
    },
    {
      "cell_type": "code",
      "metadata": {
        "id": "XGUqOCtgqGhP"
      },
      "source": [
        "from torch.utils.data import DataLoader, RandomSampler, SequentialSampler\n",
        "\n",
        "# The DataLoader needs to know our batch size for training, so we specify it \n",
        "# here. For fine-tuning BERT on a specific task, the authors recommend a batch \n",
        "# size of 16 or 32.\n",
        "batch_size = 16\n",
        "\n",
        "# Create the DataLoaders for our training and validation sets.\n",
        "# We'll take training samples in random order. \n",
        "train_dataloader = DataLoader(\n",
        "            train_dataset,  # The training samples.\n",
        "            sampler = RandomSampler(train_dataset), # Select batches randomly\n",
        "            batch_size = batch_size # Trains with this batch size.\n",
        "        )\n",
        "\n",
        "# For validation the order doesn't matter, so we'll just read them sequentially.\n",
        "validation_dataloader = DataLoader(\n",
        "            val_dataset, # The validation samples.\n",
        "            sampler = SequentialSampler(val_dataset), # Pull out batches sequentially.\n",
        "            batch_size = batch_size # Evaluate with this batch size.\n",
        "        )"
      ],
      "execution_count": null,
      "outputs": []
    },
    {
      "cell_type": "markdown",
      "metadata": {
        "id": "qRWT-D4U_Pvx"
      },
      "source": [
        "### 7.4. Optimizer\n"
      ]
    },
    {
      "cell_type": "markdown",
      "metadata": {
        "id": "8o-VEBobKwHk"
      },
      "source": [
        "Our `model` object handles the execution of a forward pass, and the calculation of gradients during training. \n",
        "\n",
        "The actual updates to the model's weights, however, are performed by an Optimizer object. Here, we create that object and give it a reference to our model's parameters, as well as set some of our training hyperparameters.\n",
        "\n",
        "For the purposes of fine-tuning, the authors recommend choosing from the following values:\n",
        "- Batch size: 16, 32 \n",
        "- Learning rate (Adam): 5e-5, 3e-5, 2e-5  (We'll use 2e-5).\n",
        "- Number of epochs: 2, 3, 4  (We'll use 4). This is a parameter to the \"learning rate scheduler\" in the section.\n",
        "\n",
        "The epsilon parameter `eps = 1e-8` is \"a very small number to prevent any division by zero in the implementation\" "
      ]
    },
    {
      "cell_type": "code",
      "metadata": {
        "id": "GLs72DuMODJO"
      },
      "source": [
        "# Note: AdamW is a class from the huggingface library (as opposed to pytorch) \n",
        "# I believe the 'W' stands for 'Weight Decay fix\"\n",
        "optimizer = AdamW(model.parameters(),\n",
        "                  lr = 2e-5, # args.learning_rate - default is 5e-5\n",
        "                  eps = 1e-8 # args.adam_epsilon  - default is 1e-8.\n",
        "                )"
      ],
      "execution_count": null,
      "outputs": []
    },
    {
      "cell_type": "markdown",
      "metadata": {
        "id": "_iaG0A5quuqz"
      },
      "source": [
        "### 7.5. Epochs & Learning Rate Scheduler"
      ]
    },
    {
      "cell_type": "markdown",
      "metadata": {
        "id": "JGeSUdv_wDgF"
      },
      "source": [
        "The learning rate scheduler is responsible for updating the learning rate over the course of the training. Generally speaking, you want the learning rate to gradually get smaller and smaller so that training makes gradually finer adjustments to the weights. \n",
        "\n",
        "This decay needs to happen *across all of the training epochs*, so this is where we need to specify the number of epochs we want to train for. "
      ]
    },
    {
      "cell_type": "code",
      "metadata": {
        "id": "-p0upAhhRiIx"
      },
      "source": [
        "from transformers import get_linear_schedule_with_warmup\n",
        "\n",
        "# Number of training epochs (authors recommend between 2 and 4)\n",
        "epochs = 8\n",
        "\n",
        "# Total number of training steps is number of batches * number of epochs.\n",
        "total_steps = len(train_dataloader) * epochs\n",
        "\n",
        "# Create the learning rate scheduler.\n",
        "scheduler = get_linear_schedule_with_warmup(optimizer, \n",
        "                                            num_warmup_steps = 0, # Default value in run_glue.py\n",
        "                                            num_training_steps = total_steps)"
      ],
      "execution_count": null,
      "outputs": []
    },
    {
      "cell_type": "markdown",
      "metadata": {
        "id": "_QXZhFb4LnV5"
      },
      "source": [
        "**Helper Functions**\n",
        "\n",
        "In each pass, we will train the model on our full training set, and then measure it's accuracy on our 10% holdout validation set. We'll define a helper function for calculating accuracy on the *validation* set."
      ]
    },
    {
      "cell_type": "code",
      "metadata": {
        "id": "9cQNvaZ9bnyy"
      },
      "source": [
        "import numpy as np\n",
        "\n",
        "# Function to calculate the accuracy of our predictions vs labels\n",
        "def flat_accuracy(preds, labels):\n",
        "    pred_flat = np.argmax(preds, axis=1).flatten()\n",
        "    labels_flat = labels.flatten()\n",
        "    return np.sum(pred_flat == labels_flat) / len(labels_flat)"
      ],
      "execution_count": null,
      "outputs": []
    },
    {
      "cell_type": "markdown",
      "metadata": {
        "id": "KNhRtWPXH9C3"
      },
      "source": [
        "Helper function for formatting elapsed times.\n"
      ]
    },
    {
      "cell_type": "code",
      "metadata": {
        "id": "gpt6tR83keZD"
      },
      "source": [
        "import time\n",
        "import datetime\n",
        "\n",
        "def format_time(elapsed):\n",
        "    '''\n",
        "    Takes a time in seconds and returns a string hh:mm:ss\n",
        "    '''\n",
        "    # Round to the nearest second.\n",
        "    elapsed_rounded = int(round((elapsed)))\n",
        "    \n",
        "    # Format as hh:mm:ss\n",
        "    return str(datetime.timedelta(seconds=elapsed_rounded))\n"
      ],
      "execution_count": null,
      "outputs": []
    },
    {
      "cell_type": "markdown",
      "metadata": {
        "id": "RqfmWwUR_Sox"
      },
      "source": [
        "### 7.6. Training Loop"
      ]
    },
    {
      "cell_type": "markdown",
      "metadata": {
        "id": "cfNIhN19te3N"
      },
      "source": [
        "\n",
        "\n",
        "For addressing our **GPU memory issue**, Added some calls to `check_gpu_mem` during the training process. "
      ]
    },
    {
      "cell_type": "code",
      "metadata": {
        "id": "WiDKq4cLQG6H",
        "colab": {
          "base_uri": "https://localhost:8080/"
        },
        "outputId": "b3d0fe91-b374-49ea-f77c-b7e21b7bc948"
      },
      "source": [
        "import random\n",
        "import numpy as np\n",
        "\n",
        "# This training code is based on the `run_glue.py` script :\n",
        "\n",
        "# Set the seed value all over the place to make this reproducible.\n",
        "seed_val = 42\n",
        "\n",
        "random.seed(seed_val)\n",
        "np.random.seed(seed_val)\n",
        "torch.manual_seed(seed_val)\n",
        "torch.cuda.manual_seed_all(seed_val)\n",
        "\n",
        "# We'll store a number of quantities such as training and validation loss, \n",
        "# validation accuracy, and timings.\n",
        "training_stats = []\n",
        "\n",
        "# For each epoch...\n",
        "for epoch_i in range(0, epochs):\n",
        "    \n",
        "    # ========================================\n",
        "    #               Training\n",
        "    # ========================================\n",
        "    \n",
        "    # Perform one full pass over the training set.\n",
        "\n",
        "    print(\"\")\n",
        "    print('======== Epoch {:} / {:} ========'.format(epoch_i + 1, epochs))\n",
        "    print('Training...')\n",
        "\n",
        "    # Measure how long the training epoch takes.\n",
        "    t0 = time.time()\n",
        "\n",
        "    # Reset the total loss for this epoch.\n",
        "    total_train_loss = 0\n",
        "\n",
        "    # Put the model into training mode. Don't be mislead--the call to \n",
        "    # `train` just changes the *mode*, it doesn't *perform* the training.\n",
        "    # `dropout` and `batchnorm` layers behave differently during training\n",
        "    # vs. test (source: https://stackoverflow.com/questions/51433378/what-does-model-train-do-in-pytorch)\n",
        "    model.train()\n",
        "\n",
        "    # For each batch of training data...\n",
        "    for step, batch in enumerate(train_dataloader):\n",
        "\n",
        "        # Progress update every 50 batches.\n",
        "        if step % 50 == 0 and not step == 0:\n",
        "            # Calculate elapsed time in minutes.\n",
        "            elapsed = format_time(time.time() - t0)\n",
        "            \n",
        "            # Report progress.\n",
        "            print('  Batch {:>5,}  of  {:>5,}.    Elapsed: {:}.'.format(step, len(train_dataloader), elapsed))\n",
        "\n",
        "        # Unpack this training batch from our dataloader. \n",
        "        #\n",
        "        # As we unpack the batch, we'll also copy each tensor to the GPU using the \n",
        "        # `to` method.\n",
        "        #\n",
        "        # `batch` contains three pytorch tensors:\n",
        "        #   [0]: input ids \n",
        "        #   [1]: attention masks\n",
        "        #   [2]: labels \n",
        "        \n",
        "        b_input_ids = batch[0].to(device)\n",
        "        b_input_mask = batch[1].to(device)\n",
        "        b_labels = batch[2].to(device)\n",
        "        \n",
        "        # Check GPU memory for the first couple steps.\n",
        "        if step < 2:\n",
        "            print('\\n  Step {:} GPU Memory Use:'.format(step))\n",
        "            df = check_gpu_mem()    \n",
        "            print('    Before forward-pass: {:}'.format(df.iloc[0, 1]))\n",
        "\n",
        "        # Always clear any previously calculated gradients before performing a\n",
        "        # backward pass. PyTorch doesn't do this automatically because \n",
        "        # accumulating the gradients is \"convenient while training RNNs\". \n",
        "        # (source: https://stackoverflow.com/questions/48001598/why-do-we-need-to-call-zero-grad-in-pytorch)\n",
        "        model.zero_grad()        \n",
        "\n",
        "        # Perform a forward pass (evaluate the model on this training batch).\n",
        "        # The documentation for this `model` function is here: \n",
        "        # https://huggingface.co/transformers/v2.2.0/model_doc/bert.html#transformers.BertForSequenceClassification\n",
        "        # It returns different numbers of parameters depending on what arguments\n",
        "        # arge given and what flags are set. For our useage here, it returns\n",
        "        # the loss (because we provided labels) and the \"logits\"--the model\n",
        "        # outputs prior to activation.\n",
        "        b_input_ids = torch.tensor(b_input_ids).to(device).long()\n",
        "        loss, logits = model(b_input_ids, \n",
        "                             token_type_ids=None, \n",
        "                             attention_mask=b_input_mask, \n",
        "                             labels=b_labels)\n",
        "\n",
        "        # Report GPU memory use for the first couple steps.\n",
        "        if step < 2:\n",
        "            df = check_gpu_mem()    \n",
        "            print('     After forward-pass: {:}'.format(df.iloc[0, 1]))\n",
        "\n",
        "        # Accumulate the training loss over all of the batches so that we can\n",
        "        # calculate the average loss at the end. `loss` is a Tensor containing a\n",
        "        # single value; the `.item()` function just returns the Python value \n",
        "        # from the tensor.\n",
        "        total_train_loss += loss.item()\n",
        "\n",
        "        # Perform a backward pass to calculate the gradients.\n",
        "        loss.backward()\n",
        "\n",
        "        # Report GPU memory use for the first couple steps.\n",
        "        if step < 2:\n",
        "            df = check_gpu_mem()    \n",
        "            print('    After gradient calculation: {:}'.format(df.iloc[0, 1]))\n",
        "\n",
        "        # Clip the norm of the gradients to 1.0.\n",
        "        # This is to help prevent the \"exploding gradients\" problem.\n",
        "        torch.nn.utils.clip_grad_norm_(model.parameters(), 1.0)\n",
        "\n",
        "        # Update parameters and take a step using the computed gradient.\n",
        "        # The optimizer dictates the \"update rule\"--how the parameters are\n",
        "        # modified based on their gradients, the learning rate, etc.\n",
        "        optimizer.step()\n",
        "\n",
        "        # Update the learning rate.\n",
        "        scheduler.step()\n",
        "\n",
        "    # Calculate the average loss over all of the batches.\n",
        "    avg_train_loss = total_train_loss / len(train_dataloader)            \n",
        "    \n",
        "    # Measure how long this epoch took.\n",
        "    training_time = format_time(time.time() - t0)\n",
        "\n",
        "    print(\"\")\n",
        "    print(\"  Average training loss: {0:.2f}\".format(avg_train_loss))\n",
        "    print(\"  Training epcoh took: {:}\".format(training_time))\n",
        "        \n",
        "    # ========================================\n",
        "    #               Validation\n",
        "    # ========================================\n",
        "    # After the completion of each training epoch, measure our performance on\n",
        "    # our validation set.\n",
        "\n",
        "    print(\"\")\n",
        "    print(\"Running Validation...\")\n",
        "\n",
        "    t0 = time.time()\n",
        "\n",
        "    # Put the model in evaluation mode--the dropout layers behave differently\n",
        "    # during evaluation.\n",
        "    model.eval()\n",
        "\n",
        "    # Tracking variables \n",
        "    total_eval_accuracy = 0\n",
        "    total_eval_loss = 0\n",
        "    nb_eval_steps = 0\n",
        "\n",
        "    # Evaluate data for one epoch\n",
        "    for batch in validation_dataloader:\n",
        "        \n",
        "        # Unpack this training batch from our dataloader. \n",
        "        #\n",
        "        # As we unpack the batch, we'll also copy each tensor to the GPU using \n",
        "        # the `to` method.\n",
        "        #\n",
        "        # `batch` contains three pytorch tensors:\n",
        "        #   [0]: input ids \n",
        "        #   [1]: attention masks\n",
        "        #   [2]: labels \n",
        "        b_input_ids = batch[0].to(device)\n",
        "        b_input_mask = batch[1].to(device)\n",
        "        b_labels = batch[2].to(device)\n",
        "        \n",
        "        # Tell pytorch not to bother with constructing the compute graph during\n",
        "        # the forward pass, since this is only needed for backprop (training).\n",
        "        with torch.no_grad():        \n",
        "\n",
        "            # Forward pass, calculate logit predictions.\n",
        "            # token_type_ids is the same as the \"segment ids\", which \n",
        "            # differentiates sentence 1 and 2 in 2-sentence tasks.\n",
        "            # The documentation for this `model` function is here: \n",
        "            # https://huggingface.co/transformers/v2.2.0/model_doc/bert.html#transformers.BertForSequenceClassification\n",
        "            # Get the \"logits\" output by the model. The \"logits\" are the output\n",
        "            # values prior to applying an activation function like the softmax.\n",
        "            b_input_ids = torch.tensor(b_input_ids).to(device).long()\n",
        "            (loss, logits) = model(b_input_ids, \n",
        "                                   token_type_ids=None, \n",
        "                                   attention_mask=b_input_mask,\n",
        "                                   labels=b_labels)\n",
        "            \n",
        "        # Accumulate the validation loss.\n",
        "        total_eval_loss += loss.item()\n",
        "\n",
        "        # Move logits and labels to CPU\n",
        "        logits = logits.detach().cpu().numpy()\n",
        "        label_ids = b_labels.to('cpu').numpy()\n",
        "\n",
        "        # Calculate the accuracy for this batch of test sentences, and\n",
        "        # accumulate it over all batches.\n",
        "        total_eval_accuracy += flat_accuracy(logits, label_ids)\n",
        "        \n",
        "\n",
        "    # Report the final accuracy for this validation run.\n",
        "    avg_val_accuracy = total_eval_accuracy / len(validation_dataloader)\n",
        "    print(\"  Accuracy: {0:.2f}\".format(avg_val_accuracy))\n",
        "\n",
        "    # Calculate the average loss over all of the batches.\n",
        "    avg_val_loss = total_eval_loss / len(validation_dataloader)\n",
        "    \n",
        "    validation_time = format_time(time.time() - t0)\n",
        "    print(\"  Validation Loss: {0:.2f}\".format(avg_val_loss))\n",
        "    print(\"  Validation took: {:}\".format(validation_time))\n",
        "\n",
        "    # Record all statistics from this epoch.\n",
        "    training_stats.append(\n",
        "        {\n",
        "            'epoch': epoch_i + 1,\n",
        "            'Training Loss': avg_train_loss,\n",
        "            'Valid. Loss': avg_val_loss,\n",
        "            'Valid. Accur.': avg_val_accuracy,\n",
        "            'Training Time': training_time,\n",
        "            'Validation Time': validation_time\n",
        "        }\n",
        "    )\n",
        "\n",
        "print(\"\")\n",
        "print(\"Training complete!\")"
      ],
      "execution_count": null,
      "outputs": [
        {
          "output_type": "stream",
          "text": [
            "\n",
            "======== Epoch 1 / 8 ========\n",
            "Training...\n",
            "\n",
            "  Step 0 GPU Memory Use:\n",
            "    Before forward-pass:  1395 MiB\n",
            "     After forward-pass:  7045 MiB\n"
          ],
          "name": "stdout"
        },
        {
          "output_type": "stream",
          "text": [
            "/usr/local/lib/python3.6/dist-packages/ipykernel_launcher.py:87: UserWarning: To copy construct from a tensor, it is recommended to use sourceTensor.clone().detach() or sourceTensor.clone().detach().requires_grad_(True), rather than torch.tensor(sourceTensor).\n"
          ],
          "name": "stderr"
        },
        {
          "output_type": "stream",
          "text": [
            "    After gradient calculation:  7373 MiB\n",
            "\n",
            "  Step 1 GPU Memory Use:\n",
            "    Before forward-pass:  7643 MiB\n",
            "     After forward-pass:  8433 MiB\n",
            "    After gradient calculation:  8653 MiB\n",
            "  Batch    50  of  1,434.    Elapsed: 0:00:26.\n",
            "  Batch   100  of  1,434.    Elapsed: 0:00:52.\n",
            "  Batch   150  of  1,434.    Elapsed: 0:01:18.\n",
            "  Batch   200  of  1,434.    Elapsed: 0:01:43.\n",
            "  Batch   250  of  1,434.    Elapsed: 0:02:09.\n",
            "  Batch   300  of  1,434.    Elapsed: 0:02:35.\n",
            "  Batch   350  of  1,434.    Elapsed: 0:03:00.\n",
            "  Batch   400  of  1,434.    Elapsed: 0:03:26.\n",
            "  Batch   450  of  1,434.    Elapsed: 0:03:52.\n",
            "  Batch   500  of  1,434.    Elapsed: 0:04:17.\n",
            "  Batch   550  of  1,434.    Elapsed: 0:04:43.\n",
            "  Batch   600  of  1,434.    Elapsed: 0:05:09.\n",
            "  Batch   650  of  1,434.    Elapsed: 0:05:34.\n",
            "  Batch   700  of  1,434.    Elapsed: 0:06:00.\n",
            "  Batch   750  of  1,434.    Elapsed: 0:06:26.\n",
            "  Batch   800  of  1,434.    Elapsed: 0:06:52.\n",
            "  Batch   850  of  1,434.    Elapsed: 0:07:18.\n",
            "  Batch   900  of  1,434.    Elapsed: 0:07:43.\n",
            "  Batch   950  of  1,434.    Elapsed: 0:08:09.\n",
            "  Batch 1,000  of  1,434.    Elapsed: 0:08:35.\n",
            "  Batch 1,050  of  1,434.    Elapsed: 0:09:00.\n",
            "  Batch 1,100  of  1,434.    Elapsed: 0:09:26.\n",
            "  Batch 1,150  of  1,434.    Elapsed: 0:09:52.\n",
            "  Batch 1,200  of  1,434.    Elapsed: 0:10:18.\n",
            "  Batch 1,250  of  1,434.    Elapsed: 0:10:43.\n",
            "  Batch 1,300  of  1,434.    Elapsed: 0:11:09.\n",
            "  Batch 1,350  of  1,434.    Elapsed: 0:11:35.\n",
            "  Batch 1,400  of  1,434.    Elapsed: 0:12:00.\n",
            "\n",
            "  Average training loss: 1.70\n",
            "  Training epcoh took: 0:12:18\n",
            "\n",
            "Running Validation...\n"
          ],
          "name": "stdout"
        },
        {
          "output_type": "stream",
          "text": [
            "/usr/local/lib/python3.6/dist-packages/ipykernel_launcher.py:181: UserWarning: To copy construct from a tensor, it is recommended to use sourceTensor.clone().detach() or sourceTensor.clone().detach().requires_grad_(True), rather than torch.tensor(sourceTensor).\n"
          ],
          "name": "stderr"
        },
        {
          "output_type": "stream",
          "text": [
            "  Accuracy: 0.30\n",
            "  Validation Loss: 1.64\n",
            "  Validation took: 0:01:01\n",
            "\n",
            "======== Epoch 2 / 8 ========\n",
            "Training...\n",
            "\n",
            "  Step 0 GPU Memory Use:\n",
            "    Before forward-pass:  8653 MiB\n",
            "     After forward-pass:  8653 MiB\n",
            "    After gradient calculation:  8653 MiB\n",
            "\n",
            "  Step 1 GPU Memory Use:\n",
            "    Before forward-pass:  8653 MiB\n",
            "     After forward-pass:  8653 MiB\n",
            "    After gradient calculation:  8653 MiB\n",
            "  Batch    50  of  1,434.    Elapsed: 0:00:26.\n",
            "  Batch   100  of  1,434.    Elapsed: 0:00:52.\n",
            "  Batch   150  of  1,434.    Elapsed: 0:01:17.\n",
            "  Batch   200  of  1,434.    Elapsed: 0:01:43.\n",
            "  Batch   250  of  1,434.    Elapsed: 0:02:08.\n",
            "  Batch   300  of  1,434.    Elapsed: 0:02:34.\n",
            "  Batch   350  of  1,434.    Elapsed: 0:03:00.\n",
            "  Batch   400  of  1,434.    Elapsed: 0:03:26.\n",
            "  Batch   450  of  1,434.    Elapsed: 0:03:51.\n",
            "  Batch   500  of  1,434.    Elapsed: 0:04:17.\n",
            "  Batch   550  of  1,434.    Elapsed: 0:04:43.\n",
            "  Batch   600  of  1,434.    Elapsed: 0:05:08.\n",
            "  Batch   650  of  1,434.    Elapsed: 0:05:34.\n",
            "  Batch   700  of  1,434.    Elapsed: 0:06:00.\n",
            "  Batch   750  of  1,434.    Elapsed: 0:06:25.\n",
            "  Batch   800  of  1,434.    Elapsed: 0:06:51.\n",
            "  Batch   850  of  1,434.    Elapsed: 0:07:17.\n",
            "  Batch   900  of  1,434.    Elapsed: 0:07:43.\n",
            "  Batch   950  of  1,434.    Elapsed: 0:08:08.\n",
            "  Batch 1,000  of  1,434.    Elapsed: 0:08:34.\n",
            "  Batch 1,050  of  1,434.    Elapsed: 0:09:00.\n",
            "  Batch 1,100  of  1,434.    Elapsed: 0:09:25.\n",
            "  Batch 1,150  of  1,434.    Elapsed: 0:09:51.\n",
            "  Batch 1,200  of  1,434.    Elapsed: 0:10:17.\n",
            "  Batch 1,250  of  1,434.    Elapsed: 0:10:42.\n",
            "  Batch 1,300  of  1,434.    Elapsed: 0:11:08.\n",
            "  Batch 1,350  of  1,434.    Elapsed: 0:11:34.\n",
            "  Batch 1,400  of  1,434.    Elapsed: 0:11:59.\n",
            "\n",
            "  Average training loss: 1.56\n",
            "  Training epcoh took: 0:12:17\n",
            "\n",
            "Running Validation...\n",
            "  Accuracy: 0.34\n",
            "  Validation Loss: 1.56\n",
            "  Validation took: 0:01:01\n",
            "\n",
            "======== Epoch 3 / 8 ========\n",
            "Training...\n",
            "\n",
            "  Step 0 GPU Memory Use:\n",
            "    Before forward-pass:  8653 MiB\n",
            "     After forward-pass:  8653 MiB\n",
            "    After gradient calculation:  8653 MiB\n",
            "\n",
            "  Step 1 GPU Memory Use:\n",
            "    Before forward-pass:  8653 MiB\n",
            "     After forward-pass:  8653 MiB\n",
            "    After gradient calculation:  8653 MiB\n",
            "  Batch    50  of  1,434.    Elapsed: 0:00:26.\n",
            "  Batch   100  of  1,434.    Elapsed: 0:00:52.\n",
            "  Batch   150  of  1,434.    Elapsed: 0:01:17.\n",
            "  Batch   200  of  1,434.    Elapsed: 0:01:43.\n",
            "  Batch   250  of  1,434.    Elapsed: 0:02:09.\n",
            "  Batch   300  of  1,434.    Elapsed: 0:02:34.\n",
            "  Batch   350  of  1,434.    Elapsed: 0:03:00.\n",
            "  Batch   400  of  1,434.    Elapsed: 0:03:26.\n",
            "  Batch   450  of  1,434.    Elapsed: 0:03:52.\n",
            "  Batch   500  of  1,434.    Elapsed: 0:04:17.\n",
            "  Batch   550  of  1,434.    Elapsed: 0:04:43.\n",
            "  Batch   600  of  1,434.    Elapsed: 0:05:09.\n",
            "  Batch   650  of  1,434.    Elapsed: 0:05:34.\n",
            "  Batch   700  of  1,434.    Elapsed: 0:06:00.\n",
            "  Batch   750  of  1,434.    Elapsed: 0:06:26.\n",
            "  Batch   800  of  1,434.    Elapsed: 0:06:51.\n",
            "  Batch   850  of  1,434.    Elapsed: 0:07:17.\n",
            "  Batch   900  of  1,434.    Elapsed: 0:07:43.\n",
            "  Batch   950  of  1,434.    Elapsed: 0:08:08.\n",
            "  Batch 1,000  of  1,434.    Elapsed: 0:08:34.\n",
            "  Batch 1,050  of  1,434.    Elapsed: 0:09:00.\n",
            "  Batch 1,100  of  1,434.    Elapsed: 0:09:25.\n",
            "  Batch 1,150  of  1,434.    Elapsed: 0:09:51.\n",
            "  Batch 1,200  of  1,434.    Elapsed: 0:10:17.\n",
            "  Batch 1,250  of  1,434.    Elapsed: 0:10:43.\n",
            "  Batch 1,300  of  1,434.    Elapsed: 0:11:08.\n",
            "  Batch 1,350  of  1,434.    Elapsed: 0:11:34.\n",
            "  Batch 1,400  of  1,434.    Elapsed: 0:12:00.\n",
            "\n",
            "  Average training loss: 1.34\n",
            "  Training epcoh took: 0:12:17\n",
            "\n",
            "Running Validation...\n",
            "  Accuracy: 0.40\n",
            "  Validation Loss: 1.50\n",
            "  Validation took: 0:01:00\n",
            "\n",
            "======== Epoch 4 / 8 ========\n",
            "Training...\n",
            "\n",
            "  Step 0 GPU Memory Use:\n",
            "    Before forward-pass:  8653 MiB\n",
            "     After forward-pass:  8653 MiB\n",
            "    After gradient calculation:  8653 MiB\n",
            "\n",
            "  Step 1 GPU Memory Use:\n",
            "    Before forward-pass:  8653 MiB\n",
            "     After forward-pass:  8653 MiB\n",
            "    After gradient calculation:  8653 MiB\n",
            "  Batch    50  of  1,434.    Elapsed: 0:00:26.\n",
            "  Batch   100  of  1,434.    Elapsed: 0:00:52.\n",
            "  Batch   150  of  1,434.    Elapsed: 0:01:17.\n",
            "  Batch   200  of  1,434.    Elapsed: 0:01:43.\n",
            "  Batch   250  of  1,434.    Elapsed: 0:02:09.\n",
            "  Batch   300  of  1,434.    Elapsed: 0:02:34.\n",
            "  Batch   350  of  1,434.    Elapsed: 0:03:00.\n",
            "  Batch   400  of  1,434.    Elapsed: 0:03:25.\n",
            "  Batch   450  of  1,434.    Elapsed: 0:03:51.\n",
            "  Batch   500  of  1,434.    Elapsed: 0:04:17.\n",
            "  Batch   550  of  1,434.    Elapsed: 0:04:42.\n",
            "  Batch   600  of  1,434.    Elapsed: 0:05:08.\n",
            "  Batch   650  of  1,434.    Elapsed: 0:05:34.\n",
            "  Batch   700  of  1,434.    Elapsed: 0:05:59.\n",
            "  Batch   750  of  1,434.    Elapsed: 0:06:25.\n",
            "  Batch   800  of  1,434.    Elapsed: 0:06:51.\n",
            "  Batch   850  of  1,434.    Elapsed: 0:07:16.\n",
            "  Batch   900  of  1,434.    Elapsed: 0:07:42.\n",
            "  Batch   950  of  1,434.    Elapsed: 0:08:07.\n",
            "  Batch 1,000  of  1,434.    Elapsed: 0:08:33.\n",
            "  Batch 1,050  of  1,434.    Elapsed: 0:08:59.\n",
            "  Batch 1,100  of  1,434.    Elapsed: 0:09:24.\n",
            "  Batch 1,150  of  1,434.    Elapsed: 0:09:50.\n",
            "  Batch 1,200  of  1,434.    Elapsed: 0:10:16.\n",
            "  Batch 1,250  of  1,434.    Elapsed: 0:10:41.\n",
            "  Batch 1,300  of  1,434.    Elapsed: 0:11:07.\n",
            "  Batch 1,350  of  1,434.    Elapsed: 0:11:33.\n",
            "  Batch 1,400  of  1,434.    Elapsed: 0:11:58.\n",
            "\n",
            "  Average training loss: 1.08\n",
            "  Training epcoh took: 0:12:16\n",
            "\n",
            "Running Validation...\n",
            "  Accuracy: 0.47\n",
            "  Validation Loss: 1.48\n",
            "  Validation took: 0:01:00\n",
            "\n",
            "======== Epoch 5 / 8 ========\n",
            "Training...\n",
            "\n",
            "  Step 0 GPU Memory Use:\n",
            "    Before forward-pass:  8653 MiB\n",
            "     After forward-pass:  8653 MiB\n",
            "    After gradient calculation:  8653 MiB\n",
            "\n",
            "  Step 1 GPU Memory Use:\n",
            "    Before forward-pass:  8653 MiB\n",
            "     After forward-pass:  8653 MiB\n",
            "    After gradient calculation:  8653 MiB\n",
            "  Batch    50  of  1,434.    Elapsed: 0:00:26.\n",
            "  Batch   100  of  1,434.    Elapsed: 0:00:52.\n",
            "  Batch   150  of  1,434.    Elapsed: 0:01:17.\n",
            "  Batch   200  of  1,434.    Elapsed: 0:01:43.\n",
            "  Batch   250  of  1,434.    Elapsed: 0:02:09.\n",
            "  Batch   300  of  1,434.    Elapsed: 0:02:34.\n",
            "  Batch   350  of  1,434.    Elapsed: 0:03:00.\n",
            "  Batch   400  of  1,434.    Elapsed: 0:03:26.\n",
            "  Batch   450  of  1,434.    Elapsed: 0:03:51.\n",
            "  Batch   500  of  1,434.    Elapsed: 0:04:17.\n",
            "  Batch   550  of  1,434.    Elapsed: 0:04:43.\n",
            "  Batch   600  of  1,434.    Elapsed: 0:05:08.\n",
            "  Batch   650  of  1,434.    Elapsed: 0:05:34.\n",
            "  Batch   700  of  1,434.    Elapsed: 0:06:00.\n",
            "  Batch   750  of  1,434.    Elapsed: 0:06:25.\n",
            "  Batch   800  of  1,434.    Elapsed: 0:06:51.\n",
            "  Batch   850  of  1,434.    Elapsed: 0:07:17.\n",
            "  Batch   900  of  1,434.    Elapsed: 0:07:42.\n",
            "  Batch   950  of  1,434.    Elapsed: 0:08:08.\n",
            "  Batch 1,000  of  1,434.    Elapsed: 0:08:34.\n",
            "  Batch 1,050  of  1,434.    Elapsed: 0:08:59.\n",
            "  Batch 1,100  of  1,434.    Elapsed: 0:09:25.\n",
            "  Batch 1,150  of  1,434.    Elapsed: 0:09:51.\n",
            "  Batch 1,200  of  1,434.    Elapsed: 0:10:17.\n",
            "  Batch 1,250  of  1,434.    Elapsed: 0:10:42.\n",
            "  Batch 1,300  of  1,434.    Elapsed: 0:11:08.\n",
            "  Batch 1,350  of  1,434.    Elapsed: 0:11:34.\n",
            "  Batch 1,400  of  1,434.    Elapsed: 0:11:59.\n",
            "\n",
            "  Average training loss: 0.86\n",
            "  Training epcoh took: 0:12:17\n",
            "\n",
            "Running Validation...\n",
            "  Accuracy: 0.50\n",
            "  Validation Loss: 1.49\n",
            "  Validation took: 0:01:00\n",
            "\n",
            "======== Epoch 6 / 8 ========\n",
            "Training...\n",
            "\n",
            "  Step 0 GPU Memory Use:\n",
            "    Before forward-pass:  8653 MiB\n",
            "     After forward-pass:  8653 MiB\n",
            "    After gradient calculation:  8653 MiB\n",
            "\n",
            "  Step 1 GPU Memory Use:\n",
            "    Before forward-pass:  8653 MiB\n",
            "     After forward-pass:  8653 MiB\n",
            "    After gradient calculation:  8653 MiB\n",
            "  Batch    50  of  1,434.    Elapsed: 0:00:26.\n",
            "  Batch   100  of  1,434.    Elapsed: 0:00:52.\n",
            "  Batch   150  of  1,434.    Elapsed: 0:01:17.\n",
            "  Batch   200  of  1,434.    Elapsed: 0:01:43.\n",
            "  Batch   250  of  1,434.    Elapsed: 0:02:09.\n",
            "  Batch   300  of  1,434.    Elapsed: 0:02:34.\n",
            "  Batch   350  of  1,434.    Elapsed: 0:03:00.\n",
            "  Batch   400  of  1,434.    Elapsed: 0:03:26.\n",
            "  Batch   450  of  1,434.    Elapsed: 0:03:51.\n",
            "  Batch   500  of  1,434.    Elapsed: 0:04:17.\n",
            "  Batch   550  of  1,434.    Elapsed: 0:04:43.\n",
            "  Batch   600  of  1,434.    Elapsed: 0:05:08.\n",
            "  Batch   650  of  1,434.    Elapsed: 0:05:34.\n",
            "  Batch   700  of  1,434.    Elapsed: 0:06:00.\n",
            "  Batch   750  of  1,434.    Elapsed: 0:06:26.\n",
            "  Batch   800  of  1,434.    Elapsed: 0:06:51.\n",
            "  Batch   850  of  1,434.    Elapsed: 0:07:17.\n",
            "  Batch   900  of  1,434.    Elapsed: 0:07:43.\n",
            "  Batch   950  of  1,434.    Elapsed: 0:08:09.\n",
            "  Batch 1,000  of  1,434.    Elapsed: 0:08:34.\n",
            "  Batch 1,050  of  1,434.    Elapsed: 0:09:00.\n",
            "  Batch 1,100  of  1,434.    Elapsed: 0:09:26.\n",
            "  Batch 1,150  of  1,434.    Elapsed: 0:09:52.\n",
            "  Batch 1,200  of  1,434.    Elapsed: 0:10:17.\n",
            "  Batch 1,250  of  1,434.    Elapsed: 0:10:43.\n",
            "  Batch 1,300  of  1,434.    Elapsed: 0:11:09.\n",
            "  Batch 1,350  of  1,434.    Elapsed: 0:11:34.\n",
            "  Batch 1,400  of  1,434.    Elapsed: 0:12:00.\n",
            "\n",
            "  Average training loss: 0.68\n",
            "  Training epcoh took: 0:12:18\n",
            "\n",
            "Running Validation...\n",
            "  Accuracy: 0.54\n",
            "  Validation Loss: 1.47\n",
            "  Validation took: 0:01:01\n",
            "\n",
            "======== Epoch 7 / 8 ========\n",
            "Training...\n",
            "\n",
            "  Step 0 GPU Memory Use:\n",
            "    Before forward-pass:  8653 MiB\n",
            "     After forward-pass:  8653 MiB\n",
            "    After gradient calculation:  8653 MiB\n",
            "\n",
            "  Step 1 GPU Memory Use:\n",
            "    Before forward-pass:  8653 MiB\n",
            "     After forward-pass:  8653 MiB\n",
            "    After gradient calculation:  8653 MiB\n",
            "  Batch    50  of  1,434.    Elapsed: 0:00:26.\n",
            "  Batch   100  of  1,434.    Elapsed: 0:00:52.\n",
            "  Batch   150  of  1,434.    Elapsed: 0:01:18.\n",
            "  Batch   200  of  1,434.    Elapsed: 0:01:43.\n",
            "  Batch   250  of  1,434.    Elapsed: 0:02:09.\n",
            "  Batch   300  of  1,434.    Elapsed: 0:02:35.\n",
            "  Batch   350  of  1,434.    Elapsed: 0:03:00.\n",
            "  Batch   400  of  1,434.    Elapsed: 0:03:26.\n",
            "  Batch   450  of  1,434.    Elapsed: 0:03:52.\n",
            "  Batch   500  of  1,434.    Elapsed: 0:04:17.\n",
            "  Batch   550  of  1,434.    Elapsed: 0:04:43.\n",
            "  Batch   600  of  1,434.    Elapsed: 0:05:09.\n",
            "  Batch   650  of  1,434.    Elapsed: 0:05:34.\n",
            "  Batch   700  of  1,434.    Elapsed: 0:06:00.\n",
            "  Batch   750  of  1,434.    Elapsed: 0:06:26.\n",
            "  Batch   800  of  1,434.    Elapsed: 0:06:52.\n",
            "  Batch   850  of  1,434.    Elapsed: 0:07:17.\n",
            "  Batch   900  of  1,434.    Elapsed: 0:07:43.\n",
            "  Batch   950  of  1,434.    Elapsed: 0:08:09.\n",
            "  Batch 1,000  of  1,434.    Elapsed: 0:08:34.\n",
            "  Batch 1,050  of  1,434.    Elapsed: 0:09:00.\n",
            "  Batch 1,100  of  1,434.    Elapsed: 0:09:25.\n",
            "  Batch 1,150  of  1,434.    Elapsed: 0:09:51.\n",
            "  Batch 1,200  of  1,434.    Elapsed: 0:10:17.\n",
            "  Batch 1,250  of  1,434.    Elapsed: 0:10:43.\n",
            "  Batch 1,300  of  1,434.    Elapsed: 0:11:08.\n",
            "  Batch 1,350  of  1,434.    Elapsed: 0:11:34.\n",
            "  Batch 1,400  of  1,434.    Elapsed: 0:12:00.\n",
            "\n",
            "  Average training loss: 0.55\n",
            "  Training epcoh took: 0:12:17\n",
            "\n",
            "Running Validation...\n",
            "  Accuracy: 0.56\n",
            "  Validation Loss: 1.53\n",
            "  Validation took: 0:01:01\n",
            "\n",
            "======== Epoch 8 / 8 ========\n",
            "Training...\n",
            "\n",
            "  Step 0 GPU Memory Use:\n",
            "    Before forward-pass:  8653 MiB\n",
            "     After forward-pass:  8653 MiB\n",
            "    After gradient calculation:  8653 MiB\n",
            "\n",
            "  Step 1 GPU Memory Use:\n",
            "    Before forward-pass:  8653 MiB\n",
            "     After forward-pass:  8653 MiB\n",
            "    After gradient calculation:  8653 MiB\n",
            "  Batch    50  of  1,434.    Elapsed: 0:00:26.\n",
            "  Batch   100  of  1,434.    Elapsed: 0:00:52.\n",
            "  Batch   150  of  1,434.    Elapsed: 0:01:17.\n",
            "  Batch   200  of  1,434.    Elapsed: 0:01:43.\n",
            "  Batch   250  of  1,434.    Elapsed: 0:02:09.\n",
            "  Batch   300  of  1,434.    Elapsed: 0:02:35.\n",
            "  Batch   350  of  1,434.    Elapsed: 0:03:00.\n",
            "  Batch   400  of  1,434.    Elapsed: 0:03:26.\n",
            "  Batch   450  of  1,434.    Elapsed: 0:03:51.\n",
            "  Batch   500  of  1,434.    Elapsed: 0:04:17.\n",
            "  Batch   550  of  1,434.    Elapsed: 0:04:43.\n",
            "  Batch   600  of  1,434.    Elapsed: 0:05:09.\n",
            "  Batch   650  of  1,434.    Elapsed: 0:05:34.\n",
            "  Batch   700  of  1,434.    Elapsed: 0:06:00.\n",
            "  Batch   750  of  1,434.    Elapsed: 0:06:26.\n",
            "  Batch   800  of  1,434.    Elapsed: 0:06:51.\n",
            "  Batch   850  of  1,434.    Elapsed: 0:07:17.\n",
            "  Batch   900  of  1,434.    Elapsed: 0:07:43.\n",
            "  Batch   950  of  1,434.    Elapsed: 0:08:08.\n",
            "  Batch 1,000  of  1,434.    Elapsed: 0:08:34.\n",
            "  Batch 1,050  of  1,434.    Elapsed: 0:09:00.\n",
            "  Batch 1,100  of  1,434.    Elapsed: 0:09:25.\n",
            "  Batch 1,150  of  1,434.    Elapsed: 0:09:51.\n",
            "  Batch 1,200  of  1,434.    Elapsed: 0:10:17.\n",
            "  Batch 1,250  of  1,434.    Elapsed: 0:10:42.\n",
            "  Batch 1,300  of  1,434.    Elapsed: 0:11:08.\n",
            "  Batch 1,350  of  1,434.    Elapsed: 0:11:34.\n",
            "  Batch 1,400  of  1,434.    Elapsed: 0:11:59.\n",
            "\n",
            "  Average training loss: 0.46\n",
            "  Training epcoh took: 0:12:17\n",
            "\n",
            "Running Validation...\n",
            "  Accuracy: 0.57\n",
            "  Validation Loss: 1.58\n",
            "  Validation took: 0:01:01\n",
            "\n",
            "Training complete!\n"
          ],
          "name": "stdout"
        }
      ]
    },
    {
      "cell_type": "markdown",
      "metadata": {
        "id": "VQTvJ1vRP7u4"
      },
      "source": [
        "Training accuracy should always go up, or at least remain constant, with each additional training epoch. \n",
        "\n",
        "We see that the validation accuracy has *increased* and *remained constant*, hence our model is not over-fitting. "
      ]
    },
    {
      "cell_type": "code",
      "metadata": {
        "id": "6O_NbXFGMukX",
        "colab": {
          "base_uri": "https://localhost:8080/",
          "height": 328
        },
        "outputId": "cc24271b-4093-4867-b15a-9ec9f6b6f4c1"
      },
      "source": [
        "import pandas as pd\n",
        "\n",
        "# Create a DataFrame from our training statistics.\n",
        "df_stats = pd.DataFrame(data=training_stats)\n",
        "\n",
        "# Use the 'epoch' as the row index.\n",
        "df_stats = df_stats.set_index('epoch')\n",
        "\n",
        "# A hack to force the column headers to wrap.\n",
        "#df = df.style.set_table_styles([dict(selector=\"th\",props=[('max-width', '50px')])])\n",
        "\n",
        "# Display floats with two decimal places.\n",
        "pd.set_option('precision', 2)\n",
        "\n",
        "# Display the table.\n",
        "df_stats"
      ],
      "execution_count": null,
      "outputs": [
        {
          "output_type": "execute_result",
          "data": {
            "text/html": [
              "<div>\n",
              "<style scoped>\n",
              "    .dataframe tbody tr th:only-of-type {\n",
              "        vertical-align: middle;\n",
              "    }\n",
              "\n",
              "    .dataframe tbody tr th {\n",
              "        vertical-align: top;\n",
              "    }\n",
              "\n",
              "    .dataframe thead th {\n",
              "        text-align: right;\n",
              "    }\n",
              "</style>\n",
              "<table border=\"1\" class=\"dataframe\">\n",
              "  <thead>\n",
              "    <tr style=\"text-align: right;\">\n",
              "      <th></th>\n",
              "      <th>Training Loss</th>\n",
              "      <th>Valid. Loss</th>\n",
              "      <th>Valid. Accur.</th>\n",
              "      <th>Training Time</th>\n",
              "      <th>Validation Time</th>\n",
              "    </tr>\n",
              "    <tr>\n",
              "      <th>epoch</th>\n",
              "      <th></th>\n",
              "      <th></th>\n",
              "      <th></th>\n",
              "      <th></th>\n",
              "      <th></th>\n",
              "    </tr>\n",
              "  </thead>\n",
              "  <tbody>\n",
              "    <tr>\n",
              "      <th>1</th>\n",
              "      <td>1.70</td>\n",
              "      <td>1.64</td>\n",
              "      <td>0.30</td>\n",
              "      <td>0:12:18</td>\n",
              "      <td>0:01:01</td>\n",
              "    </tr>\n",
              "    <tr>\n",
              "      <th>2</th>\n",
              "      <td>1.56</td>\n",
              "      <td>1.56</td>\n",
              "      <td>0.34</td>\n",
              "      <td>0:12:17</td>\n",
              "      <td>0:01:01</td>\n",
              "    </tr>\n",
              "    <tr>\n",
              "      <th>3</th>\n",
              "      <td>1.34</td>\n",
              "      <td>1.50</td>\n",
              "      <td>0.40</td>\n",
              "      <td>0:12:17</td>\n",
              "      <td>0:01:00</td>\n",
              "    </tr>\n",
              "    <tr>\n",
              "      <th>4</th>\n",
              "      <td>1.08</td>\n",
              "      <td>1.48</td>\n",
              "      <td>0.47</td>\n",
              "      <td>0:12:16</td>\n",
              "      <td>0:01:00</td>\n",
              "    </tr>\n",
              "    <tr>\n",
              "      <th>5</th>\n",
              "      <td>0.86</td>\n",
              "      <td>1.49</td>\n",
              "      <td>0.50</td>\n",
              "      <td>0:12:17</td>\n",
              "      <td>0:01:00</td>\n",
              "    </tr>\n",
              "    <tr>\n",
              "      <th>6</th>\n",
              "      <td>0.68</td>\n",
              "      <td>1.47</td>\n",
              "      <td>0.54</td>\n",
              "      <td>0:12:18</td>\n",
              "      <td>0:01:01</td>\n",
              "    </tr>\n",
              "    <tr>\n",
              "      <th>7</th>\n",
              "      <td>0.55</td>\n",
              "      <td>1.53</td>\n",
              "      <td>0.56</td>\n",
              "      <td>0:12:17</td>\n",
              "      <td>0:01:01</td>\n",
              "    </tr>\n",
              "    <tr>\n",
              "      <th>8</th>\n",
              "      <td>0.46</td>\n",
              "      <td>1.58</td>\n",
              "      <td>0.57</td>\n",
              "      <td>0:12:17</td>\n",
              "      <td>0:01:01</td>\n",
              "    </tr>\n",
              "  </tbody>\n",
              "</table>\n",
              "</div>"
            ],
            "text/plain": [
              "       Training Loss  Valid. Loss  Valid. Accur. Training Time Validation Time\n",
              "epoch                                                                         \n",
              "1               1.70         1.64           0.30       0:12:18         0:01:01\n",
              "2               1.56         1.56           0.34       0:12:17         0:01:01\n",
              "3               1.34         1.50           0.40       0:12:17         0:01:00\n",
              "4               1.08         1.48           0.47       0:12:16         0:01:00\n",
              "5               0.86         1.49           0.50       0:12:17         0:01:00\n",
              "6               0.68         1.47           0.54       0:12:18         0:01:01\n",
              "7               0.55         1.53           0.56       0:12:17         0:01:01\n",
              "8               0.46         1.58           0.57       0:12:17         0:01:01"
            ]
          },
          "metadata": {
            "tags": []
          },
          "execution_count": 77
        }
      ]
    },
    {
      "cell_type": "markdown",
      "metadata": {
        "id": "wC64axhF0_aQ"
      },
      "source": [
        "Let's take a look at our training loss over all epochs:"
      ]
    },
    {
      "cell_type": "code",
      "metadata": {
        "id": "kOx9lsfm0_aR",
        "colab": {
          "base_uri": "https://localhost:8080/",
          "height": 427
        },
        "outputId": "65db76cb-7755-4c46-e036-06d422d56ae1"
      },
      "source": [
        "import matplotlib.pyplot as plt\n",
        "% matplotlib inline\n",
        "\n",
        "import seaborn as sns\n",
        "\n",
        "# Use plot styling from seaborn.\n",
        "sns.set(style='darkgrid')\n",
        "\n",
        "# Increase the plot size and font size.\n",
        "sns.set(font_scale=1.5)\n",
        "plt.rcParams[\"figure.figsize\"] = (12,6)\n",
        "\n",
        "# Plot the learning curve.\n",
        "plt.plot(df_stats['Training Loss'], 'b-o', label=\"Training\")\n",
        "plt.plot(df_stats['Valid. Loss'], 'g-o', label=\"Validation\")\n",
        "\n",
        "# Label the plot.\n",
        "plt.title(\"Training & Validation loss\")\n",
        "plt.xlabel(\"Epoch\")\n",
        "plt.ylabel(\"Loss\")\n",
        "plt.legend()\n",
        "plt.xticks([1, 2, 3, 4, 5, 6, 7, 8])\n",
        "\n",
        "plt.show()"
      ],
      "execution_count": null,
      "outputs": [
        {
          "output_type": "display_data",
          "data": {
            "image/png": "[encoded data removed]",
            "text/plain": [
              "<Figure size 864x432 with 1 Axes>"
            ]
          },
          "metadata": {
            "tags": []
          }
        }
      ]
    },
    {
      "cell_type": "markdown",
      "metadata": {
        "id": "-ovoUEt8y7YS"
      },
      "source": [
        "We do appear to be severely over-fitting from the third epoch."
      ]
    },
    {
      "cell_type": "markdown",
      "metadata": {
        "id": "HDNPfN7qSfAY"
      },
      "source": [
        "# Part III - Performance & Analysis"
      ]
    },
    {
      "cell_type": "markdown",
      "metadata": {
        "id": "mkyubuJSOzg3"
      },
      "source": [
        "## S8. Performance On Test Set"
      ]
    },
    {
      "cell_type": "markdown",
      "metadata": {
        "id": "huAaDukC1Orh"
      },
      "source": [
        "### 8.1. Baseline Implementation"
      ]
    },
    {
      "cell_type": "markdown",
      "metadata": {
        "id": "TELGvAm56e0T"
      },
      "source": [
        "\n",
        "The quick summary:\n",
        "* It uses `tf-idf` for vectorization.\n",
        "* It uses `multinomial naive bayes` for classification.\n"
      ]
    },
    {
      "cell_type": "code",
      "metadata": {
        "id": "bcGu2FTQ1S7w",
        "colab": {
          "base_uri": "https://localhost:8080/"
        },
        "outputId": "d009be5e-1bae-4b0f-bf96-814b95ef4639"
      },
      "source": [
        "from sklearn.feature_extraction.text import TfidfVectorizer\n",
        "from sklearn.naive_bayes import MultinomialNB\n",
        "from sklearn import metrics\n",
        "\n",
        "# Rename our dataset variables to be consistent with the example.\n",
        "liar_liar_train = train\n",
        "liar_liar_test = test\n",
        "\n",
        "# Vectorize the text using tf-idf.\n",
        "vectorizer = TfidfVectorizer()\n",
        "\n",
        "# Before we can vectorize the text, the tf-idf model needs\n",
        "# to analyze the dataset to build a vocabulary and word counts.\n",
        "print('Analyzing dataset for tf-idf...\\n')\n",
        "vectorizer.fit(liar_liar_train.data)\n",
        "\n",
        "# Convert the text samples into tf-idf vectors.\n",
        "print('Vectorizing the text samples...\\n')\n",
        "vectors_train = vectorizer.transform(liar_liar_train.data)\n",
        "vectors_test = vectorizer.transform(liar_liar_test.data)\n",
        "\n",
        "print('{:>6,} train samples with {:<7,} features.'.format(vectors_train.shape[0], vectors_train.shape[1]))\n",
        "print('{:>6,}  test samples with {:<7,} features.'.format(vectors_test.shape[0], vectors_test.shape[1]))"
      ],
      "execution_count": null,
      "outputs": [
        {
          "output_type": "stream",
          "text": [
            "Analyzing dataset for tf-idf...\n",
            "\n",
            "Vectorizing the text samples...\n",
            "\n",
            "28,679 train samples with 37,671  features.\n",
            " 1,267  test samples with 37,671  features.\n"
          ],
          "name": "stdout"
        }
      ]
    },
    {
      "cell_type": "code",
      "metadata": {
        "id": "Mvutv2D53bJo",
        "colab": {
          "base_uri": "https://localhost:8080/"
        },
        "outputId": "f97d3a41-0e35-48ea-c08b-e8d4990bdba3"
      },
      "source": [
        "# Following the example, we'll use a \"multinomial Naive Bayes\" classifier.\n",
        "clf = MultinomialNB(alpha=.01)\n",
        "\n",
        "# Train the classifier on the training set.\n",
        "print('Training the Naive Bays classifier...\\n')\n",
        "clf.fit(vectors_train, liar_liar_train.target)\n",
        "\n",
        "# Run prediction on the test set.\n",
        "print('Predicting labels for the test set...\\n')\n",
        "pred = clf.predict(vectors_test)\n",
        "\n",
        "# Use the F1 metric to score our classifier's performance on the test set.\n",
        "score = metrics.f1_score(liar_liar_test.target, pred, average='macro')\n",
        "\n",
        "# Print the F1 score!\n",
        "print('F1 score: {:.3}'.format(score))"
      ],
      "execution_count": null,
      "outputs": [
        {
          "output_type": "stream",
          "text": [
            "Training the Naive Bays classifier...\n",
            "\n",
            "Predicting labels for the test set...\n",
            "\n",
            "F1 score: 0.462\n"
          ],
          "name": "stdout"
        }
      ]
    },
    {
      "cell_type": "markdown",
      "metadata": {
        "id": "16lctEOyNFik"
      },
      "source": [
        "### 8.2. Evaluate BERT on Test Set\n"
      ]
    },
    {
      "cell_type": "markdown",
      "metadata": {
        "id": "rhR99IISNMg9"
      },
      "source": [
        "\n",
        "Now we can apply our fine-tuned BERT model to generate predictions on the test set."
      ]
    },
    {
      "cell_type": "code",
      "metadata": {
        "id": "Hba10sXR7Xi6",
        "colab": {
          "base_uri": "https://localhost:8080/"
        },
        "outputId": "5de9103d-e888-4a41-b605-b0c9dd781696"
      },
      "source": [
        "# Create the DataLoaders.\n",
        "\n",
        "# Combine the features into a dataset object.\n",
        "test_data = TensorDataset(test_input_ids, test_attention_masks, test_labels)\n",
        "print(test_labels)\n",
        "# Create a sequential sampler--no need to randomize the order!\n",
        "test_sampler = SequentialSampler(test_data)\n",
        "\n",
        "# Create the data loader.\n",
        "test_dataloader = DataLoader(test_data, sampler=test_sampler, batch_size=batch_size)\n",
        "\n",
        "\n",
        "# Predict labels for all test set examples.\n",
        "\n",
        "print('Predicting labels for {:,} test comments...'.format(len(test_input_ids)))\n",
        "\n",
        "# Put model in evaluation mode\n",
        "model.eval()\n",
        "\n",
        "# Tracking variables \n",
        "predictions , true_labels = [], []\n",
        "\n",
        "# Measure elapsed time.\n",
        "t0 = time.time()\n",
        "\n",
        "# Predict \n",
        "for (step, batch) in enumerate(test_dataloader):\n",
        "    \n",
        "    # Add batch to GPU\n",
        "    batch = tuple(t.to(device) for t in batch)\n",
        "  \n",
        "    # Progress update every 50 batches.\n",
        "    if step % 50 == 0 and not step == 0:\n",
        "        # Calculate elapsed time in minutes.\n",
        "        elapsed = format_time(time.time() - t0)\n",
        "        \n",
        "        # Report progress.\n",
        "        print('  Batch {:>5,}  of  {:>5,}.    Elapsed: {:}.'.format(step, len(test_dataloader), elapsed))\n",
        "\n",
        "\n",
        "    # Unpack the inputs from our dataloader\n",
        "    b_input_ids, b_input_mask, b_labels = batch\n",
        "  \n",
        "    # Telling the model not to compute or store the compute graph, saving memory\n",
        "    # and speeding up prediction\n",
        "    with torch.no_grad():\n",
        "        # Forward pass, calculate logit predictions\n",
        "        b_input_ids = torch.tensor(b_input_ids).to(device).long()\n",
        "        outputs = model(b_input_ids, token_type_ids=None, \n",
        "                        attention_mask=b_input_mask)\n",
        "\n",
        "    logits = outputs[0]\n",
        "    \n",
        "\n",
        "    # Move logits and labels to CPU\n",
        "    logits = logits.detach().cpu().numpy()\n",
        "    label_ids = b_labels.to('cpu').numpy()\n",
        "  \n",
        "    # Store predictions and true labels\n",
        "    # print(logits.astype(int))\n",
        "    predictions.append(logits)\n",
        "    # print(predictions)\n",
        "    true_labels.append(label_ids)\n",
        "\n",
        "print('    DONE.')"
      ],
      "execution_count": null,
      "outputs": [
        {
          "output_type": "stream",
          "text": [
            "tensor([0, 4, 4,  ..., 2, 2, 4])\n",
            "Predicting labels for 1,267 test comments...\n"
          ],
          "name": "stdout"
        },
        {
          "output_type": "stream",
          "text": [
            "/usr/local/lib/python3.6/dist-packages/ipykernel_launcher.py:48: UserWarning: To copy construct from a tensor, it is recommended to use sourceTensor.clone().detach() or sourceTensor.clone().detach().requires_grad_(True), rather than torch.tensor(sourceTensor).\n"
          ],
          "name": "stderr"
        },
        {
          "output_type": "stream",
          "text": [
            "  Batch    50  of     80.    Elapsed: 0:00:08.\n",
            "    DONE.\n"
          ],
          "name": "stdout"
        }
      ]
    },
    {
      "cell_type": "markdown",
      "metadata": {
        "id": "JrBswmqmyH5m"
      },
      "source": [
        "To turn our model outputs into actual predictions, we need to:\n",
        "\n",
        "1. Re-combine the predictions from across all of the batches.\n",
        "2. Pick a class label for each prediction by choosing the class with the highest output value."
      ]
    },
    {
      "cell_type": "code",
      "metadata": {
        "id": "WlBi2hc-IuVu",
        "colab": {
          "base_uri": "https://localhost:8080/"
        },
        "outputId": "2fbc8ac2-2ec7-477f-d2f9-4b081aa4321d"
      },
      "source": [
        "# Combine the results across the batches.\n",
        "predictions = np.concatenate(predictions, axis=0)\n",
        "true_labels = np.concatenate(true_labels, axis=0)\n",
        "\n",
        "# Take the highest scoring output as the predicted label.\n",
        "predicted_labels = np.argmax(predictions, axis=1)\n",
        "\n",
        "\n",
        "print('`predictions` has shape', predictions.shape)\n",
        "print('`predicted_labels` has shape', predicted_labels.shape)\n"
      ],
      "execution_count": null,
      "outputs": [
        {
          "output_type": "stream",
          "text": [
            "`predictions` has shape (1267, 6)\n",
            "`predicted_labels` has shape (1267,)\n"
          ],
          "name": "stdout"
        }
      ]
    },
    {
      "cell_type": "markdown",
      "metadata": {
        "id": "yMVyXXHlr2pt"
      },
      "source": [
        "Let's peek at the model's outputs for the first 10 test samples, along with the correct labels for each."
      ]
    },
    {
      "cell_type": "code",
      "metadata": {
        "id": "_mjLBPw_LIE0",
        "colab": {
          "base_uri": "https://localhost:8080/"
        },
        "outputId": "ee50e348-42c6-47b5-ff19-ebb3b0df9323"
      },
      "source": [
        "# Reduce printing precision for legibility.\n",
        "np.set_printoptions(precision=2)\n",
        "\n",
        "print(\"Predicted:\", str(predicted_labels[0:10]))\n",
        "print(\"  Correct:\", str(true_labels[0:10]))"
      ],
      "execution_count": null,
      "outputs": [
        {
          "output_type": "stream",
          "text": [
            "Predicted: [0 4 4 3 2 0 0 2 0 2]\n",
            "  Correct: [0 4 4 3 5 0 0 2 0 2]\n"
          ],
          "name": "stdout"
        }
      ]
    },
    {
      "cell_type": "markdown",
      "metadata": {
        "id": "T3_xUMQEy2nC"
      },
      "source": [
        "The metric for the Liar Liar dataset used by the scikit-learn example is the F1 score. Let's see how BERT performed!"
      ]
    },
    {
      "cell_type": "code",
      "metadata": {
        "id": "TAm_DiwRD6e5",
        "colab": {
          "base_uri": "https://localhost:8080/"
        },
        "outputId": "a00434af-7118-4f56-fe3c-591f1c2c5eef"
      },
      "source": [
        "from sklearn import metrics\n",
        "\n",
        "# Use the F1 metric to score our classifier's performance on the test set.\n",
        "score = metrics.f1_score(true_labels, predicted_labels, average='macro')\n",
        "\n",
        "# Print the F1 score!\n",
        "print('F1 score: {:.3}'.format(score))"
      ],
      "execution_count": null,
      "outputs": [
        {
          "output_type": "stream",
          "text": [
            "F1 score: 0.589\n"
          ],
          "name": "stdout"
        }
      ]
    },
    {
      "cell_type": "markdown",
      "metadata": {
        "id": "WrMJKgif08iu"
      },
      "source": [
        "# Conclusion\n",
        "\n",
        "At this point, we have the following F1 scores:\n",
        "\n",
        "* Naive Bayes: `0.46`\n",
        "* BERT:  `0.59`\n",
        "\n",
        "Hence by adding the truth history to the Liar Liar Dataset , Performing distillation and scraping politifact data, The F1 score has drastically increased compared to the previous F1 Score trained without the truth history\n",
        "We've outperformed the baseline! "
      ]
    },
    {
      "cell_type": "code",
      "metadata": {
        "id": "mgOmKP-Pc5Td",
        "colab": {
          "base_uri": "https://localhost:8080/"
        },
        "outputId": "89d15958-3568-49e5-9a81-3ac0e3a7493d"
      },
      "source": [
        "print(model)"
      ],
      "execution_count": null,
      "outputs": [
        {
          "output_type": "stream",
          "text": [
            "BertForSequenceClassification(\n",
            "  (bert): BertModel(\n",
            "    (embeddings): BertEmbeddings(\n",
            "      (word_embeddings): Embedding(30522, 768, padding_idx=0)\n",
            "      (position_embeddings): Embedding(512, 768)\n",
            "      (token_type_embeddings): Embedding(2, 768)\n",
            "      (LayerNorm): LayerNorm((768,), eps=1e-12, elementwise_affine=True)\n",
            "      (dropout): Dropout(p=0.1, inplace=False)\n",
            "    )\n",
            "    (encoder): BertEncoder(\n",
            "      (layer): ModuleList(\n",
            "        (0): BertLayer(\n",
            "          (attention): BertAttention(\n",
            "            (self): BertSelfAttention(\n",
            "              (query): Linear(in_features=768, out_features=768, bias=True)\n",
            "              (key): Linear(in_features=768, out_features=768, bias=True)\n",
            "              (value): Linear(in_features=768, out_features=768, bias=True)\n",
            "              (dropout): Dropout(p=0.1, inplace=False)\n",
            "            )\n",
            "            (output): BertSelfOutput(\n",
            "              (dense): Linear(in_features=768, out_features=768, bias=True)\n",
            "              (LayerNorm): LayerNorm((768,), eps=1e-12, elementwise_affine=True)\n",
            "              (dropout): Dropout(p=0.1, inplace=False)\n",
            "            )\n",
            "          )\n",
            "          (intermediate): BertIntermediate(\n",
            "            (dense): Linear(in_features=768, out_features=3072, bias=True)\n",
            "          )\n",
            "          (output): BertOutput(\n",
            "            (dense): Linear(in_features=3072, out_features=768, bias=True)\n",
            "            (LayerNorm): LayerNorm((768,), eps=1e-12, elementwise_affine=True)\n",
            "            (dropout): Dropout(p=0.1, inplace=False)\n",
            "          )\n",
            "        )\n",
            "        (1): BertLayer(\n",
            "          (attention): BertAttention(\n",
            "            (self): BertSelfAttention(\n",
            "              (query): Linear(in_features=768, out_features=768, bias=True)\n",
            "              (key): Linear(in_features=768, out_features=768, bias=True)\n",
            "              (value): Linear(in_features=768, out_features=768, bias=True)\n",
            "              (dropout): Dropout(p=0.1, inplace=False)\n",
            "            )\n",
            "            (output): BertSelfOutput(\n",
            "              (dense): Linear(in_features=768, out_features=768, bias=True)\n",
            "              (LayerNorm): LayerNorm((768,), eps=1e-12, elementwise_affine=True)\n",
            "              (dropout): Dropout(p=0.1, inplace=False)\n",
            "            )\n",
            "          )\n",
            "          (intermediate): BertIntermediate(\n",
            "            (dense): Linear(in_features=768, out_features=3072, bias=True)\n",
            "          )\n",
            "          (output): BertOutput(\n",
            "            (dense): Linear(in_features=3072, out_features=768, bias=True)\n",
            "            (LayerNorm): LayerNorm((768,), eps=1e-12, elementwise_affine=True)\n",
            "            (dropout): Dropout(p=0.1, inplace=False)\n",
            "          )\n",
            "        )\n",
            "        (2): BertLayer(\n",
            "          (attention): BertAttention(\n",
            "            (self): BertSelfAttention(\n",
            "              (query): Linear(in_features=768, out_features=768, bias=True)\n",
            "              (key): Linear(in_features=768, out_features=768, bias=True)\n",
            "              (value): Linear(in_features=768, out_features=768, bias=True)\n",
            "              (dropout): Dropout(p=0.1, inplace=False)\n",
            "            )\n",
            "            (output): BertSelfOutput(\n",
            "              (dense): Linear(in_features=768, out_features=768, bias=True)\n",
            "              (LayerNorm): LayerNorm((768,), eps=1e-12, elementwise_affine=True)\n",
            "              (dropout): Dropout(p=0.1, inplace=False)\n",
            "            )\n",
            "          )\n",
            "          (intermediate): BertIntermediate(\n",
            "            (dense): Linear(in_features=768, out_features=3072, bias=True)\n",
            "          )\n",
            "          (output): BertOutput(\n",
            "            (dense): Linear(in_features=3072, out_features=768, bias=True)\n",
            "            (LayerNorm): LayerNorm((768,), eps=1e-12, elementwise_affine=True)\n",
            "            (dropout): Dropout(p=0.1, inplace=False)\n",
            "          )\n",
            "        )\n",
            "        (3): BertLayer(\n",
            "          (attention): BertAttention(\n",
            "            (self): BertSelfAttention(\n",
            "              (query): Linear(in_features=768, out_features=768, bias=True)\n",
            "              (key): Linear(in_features=768, out_features=768, bias=True)\n",
            "              (value): Linear(in_features=768, out_features=768, bias=True)\n",
            "              (dropout): Dropout(p=0.1, inplace=False)\n",
            "            )\n",
            "            (output): BertSelfOutput(\n",
            "              (dense): Linear(in_features=768, out_features=768, bias=True)\n",
            "              (LayerNorm): LayerNorm((768,), eps=1e-12, elementwise_affine=True)\n",
            "              (dropout): Dropout(p=0.1, inplace=False)\n",
            "            )\n",
            "          )\n",
            "          (intermediate): BertIntermediate(\n",
            "            (dense): Linear(in_features=768, out_features=3072, bias=True)\n",
            "          )\n",
            "          (output): BertOutput(\n",
            "            (dense): Linear(in_features=3072, out_features=768, bias=True)\n",
            "            (LayerNorm): LayerNorm((768,), eps=1e-12, elementwise_affine=True)\n",
            "            (dropout): Dropout(p=0.1, inplace=False)\n",
            "          )\n",
            "        )\n",
            "        (4): BertLayer(\n",
            "          (attention): BertAttention(\n",
            "            (self): BertSelfAttention(\n",
            "              (query): Linear(in_features=768, out_features=768, bias=True)\n",
            "              (key): Linear(in_features=768, out_features=768, bias=True)\n",
            "              (value): Linear(in_features=768, out_features=768, bias=True)\n",
            "              (dropout): Dropout(p=0.1, inplace=False)\n",
            "            )\n",
            "            (output): BertSelfOutput(\n",
            "              (dense): Linear(in_features=768, out_features=768, bias=True)\n",
            "              (LayerNorm): LayerNorm((768,), eps=1e-12, elementwise_affine=True)\n",
            "              (dropout): Dropout(p=0.1, inplace=False)\n",
            "            )\n",
            "          )\n",
            "          (intermediate): BertIntermediate(\n",
            "            (dense): Linear(in_features=768, out_features=3072, bias=True)\n",
            "          )\n",
            "          (output): BertOutput(\n",
            "            (dense): Linear(in_features=3072, out_features=768, bias=True)\n",
            "            (LayerNorm): LayerNorm((768,), eps=1e-12, elementwise_affine=True)\n",
            "            (dropout): Dropout(p=0.1, inplace=False)\n",
            "          )\n",
            "        )\n",
            "        (5): BertLayer(\n",
            "          (attention): BertAttention(\n",
            "            (self): BertSelfAttention(\n",
            "              (query): Linear(in_features=768, out_features=768, bias=True)\n",
            "              (key): Linear(in_features=768, out_features=768, bias=True)\n",
            "              (value): Linear(in_features=768, out_features=768, bias=True)\n",
            "              (dropout): Dropout(p=0.1, inplace=False)\n",
            "            )\n",
            "            (output): BertSelfOutput(\n",
            "              (dense): Linear(in_features=768, out_features=768, bias=True)\n",
            "              (LayerNorm): LayerNorm((768,), eps=1e-12, elementwise_affine=True)\n",
            "              (dropout): Dropout(p=0.1, inplace=False)\n",
            "            )\n",
            "          )\n",
            "          (intermediate): BertIntermediate(\n",
            "            (dense): Linear(in_features=768, out_features=3072, bias=True)\n",
            "          )\n",
            "          (output): BertOutput(\n",
            "            (dense): Linear(in_features=3072, out_features=768, bias=True)\n",
            "            (LayerNorm): LayerNorm((768,), eps=1e-12, elementwise_affine=True)\n",
            "            (dropout): Dropout(p=0.1, inplace=False)\n",
            "          )\n",
            "        )\n",
            "        (6): BertLayer(\n",
            "          (attention): BertAttention(\n",
            "            (self): BertSelfAttention(\n",
            "              (query): Linear(in_features=768, out_features=768, bias=True)\n",
            "              (key): Linear(in_features=768, out_features=768, bias=True)\n",
            "              (value): Linear(in_features=768, out_features=768, bias=True)\n",
            "              (dropout): Dropout(p=0.1, inplace=False)\n",
            "            )\n",
            "            (output): BertSelfOutput(\n",
            "              (dense): Linear(in_features=768, out_features=768, bias=True)\n",
            "              (LayerNorm): LayerNorm((768,), eps=1e-12, elementwise_affine=True)\n",
            "              (dropout): Dropout(p=0.1, inplace=False)\n",
            "            )\n",
            "          )\n",
            "          (intermediate): BertIntermediate(\n",
            "            (dense): Linear(in_features=768, out_features=3072, bias=True)\n",
            "          )\n",
            "          (output): BertOutput(\n",
            "            (dense): Linear(in_features=3072, out_features=768, bias=True)\n",
            "            (LayerNorm): LayerNorm((768,), eps=1e-12, elementwise_affine=True)\n",
            "            (dropout): Dropout(p=0.1, inplace=False)\n",
            "          )\n",
            "        )\n",
            "        (7): BertLayer(\n",
            "          (attention): BertAttention(\n",
            "            (self): BertSelfAttention(\n",
            "              (query): Linear(in_features=768, out_features=768, bias=True)\n",
            "              (key): Linear(in_features=768, out_features=768, bias=True)\n",
            "              (value): Linear(in_features=768, out_features=768, bias=True)\n",
            "              (dropout): Dropout(p=0.1, inplace=False)\n",
            "            )\n",
            "            (output): BertSelfOutput(\n",
            "              (dense): Linear(in_features=768, out_features=768, bias=True)\n",
            "              (LayerNorm): LayerNorm((768,), eps=1e-12, elementwise_affine=True)\n",
            "              (dropout): Dropout(p=0.1, inplace=False)\n",
            "            )\n",
            "          )\n",
            "          (intermediate): BertIntermediate(\n",
            "            (dense): Linear(in_features=768, out_features=3072, bias=True)\n",
            "          )\n",
            "          (output): BertOutput(\n",
            "            (dense): Linear(in_features=3072, out_features=768, bias=True)\n",
            "            (LayerNorm): LayerNorm((768,), eps=1e-12, elementwise_affine=True)\n",
            "            (dropout): Dropout(p=0.1, inplace=False)\n",
            "          )\n",
            "        )\n",
            "        (8): BertLayer(\n",
            "          (attention): BertAttention(\n",
            "            (self): BertSelfAttention(\n",
            "              (query): Linear(in_features=768, out_features=768, bias=True)\n",
            "              (key): Linear(in_features=768, out_features=768, bias=True)\n",
            "              (value): Linear(in_features=768, out_features=768, bias=True)\n",
            "              (dropout): Dropout(p=0.1, inplace=False)\n",
            "            )\n",
            "            (output): BertSelfOutput(\n",
            "              (dense): Linear(in_features=768, out_features=768, bias=True)\n",
            "              (LayerNorm): LayerNorm((768,), eps=1e-12, elementwise_affine=True)\n",
            "              (dropout): Dropout(p=0.1, inplace=False)\n",
            "            )\n",
            "          )\n",
            "          (intermediate): BertIntermediate(\n",
            "            (dense): Linear(in_features=768, out_features=3072, bias=True)\n",
            "          )\n",
            "          (output): BertOutput(\n",
            "            (dense): Linear(in_features=3072, out_features=768, bias=True)\n",
            "            (LayerNorm): LayerNorm((768,), eps=1e-12, elementwise_affine=True)\n",
            "            (dropout): Dropout(p=0.1, inplace=False)\n",
            "          )\n",
            "        )\n",
            "        (9): BertLayer(\n",
            "          (attention): BertAttention(\n",
            "            (self): BertSelfAttention(\n",
            "              (query): Linear(in_features=768, out_features=768, bias=True)\n",
            "              (key): Linear(in_features=768, out_features=768, bias=True)\n",
            "              (value): Linear(in_features=768, out_features=768, bias=True)\n",
            "              (dropout): Dropout(p=0.1, inplace=False)\n",
            "            )\n",
            "            (output): BertSelfOutput(\n",
            "              (dense): Linear(in_features=768, out_features=768, bias=True)\n",
            "              (LayerNorm): LayerNorm((768,), eps=1e-12, elementwise_affine=True)\n",
            "              (dropout): Dropout(p=0.1, inplace=False)\n",
            "            )\n",
            "          )\n",
            "          (intermediate): BertIntermediate(\n",
            "            (dense): Linear(in_features=768, out_features=3072, bias=True)\n",
            "          )\n",
            "          (output): BertOutput(\n",
            "            (dense): Linear(in_features=3072, out_features=768, bias=True)\n",
            "            (LayerNorm): LayerNorm((768,), eps=1e-12, elementwise_affine=True)\n",
            "            (dropout): Dropout(p=0.1, inplace=False)\n",
            "          )\n",
            "        )\n",
            "        (10): BertLayer(\n",
            "          (attention): BertAttention(\n",
            "            (self): BertSelfAttention(\n",
            "              (query): Linear(in_features=768, out_features=768, bias=True)\n",
            "              (key): Linear(in_features=768, out_features=768, bias=True)\n",
            "              (value): Linear(in_features=768, out_features=768, bias=True)\n",
            "              (dropout): Dropout(p=0.1, inplace=False)\n",
            "            )\n",
            "            (output): BertSelfOutput(\n",
            "              (dense): Linear(in_features=768, out_features=768, bias=True)\n",
            "              (LayerNorm): LayerNorm((768,), eps=1e-12, elementwise_affine=True)\n",
            "              (dropout): Dropout(p=0.1, inplace=False)\n",
            "            )\n",
            "          )\n",
            "          (intermediate): BertIntermediate(\n",
            "            (dense): Linear(in_features=768, out_features=3072, bias=True)\n",
            "          )\n",
            "          (output): BertOutput(\n",
            "            (dense): Linear(in_features=3072, out_features=768, bias=True)\n",
            "            (LayerNorm): LayerNorm((768,), eps=1e-12, elementwise_affine=True)\n",
            "            (dropout): Dropout(p=0.1, inplace=False)\n",
            "          )\n",
            "        )\n",
            "        (11): BertLayer(\n",
            "          (attention): BertAttention(\n",
            "            (self): BertSelfAttention(\n",
            "              (query): Linear(in_features=768, out_features=768, bias=True)\n",
            "              (key): Linear(in_features=768, out_features=768, bias=True)\n",
            "              (value): Linear(in_features=768, out_features=768, bias=True)\n",
            "              (dropout): Dropout(p=0.1, inplace=False)\n",
            "            )\n",
            "            (output): BertSelfOutput(\n",
            "              (dense): Linear(in_features=768, out_features=768, bias=True)\n",
            "              (LayerNorm): LayerNorm((768,), eps=1e-12, elementwise_affine=True)\n",
            "              (dropout): Dropout(p=0.1, inplace=False)\n",
            "            )\n",
            "          )\n",
            "          (intermediate): BertIntermediate(\n",
            "            (dense): Linear(in_features=768, out_features=3072, bias=True)\n",
            "          )\n",
            "          (output): BertOutput(\n",
            "            (dense): Linear(in_features=3072, out_features=768, bias=True)\n",
            "            (LayerNorm): LayerNorm((768,), eps=1e-12, elementwise_affine=True)\n",
            "            (dropout): Dropout(p=0.1, inplace=False)\n",
            "          )\n",
            "        )\n",
            "      )\n",
            "    )\n",
            "    (pooler): BertPooler(\n",
            "      (dense): Linear(in_features=768, out_features=768, bias=True)\n",
            "      (activation): Tanh()\n",
            "    )\n",
            "  )\n",
            "  (dropout): Dropout(p=0.1, inplace=False)\n",
            "  (classifier): Linear(in_features=768, out_features=6, bias=True)\n",
            ")\n"
          ],
          "name": "stdout"
        }
      ]
    },
    {
      "cell_type": "markdown",
      "metadata": {
        "id": "iGnHb-0KcKRu"
      },
      "source": [
        "# Saving the model"
      ]
    },
    {
      "cell_type": "code",
      "metadata": {
        "id": "vlvpL94RfeYl",
        "colab": {
          "base_uri": "https://localhost:8080/"
        },
        "outputId": "b06b3cf5-1f1c-44ce-b380-33544a561e45"
      },
      "source": [
        "from google.colab import drive\n",
        "drive.mount('/content/drive')"
      ],
      "execution_count": null,
      "outputs": [
        {
          "output_type": "stream",
          "text": [
            "Mounted at /content/drive\n"
          ],
          "name": "stdout"
        }
      ]
    },
    {
      "cell_type": "code",
      "metadata": {
        "id": "DOyFno5HcKLQ"
      },
      "source": [
        "output_dir = model.save_pretrained('./saved_model_new/')\n"
      ],
      "execution_count": null,
      "outputs": []
    },
    {
      "cell_type": "code",
      "metadata": {
        "id": "7Z1J8yxnhpYl"
      },
      "source": [
        "output_dir = tokenizer.save_pretrained('./saved_model_new/')"
      ],
      "execution_count": null,
      "outputs": []
    }
  ]
}